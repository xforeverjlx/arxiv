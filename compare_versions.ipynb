{
 "cells": [
  {
   "cell_type": "code",
   "execution_count": 94,
   "metadata": {},
   "outputs": [
    {
     "name": "stdout",
     "output_type": "stream",
     "text": [
      "train 203019\n",
      "test 50576\n"
     ]
    }
   ],
   "source": [
    "import json\n",
    "\n",
    "import matplotlib.pyplot as plt\n",
    "import pandas as pd\n",
    "\n",
    "versions = pd.DataFrame(columns=['cat', 'count', 'train', 'major', 'data_type'])\n",
    "for split in [\"train\", 'test']:\n",
    "  count = 0\n",
    "  for cat_type in [\"major\", \"minor\"]:\n",
    "    for data in ['prime','major', 'abs_cat']:\n",
    "      my_dict = json.load(open(\"versions/\"+\"_\".join([split, cat_type, data])+\".txt\"))\n",
    "      count += sum(my_dict.values())\n",
    "      temp_versions = pd.DataFrame(my_dict.items(), columns=['cat', 'count'])\n",
    "      temp_versions[\"data_type\"] = data\n",
    "      temp_versions[\"major\"] = 1 if cat_type == 'major' else 0\n",
    "      temp_versions[\"train\"] = 1 if split == 'train' else 0\n",
    "  \n",
    "      versions = pd.concat([versions, temp_versions])\n",
    "      \n",
    "  print(split, count)"
   ]
  },
  {
   "cell_type": "code",
   "execution_count": 50,
   "metadata": {},
   "outputs": [],
   "source": [
    "freqs = pd.DataFrame(columns=['cat', 'count', 'train', 'major', 'data_type'])\n",
    "for split in [\"train\", 'test']:\n",
    "  for cat_type in [\"major\", \"minor\"]:\n",
    "    for data in ['prime','major', 'abs_cat']:\n",
    "      my_dict = json.load(open(\"freqs/\"+\"_\".join([split, cat_type, data])+\".txt\"))\n",
    "      temp_versions = pd.DataFrame(my_dict.items(), columns=['cat', 'count'])\n",
    "      temp_versions[\"data_type\"] = data\n",
    "      temp_versions[\"major\"] = 1 if cat_type == 'major' else 0\n",
    "      temp_versions[\"train\"] = 1 if split == 'train' else 0\n",
    "  \n",
    "      freqs = pd.concat([freqs, temp_versions])"
   ]
  },
  {
   "cell_type": "code",
   "execution_count": 101,
   "metadata": {},
   "outputs": [
    {
     "data": {
      "text/plain": [
       "Index(['astro-ph', 'astro-ph.CO', 'astro-ph.EP', 'astro-ph.GA', 'astro-ph.HE',\n",
       "       'astro-ph.IM', 'astro-ph.SR', 'cond-mat.dis-nn', 'cond-mat.mes-hall',\n",
       "       'cond-mat.mtrl-sci',\n",
       "       ...\n",
       "       'q-fin.PR', 'q-fin.RM', 'q-fin.ST', 'q-fin.TR', 'quant-ph', 'stat.AP',\n",
       "       'stat.CO', 'stat.ME', 'stat.ML', 'stat.OT'],\n",
       "      dtype='object', name='cat', length=151)"
      ]
     },
     "execution_count": 101,
     "metadata": {},
     "output_type": "execute_result"
    }
   ],
   "source": [
    "train = 1\n",
    "major = 0\n",
    "data_type = \"prime\"\n",
    "freqs.loc[(freqs[\"train\"]==train) & (freqs[\"major\"]==major) & (freqs[\"data_type\"]==data_type), [\"cat\", 'count']].groupby(['cat']).sum().index"
   ]
  },
  {
   "cell_type": "code",
   "execution_count": 102,
   "metadata": {},
   "outputs": [
    {
     "data": {
      "text/plain": [
       "Index(['astro-ph', 'astro-ph.CO', 'astro-ph.EP', 'astro-ph.GA', 'astro-ph.HE',\n",
       "       'astro-ph.IM', 'astro-ph.SR', 'cond-mat.dis-nn', 'cond-mat.mes-hall',\n",
       "       'cond-mat.mtrl-sci',\n",
       "       ...\n",
       "       'q-fin.PR', 'q-fin.RM', 'q-fin.ST', 'q-fin.TR', 'quant-ph', 'stat.AP',\n",
       "       'stat.CO', 'stat.ME', 'stat.ML', 'stat.OT'],\n",
       "      dtype='object', name='cat', length=151)"
      ]
     },
     "execution_count": 102,
     "metadata": {},
     "output_type": "execute_result"
    }
   ],
   "source": [
    "train = 1\n",
    "major = 1\n",
    "data_type = \"prime\"\n",
    "freqs.loc[(freqs[\"train\"]==train) & (freqs[\"major\"]==major) & (freqs[\"data_type\"]==data_type), [\"cat\", 'count']].groupby(['cat']).sum().index"
   ]
  },
  {
   "cell_type": "code",
   "execution_count": 66,
   "metadata": {},
   "outputs": [
    {
     "data": {
      "text/html": [
       "<div>\n",
       "<style scoped>\n",
       "    .dataframe tbody tr th:only-of-type {\n",
       "        vertical-align: middle;\n",
       "    }\n",
       "\n",
       "    .dataframe tbody tr th {\n",
       "        vertical-align: top;\n",
       "    }\n",
       "\n",
       "    .dataframe thead th {\n",
       "        text-align: right;\n",
       "    }\n",
       "</style>\n",
       "<table border=\"1\" class=\"dataframe\">\n",
       "  <thead>\n",
       "    <tr style=\"text-align: right;\">\n",
       "      <th></th>\n",
       "      <th>%</th>\n",
       "    </tr>\n",
       "    <tr>\n",
       "      <th>cat</th>\n",
       "      <th></th>\n",
       "    </tr>\n",
       "  </thead>\n",
       "  <tbody>\n",
       "    <tr>\n",
       "      <th>astro-ph</th>\n",
       "      <td>0.30</td>\n",
       "    </tr>\n",
       "    <tr>\n",
       "      <th>cond-mat</th>\n",
       "      <td>0.41</td>\n",
       "    </tr>\n",
       "    <tr>\n",
       "      <th>cs</th>\n",
       "      <td>0.29</td>\n",
       "    </tr>\n",
       "    <tr>\n",
       "      <th>dg-ga</th>\n",
       "      <td>0.24</td>\n",
       "    </tr>\n",
       "    <tr>\n",
       "      <th>econ</th>\n",
       "      <td>0.30</td>\n",
       "    </tr>\n",
       "    <tr>\n",
       "      <th>eess</th>\n",
       "      <td>0.27</td>\n",
       "    </tr>\n",
       "    <tr>\n",
       "      <th>gr-qc</th>\n",
       "      <td>0.55</td>\n",
       "    </tr>\n",
       "    <tr>\n",
       "      <th>hep-ex</th>\n",
       "      <td>0.48</td>\n",
       "    </tr>\n",
       "    <tr>\n",
       "      <th>hep-lat</th>\n",
       "      <td>0.42</td>\n",
       "    </tr>\n",
       "    <tr>\n",
       "      <th>hep-ph</th>\n",
       "      <td>0.55</td>\n",
       "    </tr>\n",
       "    <tr>\n",
       "      <th>hep-th</th>\n",
       "      <td>0.65</td>\n",
       "    </tr>\n",
       "    <tr>\n",
       "      <th>math</th>\n",
       "      <td>0.46</td>\n",
       "    </tr>\n",
       "    <tr>\n",
       "      <th>math-ph</th>\n",
       "      <td>0.48</td>\n",
       "    </tr>\n",
       "    <tr>\n",
       "      <th>nlin</th>\n",
       "      <td>0.34</td>\n",
       "    </tr>\n",
       "    <tr>\n",
       "      <th>nucl-ex</th>\n",
       "      <td>0.35</td>\n",
       "    </tr>\n",
       "    <tr>\n",
       "      <th>nucl-th</th>\n",
       "      <td>0.37</td>\n",
       "    </tr>\n",
       "    <tr>\n",
       "      <th>physics</th>\n",
       "      <td>0.28</td>\n",
       "    </tr>\n",
       "    <tr>\n",
       "      <th>q-bio</th>\n",
       "      <td>0.29</td>\n",
       "    </tr>\n",
       "    <tr>\n",
       "      <th>q-fin</th>\n",
       "      <td>0.38</td>\n",
       "    </tr>\n",
       "    <tr>\n",
       "      <th>quant-ph</th>\n",
       "      <td>0.50</td>\n",
       "    </tr>\n",
       "    <tr>\n",
       "      <th>stat</th>\n",
       "      <td>0.41</td>\n",
       "    </tr>\n",
       "  </tbody>\n",
       "</table>\n",
       "</div>"
      ],
      "text/plain": [
       "             %\n",
       "cat           \n",
       "astro-ph  0.30\n",
       "cond-mat  0.41\n",
       "cs        0.29\n",
       "dg-ga     0.24\n",
       "econ      0.30\n",
       "eess      0.27\n",
       "gr-qc     0.55\n",
       "hep-ex    0.48\n",
       "hep-lat   0.42\n",
       "hep-ph    0.55\n",
       "hep-th    0.65\n",
       "math      0.46\n",
       "math-ph   0.48\n",
       "nlin      0.34\n",
       "nucl-ex   0.35\n",
       "nucl-th   0.37\n",
       "physics   0.28\n",
       "q-bio     0.29\n",
       "q-fin     0.38\n",
       "quant-ph  0.50\n",
       "stat      0.41"
      ]
     },
     "execution_count": 66,
     "metadata": {},
     "output_type": "execute_result"
    }
   ],
   "source": [
    "# this is ditrbution of non-1st versions\n",
    "train = 1\n",
    "major = 1\n",
    "data_type = \"major\"\n",
    "tr_ma_ma_pct = versions.loc[(versions[\"train\"]==train) & (versions[\"major\"]==major) & (versions[\"data_type\"]==data_type), [\"cat\", 'count']].groupby([\"cat\"]).sum().merge(\n",
    "  freqs.loc[(freqs[\"train\"]==train) & (freqs[\"major\"]==major) & (freqs[\"data_type\"]==data_type), [\"cat\", 'count']].groupby([\"cat\"]).sum()\n",
    ", on=\"cat\", suffixes=('_versions', '_freqs'))\n",
    "tr_ma_ma_pct[\"%\"] = tr_ma_ma_pct['count_versions'] / tr_ma_ma_pct['count_freqs']\n",
    "tr_ma_ma_pct[[\"%\"]].astype(float).round(2)"
   ]
  },
  {
   "cell_type": "code",
   "execution_count": 67,
   "metadata": {},
   "outputs": [
    {
     "data": {
      "text/plain": [
       "cat\n",
       "astro-ph    0.31\n",
       "cond-mat    0.40\n",
       "cs          0.26\n",
       "dg-ga       0.20\n",
       "econ        0.31\n",
       "eess        0.23\n",
       "gr-qc       0.57\n",
       "hep-ex      0.49\n",
       "hep-lat     0.38\n",
       "hep-ph      0.54\n",
       "hep-th      0.67\n",
       "math        0.48\n",
       "math-ph     0.48\n",
       "nlin        0.32\n",
       "nucl-ex     0.34\n",
       "nucl-th     0.36\n",
       "physics     0.30\n",
       "q-bio       0.31\n",
       "q-fin       0.35\n",
       "quant-ph    0.49\n",
       "stat        0.38\n",
       "Name: %, dtype: float64"
      ]
     },
     "execution_count": 67,
     "metadata": {},
     "output_type": "execute_result"
    }
   ],
   "source": [
    "# this is ditrbution of non-1st versions\n",
    "train = 0\n",
    "major = 1\n",
    "data_type = \"major\"\n",
    "te_ma_ma_pct = versions.loc[(versions[\"train\"]==train) & (versions[\"major\"]==major) & (versions[\"data_type\"]==data_type), [\"cat\", 'count']].groupby([\"cat\"]).sum().merge(\n",
    "  freqs.loc[(freqs[\"train\"]==train) & (freqs[\"major\"]==major) & (freqs[\"data_type\"]==data_type), [\"cat\", 'count']].groupby([\"cat\"]).sum()\n",
    ", on=\"cat\", suffixes=('_versions', '_freqs'))\n",
    "te_ma_ma_pct[\"%\"] = te_ma_ma_pct['count_versions'] / te_ma_ma_pct['count_freqs']\n",
    "te_ma_ma_pct[\"%\"].astype(float).round(2)"
   ]
  },
  {
   "cell_type": "code",
   "execution_count": 79,
   "metadata": {},
   "outputs": [
    {
     "data": {
      "image/png": "[encoded data removed]",
      "text/plain": [
       "<Figure size 640x480 with 1 Axes>"
      ]
     },
     "metadata": {},
     "output_type": "display_data"
    }
   ],
   "source": [
    "tr_ma_ma_pct[\"%\"].astype(float).round(2).plot(kind='bar')\n",
    "plt.show()"
   ]
  },
  {
   "cell_type": "code",
   "execution_count": 88,
   "metadata": {},
   "outputs": [
    {
     "data": {
      "text/plain": [
       "cat\n",
       "hep-th    2.356461\n",
       "Name: %, dtype: float64"
      ]
     },
     "execution_count": 88,
     "metadata": {},
     "output_type": "execute_result"
    }
   ],
   "source": [
    "from scipy.stats import zscore\n",
    "z = zscore(tr_ma_ma_pct[\"%\"].astype(float))\n",
    "z.loc[(z > 1.96) | (z < -1.96)]"
   ]
  },
  {
   "cell_type": "code",
   "execution_count": 89,
   "metadata": {},
   "outputs": [
    {
     "data": {
      "image/png": "[encoded data removed]",
      "text/plain": [
       "<Figure size 640x480 with 1 Axes>"
      ]
     },
     "metadata": {},
     "output_type": "display_data"
    }
   ],
   "source": [
    "pct_dif = tr_ma_ma_pct[[\"%\"]].merge(te_ma_ma_pct[[\"%\"]], on='cat', suffixes=['tr', 'te'])\n",
    "(pct_dif['%tr'] - pct_dif['%te']).astype(float).round(2).plot(kind='bar')\n",
    "plt.show()"
   ]
  },
  {
   "cell_type": "code",
   "execution_count": null,
   "metadata": {},
   "outputs": [],
   "source": []
  }
 ],
 "metadata": {
  "kernelspec": {
   "display_name": ".venv",
   "language": "python",
   "name": "python3"
  },
  "language_info": {
   "codemirror_mode": {
    "name": "ipython",
    "version": 3
   },
   "file_extension": ".py",
   "mimetype": "text/x-python",
   "name": "python",
   "nbconvert_exporter": "python",
   "pygments_lexer": "ipython3",
   "version": "3.9.13"
  }
 },
 "nbformat": 4,
 "nbformat_minor": 2
}
