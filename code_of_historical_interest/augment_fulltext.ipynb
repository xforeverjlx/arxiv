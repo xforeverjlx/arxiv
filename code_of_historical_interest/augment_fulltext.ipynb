{
 "cells": [
  {
   "cell_type": "code",
   "execution_count": 1,
   "id": "0474ac1c-59d1-4cb8-bb80-4ce35ed73da3",
   "metadata": {},
   "outputs": [],
   "source": [
    "#import os\n",
    "#os.system('GOOGLE_APPLICATION_CREDENTIALS=\"/home/user/Downloads/service-account-file.json\"')"
   ]
  },
  {
   "cell_type": "code",
   "execution_count": 17,
   "id": "e3c67bdd-1d1c-4159-a1da-857ce1d92f14",
   "metadata": {},
   "outputs": [],
   "source": [
    "import pandas as pd\n",
    "import numpy as np\n",
    "import vaex\n",
    "\n",
    "import glob\n",
    "import itertools as itr\n",
    "import collections as coll\n",
    "\n",
    "import time\n",
    "\n",
    "import sqlalchemy as sqla\n",
    "import types\n",
    "import json"
   ]
  },
  {
   "cell_type": "code",
   "execution_count": 18,
   "id": "0dd8225b-2709-4d6a-a740-7471614de930",
   "metadata": {},
   "outputs": [],
   "source": [
    "%%capture\n",
    "from tqdm.notebook import trange, tqdm\n",
    "tqdm.pandas()"
   ]
  },
  {
   "cell_type": "code",
   "execution_count": 19,
   "id": "2c6d9e2b-b3c1-4cbf-8cd9-98b64888a10b",
   "metadata": {},
   "outputs": [],
   "source": [
    "from IPython.core.interactiveshell import InteractiveShell\n",
    "InteractiveShell.ast_node_interactivity = \"all\""
   ]
  },
  {
   "cell_type": "code",
   "execution_count": 20,
   "id": "60e736f2-e428-4606-824b-e85b3dcd2e50",
   "metadata": {},
   "outputs": [
    {
     "data": {
      "text/plain": [
       "6"
      ]
     },
     "execution_count": 20,
     "metadata": {},
     "output_type": "execute_result"
    },
    {
     "data": {
      "text/plain": [
       "151"
      ]
     },
     "execution_count": 20,
     "metadata": {},
     "output_type": "execute_result"
    },
    {
     "data": {
      "text/plain": [
       "157"
      ]
     },
     "execution_count": 20,
     "metadata": {},
     "output_type": "execute_result"
    }
   ],
   "source": [
    "# Replace the first with the second category\n",
    "CATEGORY_ALIASES = {\n",
    "    'math.MP': 'math-ph',\n",
    "    'stat.TH': 'math.ST',\n",
    "    'math.IT': 'cs.IT',\n",
    "    'q-fin.EC': 'econ.GN',\n",
    "    'cs.SY': 'eess.SY',\n",
    "    'cs.NA': 'math.NA'\n",
    "}\n",
    "\n",
    "# Used subject categories, with aliases removed.\n",
    "ACTIVE_CATEGORIES = [\n",
    "    'astro-ph.CO','astro-ph.EP','astro-ph.GA',\n",
    "    'astro-ph.HE','astro-ph.IM','astro-ph.SR',\n",
    "    'cond-mat.dis-nn','cond-mat.mes-hall','cond-mat.mtrl-sci',\n",
    "    'cond-mat.other','cond-mat.quant-gas','cond-mat.soft',\n",
    "    'cond-mat.stat-mech','cond-mat.str-el','cond-mat.supr-con',\n",
    "    'cs.AI','cs.AR','cs.CC','cs.CE','cs.CG','cs.CL','cs.CR',\n",
    "    'cs.CV','cs.CY','cs.DB','cs.DC','cs.DL','cs.DM','cs.DS',\n",
    "    'cs.ET','cs.FL','cs.GL','cs.GR','cs.GT','cs.HC','cs.IR',\n",
    "    'cs.IT','cs.LG','cs.LO','cs.MA','cs.MM','cs.MS','cs.NE',\n",
    "    'cs.NI','cs.OH','cs.OS','cs.PF','cs.PL','cs.RO','cs.SC',\n",
    "    'cs.SD','cs.SE','cs.SI',\n",
    "    'econ.EM','econ.GN','econ.TH',\n",
    "    'eess.AS','eess.IV','eess.SP','eess.SY',\n",
    "    'gr-qc',\n",
    "    'hep-ex','hep-lat','hep-ph','hep-th',\n",
    "    'math-ph','math.AC','math.AG','math.AP',\n",
    "    'math.AT','math.CA','math.CO','math.CT',\n",
    "    'math.CV','math.DG','math.DS','math.FA',\n",
    "    'math.GM','math.GN','math.GR','math.GT',\n",
    "    'math.HO','math.KT','math.LO','math.MG',\n",
    "    'math.NA','math.NT','math.OA','math.OC',\n",
    "    'math.PR','math.QA','math.RA','math.RT',\n",
    "    'math.SG','math.SP','math.ST',\n",
    "    'nlin.AO','nlin.CD','nlin.CG','nlin.PS','nlin.SI',\n",
    "    'nucl-ex','nucl-th',\n",
    "    'physics.acc-ph','physics.ao-ph','physics.app-ph',\n",
    "    'physics.atm-clus','physics.atom-ph','physics.bio-ph',\n",
    "    'physics.chem-ph','physics.class-ph','physics.comp-ph',\n",
    "    'physics.data-an','physics.ed-ph','physics.flu-dyn',\n",
    "    'physics.gen-ph','physics.geo-ph','physics.hist-ph',\n",
    "    'physics.ins-det','physics.med-ph','physics.optics',\n",
    "    'physics.plasm-ph','physics.pop-ph','physics.soc-ph',\n",
    "    'physics.space-ph',\n",
    "    'q-bio.BM','q-bio.CB','q-bio.GN','q-bio.MN','q-bio.NC',\n",
    "    'q-bio.OT','q-bio.PE','q-bio.QM','q-bio.SC','q-bio.TO',\n",
    "    'q-fin.CP','q-fin.GN','q-fin.MF','q-fin.PM',\n",
    "    'q-fin.PR','q-fin.RM','q-fin.ST','q-fin.TR',\n",
    "    'quant-ph',\n",
    "    'stat.AP','stat.CO','stat.ME','stat.ML','stat.OT',\n",
    "    'dg-ga', 'astro-ph'\n",
    "]\n",
    "\n",
    "CAT_REMAPPER = {x:x for x in ACTIVE_CATEGORIES} | CATEGORY_ALIASES\n",
    "\n",
    "\n",
    "len(CATEGORY_ALIASES)\n",
    "len(ACTIVE_CATEGORIES)\n",
    "len(CAT_REMAPPER)\n",
    "\n"
   ]
  },
  {
   "cell_type": "code",
   "execution_count": 23,
   "id": "6fbc0576-5208-4dfb-af4e-0ab980cdcabe",
   "metadata": {},
   "outputs": [],
   "source": [
    "train_df = vaex.open(\"./data/fulltext/train_major_cats.hdf5\")\n",
    "test_df = vaex.open(\"./data/fulltext/test_major_cats.hdf5\")"
   ]
  },
  {
   "cell_type": "code",
   "execution_count": 24,
   "id": "68d2ad14-fab8-4326-9062-dca96438f399",
   "metadata": {},
   "outputs": [
    {
     "data": {
      "text/plain": [
       "(31786, 9)"
      ]
     },
     "execution_count": 24,
     "metadata": {},
     "output_type": "execute_result"
    }
   ],
   "source": [
    "train_df.shape"
   ]
  },
  {
   "cell_type": "code",
   "execution_count": null,
   "id": "55b3f799-f02b-4e02-a963-0cab2097cc03",
   "metadata": {},
   "outputs": [],
   "source": []
  },
  {
   "cell_type": "code",
   "execution_count": 7,
   "id": "33a77e61-ad61-4964-b42a-8a176bc5c970",
   "metadata": {},
   "outputs": [
    {
     "data": {
      "text/html": [
       "<table>\n",
       "<thead>\n",
       "<tr><th>#                              </th><th>major_category  </th><th>prime_category    </th><th style=\"text-align: right;\">  paper_id_count</th></tr>\n",
       "</thead>\n",
       "<tbody>\n",
       "<tr><td><i style='opacity: 0.6'>0</i>  </td><td>cs              </td><td>cs.MA             </td><td style=\"text-align: right;\">              42</td></tr>\n",
       "<tr><td><i style='opacity: 0.6'>1</i>  </td><td>cs              </td><td>cs.SI             </td><td style=\"text-align: right;\">              42</td></tr>\n",
       "<tr><td><i style='opacity: 0.6'>2</i>  </td><td>cs              </td><td>cs.DS             </td><td style=\"text-align: right;\">              42</td></tr>\n",
       "<tr><td><i style='opacity: 0.6'>3</i>  </td><td>cs              </td><td>cs.PL             </td><td style=\"text-align: right;\">              42</td></tr>\n",
       "<tr><td><i style='opacity: 0.6'>4</i>  </td><td>cs              </td><td>cs.HC             </td><td style=\"text-align: right;\">              42</td></tr>\n",
       "<tr><td><i style='opacity: 0.6'>5</i>  </td><td>cs              </td><td>cs.SE             </td><td style=\"text-align: right;\">              42</td></tr>\n",
       "<tr><td><i style='opacity: 0.6'>6</i>  </td><td>cs              </td><td>cs.CL             </td><td style=\"text-align: right;\">              42</td></tr>\n",
       "<tr><td><i style='opacity: 0.6'>7</i>  </td><td>cs              </td><td>cs.GR             </td><td style=\"text-align: right;\">              42</td></tr>\n",
       "<tr><td><i style='opacity: 0.6'>8</i>  </td><td>cs              </td><td>cs.CE             </td><td style=\"text-align: right;\">              42</td></tr>\n",
       "<tr><td><i style='opacity: 0.6'>9</i>  </td><td>cs              </td><td>cs.NE             </td><td style=\"text-align: right;\">              42</td></tr>\n",
       "<tr><td><i style='opacity: 0.6'>10</i> </td><td>cs              </td><td>cs.CV             </td><td style=\"text-align: right;\">              42</td></tr>\n",
       "<tr><td><i style='opacity: 0.6'>11</i> </td><td>cs              </td><td>cs.SC             </td><td style=\"text-align: right;\">              42</td></tr>\n",
       "<tr><td><i style='opacity: 0.6'>12</i> </td><td>cs              </td><td>cs.FL             </td><td style=\"text-align: right;\">              42</td></tr>\n",
       "<tr><td><i style='opacity: 0.6'>13</i> </td><td>cs              </td><td>cs.DM             </td><td style=\"text-align: right;\">              42</td></tr>\n",
       "<tr><td><i style='opacity: 0.6'>14</i> </td><td>cs              </td><td>cs.LO             </td><td style=\"text-align: right;\">              42</td></tr>\n",
       "<tr><td><i style='opacity: 0.6'>15</i> </td><td>cs              </td><td>cs.IT             </td><td style=\"text-align: right;\">              42</td></tr>\n",
       "<tr><td><i style='opacity: 0.6'>16</i> </td><td>cs              </td><td>cs.MM             </td><td style=\"text-align: right;\">              42</td></tr>\n",
       "<tr><td><i style='opacity: 0.6'>17</i> </td><td>cs              </td><td>cs.DC             </td><td style=\"text-align: right;\">              42</td></tr>\n",
       "<tr><td><i style='opacity: 0.6'>18</i> </td><td>cs              </td><td>cs.NI             </td><td style=\"text-align: right;\">              42</td></tr>\n",
       "<tr><td><i style='opacity: 0.6'>19</i> </td><td>cs              </td><td>cs.IR             </td><td style=\"text-align: right;\">              42</td></tr>\n",
       "<tr><td><i style='opacity: 0.6'>20</i> </td><td>cs              </td><td>cs.CG             </td><td style=\"text-align: right;\">              42</td></tr>\n",
       "<tr><td><i style='opacity: 0.6'>21</i> </td><td>cs              </td><td>cs.GL             </td><td style=\"text-align: right;\">              42</td></tr>\n",
       "<tr><td><i style='opacity: 0.6'>22</i> </td><td>cs              </td><td>cs.CC             </td><td style=\"text-align: right;\">              42</td></tr>\n",
       "<tr><td><i style='opacity: 0.6'>23</i> </td><td>cs              </td><td>cs.GT             </td><td style=\"text-align: right;\">              42</td></tr>\n",
       "<tr><td><i style='opacity: 0.6'>24</i> </td><td>cs              </td><td>cs.MS             </td><td style=\"text-align: right;\">              42</td></tr>\n",
       "<tr><td><i style='opacity: 0.6'>25</i> </td><td>cs              </td><td>cs.PF             </td><td style=\"text-align: right;\">              42</td></tr>\n",
       "<tr><td><i style='opacity: 0.6'>26</i> </td><td>cs              </td><td>cs.OH             </td><td style=\"text-align: right;\">              42</td></tr>\n",
       "<tr><td><i style='opacity: 0.6'>27</i> </td><td>cs              </td><td>cs.DB             </td><td style=\"text-align: right;\">              42</td></tr>\n",
       "<tr><td><i style='opacity: 0.6'>28</i> </td><td>cs              </td><td>cs.RO             </td><td style=\"text-align: right;\">              42</td></tr>\n",
       "<tr><td><i style='opacity: 0.6'>29</i> </td><td>cs              </td><td>cs.AI             </td><td style=\"text-align: right;\">              42</td></tr>\n",
       "<tr><td><i style='opacity: 0.6'>30</i> </td><td>cs              </td><td>cs.LG             </td><td style=\"text-align: right;\">              42</td></tr>\n",
       "<tr><td><i style='opacity: 0.6'>31</i> </td><td>cs              </td><td>cs.SD             </td><td style=\"text-align: right;\">              42</td></tr>\n",
       "<tr><td><i style='opacity: 0.6'>32</i> </td><td>cs              </td><td>cs.DL             </td><td style=\"text-align: right;\">              42</td></tr>\n",
       "<tr><td><i style='opacity: 0.6'>33</i> </td><td>cs              </td><td>cs.OS             </td><td style=\"text-align: right;\">              42</td></tr>\n",
       "<tr><td><i style='opacity: 0.6'>34</i> </td><td>cs              </td><td>cs.CY             </td><td style=\"text-align: right;\">              42</td></tr>\n",
       "<tr><td><i style='opacity: 0.6'>35</i> </td><td>cs              </td><td>cs.ET             </td><td style=\"text-align: right;\">              42</td></tr>\n",
       "<tr><td><i style='opacity: 0.6'>36</i> </td><td>cs              </td><td>cs.AR             </td><td style=\"text-align: right;\">              42</td></tr>\n",
       "<tr><td><i style='opacity: 0.6'>37</i> </td><td>cs              </td><td>cs.CR             </td><td style=\"text-align: right;\">              42</td></tr>\n",
       "<tr><td><i style='opacity: 0.6'>38</i> </td><td>math            </td><td>math.OA           </td><td style=\"text-align: right;\">              54</td></tr>\n",
       "<tr><td><i style='opacity: 0.6'>39</i> </td><td>math            </td><td>math.RA           </td><td style=\"text-align: right;\">              54</td></tr>\n",
       "<tr><td><i style='opacity: 0.6'>40</i> </td><td>math            </td><td>math.FA           </td><td style=\"text-align: right;\">              54</td></tr>\n",
       "<tr><td><i style='opacity: 0.6'>41</i> </td><td>math            </td><td>math.GN           </td><td style=\"text-align: right;\">              54</td></tr>\n",
       "<tr><td><i style='opacity: 0.6'>42</i> </td><td>math            </td><td>math.QA           </td><td style=\"text-align: right;\">              54</td></tr>\n",
       "<tr><td><i style='opacity: 0.6'>43</i> </td><td>math            </td><td>math.LO           </td><td style=\"text-align: right;\">              54</td></tr>\n",
       "<tr><td><i style='opacity: 0.6'>44</i> </td><td>math            </td><td>math.CT           </td><td style=\"text-align: right;\">              54</td></tr>\n",
       "<tr><td><i style='opacity: 0.6'>45</i> </td><td>math            </td><td>math.AC           </td><td style=\"text-align: right;\">              54</td></tr>\n",
       "<tr><td><i style='opacity: 0.6'>46</i> </td><td>math            </td><td>math.ST           </td><td style=\"text-align: right;\">              54</td></tr>\n",
       "<tr><td><i style='opacity: 0.6'>47</i> </td><td>math            </td><td>math.CA           </td><td style=\"text-align: right;\">              54</td></tr>\n",
       "<tr><td><i style='opacity: 0.6'>48</i> </td><td>math            </td><td>math.GM           </td><td style=\"text-align: right;\">              54</td></tr>\n",
       "<tr><td><i style='opacity: 0.6'>49</i> </td><td>math            </td><td>math.SP           </td><td style=\"text-align: right;\">              54</td></tr>\n",
       "<tr><td><i style='opacity: 0.6'>50</i> </td><td>math            </td><td>math.AT           </td><td style=\"text-align: right;\">              54</td></tr>\n",
       "<tr><td><i style='opacity: 0.6'>51</i> </td><td>math            </td><td>math.RT           </td><td style=\"text-align: right;\">              54</td></tr>\n",
       "<tr><td><i style='opacity: 0.6'>52</i> </td><td>math            </td><td>math.NA           </td><td style=\"text-align: right;\">              54</td></tr>\n",
       "<tr><td><i style='opacity: 0.6'>53</i> </td><td>math            </td><td>math.KT           </td><td style=\"text-align: right;\">              54</td></tr>\n",
       "<tr><td><i style='opacity: 0.6'>54</i> </td><td>math            </td><td>math.DS           </td><td style=\"text-align: right;\">              54</td></tr>\n",
       "<tr><td><i style='opacity: 0.6'>55</i> </td><td>math            </td><td>math.AP           </td><td style=\"text-align: right;\">              54</td></tr>\n",
       "<tr><td><i style='opacity: 0.6'>56</i> </td><td>math            </td><td>math.MG           </td><td style=\"text-align: right;\">              54</td></tr>\n",
       "<tr><td><i style='opacity: 0.6'>57</i> </td><td>math            </td><td>math.DG           </td><td style=\"text-align: right;\">              54</td></tr>\n",
       "<tr><td><i style='opacity: 0.6'>58</i> </td><td>math            </td><td>math.CV           </td><td style=\"text-align: right;\">              54</td></tr>\n",
       "<tr><td><i style='opacity: 0.6'>59</i> </td><td>math            </td><td>math.NT           </td><td style=\"text-align: right;\">              54</td></tr>\n",
       "<tr><td><i style='opacity: 0.6'>60</i> </td><td>math            </td><td>math.CO           </td><td style=\"text-align: right;\">              54</td></tr>\n",
       "<tr><td><i style='opacity: 0.6'>61</i> </td><td>math            </td><td>math.HO           </td><td style=\"text-align: right;\">              54</td></tr>\n",
       "<tr><td><i style='opacity: 0.6'>62</i> </td><td>math            </td><td>math.PR           </td><td style=\"text-align: right;\">              54</td></tr>\n",
       "<tr><td><i style='opacity: 0.6'>63</i> </td><td>math            </td><td>math.GR           </td><td style=\"text-align: right;\">              54</td></tr>\n",
       "<tr><td><i style='opacity: 0.6'>64</i> </td><td>math            </td><td>math.OC           </td><td style=\"text-align: right;\">              54</td></tr>\n",
       "<tr><td><i style='opacity: 0.6'>65</i> </td><td>math            </td><td>math.AG           </td><td style=\"text-align: right;\">              54</td></tr>\n",
       "<tr><td><i style='opacity: 0.6'>66</i> </td><td>math            </td><td>math.SG           </td><td style=\"text-align: right;\">              54</td></tr>\n",
       "<tr><td><i style='opacity: 0.6'>67</i> </td><td>math            </td><td>math.GT           </td><td style=\"text-align: right;\">              54</td></tr>\n",
       "<tr><td><i style='opacity: 0.6'>68</i> </td><td>physics         </td><td>physics.bio-ph    </td><td style=\"text-align: right;\">              73</td></tr>\n",
       "<tr><td><i style='opacity: 0.6'>69</i> </td><td>physics         </td><td>physics.app-ph    </td><td style=\"text-align: right;\">              73</td></tr>\n",
       "<tr><td><i style='opacity: 0.6'>70</i> </td><td>physics         </td><td>physics.hist-ph   </td><td style=\"text-align: right;\">              73</td></tr>\n",
       "<tr><td><i style='opacity: 0.6'>71</i> </td><td>physics         </td><td>physics.gen-ph    </td><td style=\"text-align: right;\">              73</td></tr>\n",
       "<tr><td><i style='opacity: 0.6'>72</i> </td><td>physics         </td><td>physics.ins-det   </td><td style=\"text-align: right;\">              73</td></tr>\n",
       "<tr><td><i style='opacity: 0.6'>73</i> </td><td>physics         </td><td>physics.acc-ph    </td><td style=\"text-align: right;\">              73</td></tr>\n",
       "<tr><td><i style='opacity: 0.6'>74</i> </td><td>physics         </td><td>physics.atm-clus  </td><td style=\"text-align: right;\">              73</td></tr>\n",
       "<tr><td><i style='opacity: 0.6'>75</i> </td><td>physics         </td><td>physics.ao-ph     </td><td style=\"text-align: right;\">              73</td></tr>\n",
       "<tr><td><i style='opacity: 0.6'>76</i> </td><td>physics         </td><td>physics.med-ph    </td><td style=\"text-align: right;\">              73</td></tr>\n",
       "<tr><td><i style='opacity: 0.6'>77</i> </td><td>physics         </td><td>physics.optics    </td><td style=\"text-align: right;\">              73</td></tr>\n",
       "<tr><td><i style='opacity: 0.6'>78</i> </td><td>physics         </td><td>physics.ed-ph     </td><td style=\"text-align: right;\">              73</td></tr>\n",
       "<tr><td><i style='opacity: 0.6'>79</i> </td><td>physics         </td><td>physics.chem-ph   </td><td style=\"text-align: right;\">              73</td></tr>\n",
       "<tr><td><i style='opacity: 0.6'>80</i> </td><td>physics         </td><td>physics.atom-ph   </td><td style=\"text-align: right;\">              73</td></tr>\n",
       "<tr><td><i style='opacity: 0.6'>81</i> </td><td>physics         </td><td>physics.plasm-ph  </td><td style=\"text-align: right;\">              73</td></tr>\n",
       "<tr><td><i style='opacity: 0.6'>82</i> </td><td>physics         </td><td>physics.geo-ph    </td><td style=\"text-align: right;\">              73</td></tr>\n",
       "<tr><td><i style='opacity: 0.6'>83</i> </td><td>physics         </td><td>physics.space-ph  </td><td style=\"text-align: right;\">              73</td></tr>\n",
       "<tr><td><i style='opacity: 0.6'>84</i> </td><td>physics         </td><td>physics.soc-ph    </td><td style=\"text-align: right;\">              73</td></tr>\n",
       "<tr><td><i style='opacity: 0.6'>85</i> </td><td>physics         </td><td>physics.flu-dyn   </td><td style=\"text-align: right;\">              73</td></tr>\n",
       "<tr><td><i style='opacity: 0.6'>86</i> </td><td>physics         </td><td>physics.pop-ph    </td><td style=\"text-align: right;\">              73</td></tr>\n",
       "<tr><td><i style='opacity: 0.6'>87</i> </td><td>physics         </td><td>physics.data-an   </td><td style=\"text-align: right;\">              73</td></tr>\n",
       "<tr><td><i style='opacity: 0.6'>88</i> </td><td>physics         </td><td>physics.class-ph  </td><td style=\"text-align: right;\">              73</td></tr>\n",
       "<tr><td><i style='opacity: 0.6'>89</i> </td><td>physics         </td><td>physics.comp-ph   </td><td style=\"text-align: right;\">              73</td></tr>\n",
       "<tr><td><i style='opacity: 0.6'>90</i> </td><td>econ            </td><td>econ.TH           </td><td style=\"text-align: right;\">              95</td></tr>\n",
       "<tr><td><i style='opacity: 0.6'>91</i> </td><td>q-bio           </td><td>q-bio.NC          </td><td style=\"text-align: right;\">             160</td></tr>\n",
       "<tr><td><i style='opacity: 0.6'>92</i> </td><td>q-bio           </td><td>q-bio.GN          </td><td style=\"text-align: right;\">             160</td></tr>\n",
       "<tr><td><i style='opacity: 0.6'>93</i> </td><td>q-bio           </td><td>q-bio.CB          </td><td style=\"text-align: right;\">             160</td></tr>\n",
       "<tr><td><i style='opacity: 0.6'>94</i> </td><td>q-bio           </td><td>q-bio.BM          </td><td style=\"text-align: right;\">             160</td></tr>\n",
       "<tr><td><i style='opacity: 0.6'>95</i> </td><td>q-bio           </td><td>q-bio.QM          </td><td style=\"text-align: right;\">             160</td></tr>\n",
       "<tr><td><i style='opacity: 0.6'>96</i> </td><td>q-bio           </td><td>q-bio.PE          </td><td style=\"text-align: right;\">             160</td></tr>\n",
       "<tr><td><i style='opacity: 0.6'>97</i> </td><td>q-bio           </td><td>q-bio.SC          </td><td style=\"text-align: right;\">             160</td></tr>\n",
       "<tr><td><i style='opacity: 0.6'>98</i> </td><td>q-bio           </td><td>q-bio.MN          </td><td style=\"text-align: right;\">             160</td></tr>\n",
       "<tr><td><i style='opacity: 0.6'>99</i> </td><td>q-bio           </td><td>q-bio.TO          </td><td style=\"text-align: right;\">             160</td></tr>\n",
       "<tr><td><i style='opacity: 0.6'>100</i></td><td>q-bio           </td><td>q-bio.OT          </td><td style=\"text-align: right;\">             160</td></tr>\n",
       "<tr><td><i style='opacity: 0.6'>101</i></td><td>cond-mat        </td><td>cond-mat.mes-hall </td><td style=\"text-align: right;\">             178</td></tr>\n",
       "<tr><td><i style='opacity: 0.6'>102</i></td><td>cond-mat        </td><td>cond-mat.supr-con </td><td style=\"text-align: right;\">             178</td></tr>\n",
       "<tr><td><i style='opacity: 0.6'>103</i></td><td>cond-mat        </td><td>cond-mat.mtrl-sci </td><td style=\"text-align: right;\">             178</td></tr>\n",
       "<tr><td><i style='opacity: 0.6'>104</i></td><td>cond-mat        </td><td>cond-mat.quant-gas</td><td style=\"text-align: right;\">             178</td></tr>\n",
       "<tr><td><i style='opacity: 0.6'>105</i></td><td>cond-mat        </td><td>cond-mat.str-el   </td><td style=\"text-align: right;\">             178</td></tr>\n",
       "<tr><td><i style='opacity: 0.6'>106</i></td><td>cond-mat        </td><td>cond-mat.stat-mech</td><td style=\"text-align: right;\">             178</td></tr>\n",
       "<tr><td><i style='opacity: 0.6'>107</i></td><td>cond-mat        </td><td>cond-mat.soft     </td><td style=\"text-align: right;\">             178</td></tr>\n",
       "<tr><td><i style='opacity: 0.6'>108</i></td><td>cond-mat        </td><td>cond-mat.dis-nn   </td><td style=\"text-align: right;\">             178</td></tr>\n",
       "<tr><td><i style='opacity: 0.6'>109</i></td><td>cond-mat        </td><td>cond-mat.other    </td><td style=\"text-align: right;\">             178</td></tr>\n",
       "<tr><td><i style='opacity: 0.6'>110</i></td><td>q-fin           </td><td>q-fin.ST          </td><td style=\"text-align: right;\">             200</td></tr>\n",
       "<tr><td><i style='opacity: 0.6'>111</i></td><td>q-fin           </td><td>q-fin.CP          </td><td style=\"text-align: right;\">             200</td></tr>\n",
       "<tr><td><i style='opacity: 0.6'>112</i></td><td>q-fin           </td><td>q-fin.RM          </td><td style=\"text-align: right;\">             200</td></tr>\n",
       "<tr><td><i style='opacity: 0.6'>113</i></td><td>q-fin           </td><td>q-fin.TR          </td><td style=\"text-align: right;\">             200</td></tr>\n",
       "<tr><td><i style='opacity: 0.6'>114</i></td><td>q-fin           </td><td>q-fin.PR          </td><td style=\"text-align: right;\">             200</td></tr>\n",
       "<tr><td><i style='opacity: 0.6'>115</i></td><td>q-fin           </td><td>q-fin.MF          </td><td style=\"text-align: right;\">             200</td></tr>\n",
       "<tr><td><i style='opacity: 0.6'>116</i></td><td>q-fin           </td><td>q-fin.GN          </td><td style=\"text-align: right;\">             200</td></tr>\n",
       "<tr><td><i style='opacity: 0.6'>117</i></td><td>q-fin           </td><td>q-fin.PM          </td><td style=\"text-align: right;\">             200</td></tr>\n",
       "<tr><td><i style='opacity: 0.6'>118</i></td><td>astro-ph        </td><td>astro-ph          </td><td style=\"text-align: right;\">             229</td></tr>\n",
       "<tr><td><i style='opacity: 0.6'>119</i></td><td>astro-ph        </td><td>astro-ph.SR       </td><td style=\"text-align: right;\">             229</td></tr>\n",
       "<tr><td><i style='opacity: 0.6'>120</i></td><td>astro-ph        </td><td>astro-ph.HE       </td><td style=\"text-align: right;\">             229</td></tr>\n",
       "<tr><td><i style='opacity: 0.6'>121</i></td><td>astro-ph        </td><td>astro-ph.CO       </td><td style=\"text-align: right;\">             229</td></tr>\n",
       "<tr><td><i style='opacity: 0.6'>122</i></td><td>astro-ph        </td><td>astro-ph.EP       </td><td style=\"text-align: right;\">             229</td></tr>\n",
       "<tr><td><i style='opacity: 0.6'>123</i></td><td>astro-ph        </td><td>astro-ph.IM       </td><td style=\"text-align: right;\">             229</td></tr>\n",
       "<tr><td><i style='opacity: 0.6'>124</i></td><td>astro-ph        </td><td>astro-ph.GA       </td><td style=\"text-align: right;\">             229</td></tr>\n",
       "<tr><td><i style='opacity: 0.6'>125</i></td><td>stat            </td><td>stat.OT           </td><td style=\"text-align: right;\">             265</td></tr>\n",
       "<tr><td><i style='opacity: 0.6'>126</i></td><td>nlin            </td><td>nlin.CG           </td><td style=\"text-align: right;\">             302</td></tr>\n",
       "<tr><td><i style='opacity: 0.6'>127</i></td><td>nlin            </td><td>nlin.CD           </td><td style=\"text-align: right;\">             323</td></tr>\n",
       "<tr><td><i style='opacity: 0.6'>128</i></td><td>nlin            </td><td>nlin.SI           </td><td style=\"text-align: right;\">             323</td></tr>\n",
       "<tr><td><i style='opacity: 0.6'>129</i></td><td>nlin            </td><td>nlin.PS           </td><td style=\"text-align: right;\">             323</td></tr>\n",
       "<tr><td><i style='opacity: 0.6'>130</i></td><td>nlin            </td><td>nlin.AO           </td><td style=\"text-align: right;\">             323</td></tr>\n",
       "<tr><td><i style='opacity: 0.6'>131</i></td><td>stat            </td><td>stat.CO           </td><td style=\"text-align: right;\">             330</td></tr>\n",
       "<tr><td><i style='opacity: 0.6'>132</i></td><td>stat            </td><td>stat.AP           </td><td style=\"text-align: right;\">             330</td></tr>\n",
       "<tr><td><i style='opacity: 0.6'>133</i></td><td>stat            </td><td>stat.ME           </td><td style=\"text-align: right;\">             330</td></tr>\n",
       "<tr><td><i style='opacity: 0.6'>134</i></td><td>stat            </td><td>stat.ML           </td><td style=\"text-align: right;\">             330</td></tr>\n",
       "<tr><td><i style='opacity: 0.6'>135</i></td><td>econ            </td><td>econ.EM           </td><td style=\"text-align: right;\">             331</td></tr>\n",
       "<tr><td><i style='opacity: 0.6'>136</i></td><td>eess            </td><td>eess.IV           </td><td style=\"text-align: right;\">             400</td></tr>\n",
       "<tr><td><i style='opacity: 0.6'>137</i></td><td>eess            </td><td>eess.AS           </td><td style=\"text-align: right;\">             400</td></tr>\n",
       "<tr><td><i style='opacity: 0.6'>138</i></td><td>eess            </td><td>eess.SP           </td><td style=\"text-align: right;\">             400</td></tr>\n",
       "<tr><td><i style='opacity: 0.6'>139</i></td><td>eess            </td><td>eess.SY           </td><td style=\"text-align: right;\">             400</td></tr>\n",
       "<tr><td><i style='opacity: 0.6'>140</i></td><td>dg-ga           </td><td>dg-ga             </td><td style=\"text-align: right;\">             446</td></tr>\n",
       "<tr><td><i style='opacity: 0.6'>141</i></td><td>econ            </td><td>econ.GN           </td><td style=\"text-align: right;\">             508</td></tr>\n",
       "<tr><td><i style='opacity: 0.6'>142</i></td><td>math-ph         </td><td>math-ph           </td><td style=\"text-align: right;\">            1600</td></tr>\n",
       "<tr><td><i style='opacity: 0.6'>143</i></td><td>hep-ex          </td><td>hep-ex            </td><td style=\"text-align: right;\">            1600</td></tr>\n",
       "<tr><td><i style='opacity: 0.6'>144</i></td><td>hep-lat         </td><td>hep-lat           </td><td style=\"text-align: right;\">            1600</td></tr>\n",
       "<tr><td><i style='opacity: 0.6'>145</i></td><td>hep-th          </td><td>hep-th            </td><td style=\"text-align: right;\">            1600</td></tr>\n",
       "<tr><td><i style='opacity: 0.6'>146</i></td><td>hep-ph          </td><td>hep-ph            </td><td style=\"text-align: right;\">            1600</td></tr>\n",
       "<tr><td><i style='opacity: 0.6'>147</i></td><td>nucl-ex         </td><td>nucl-ex           </td><td style=\"text-align: right;\">            1600</td></tr>\n",
       "<tr><td><i style='opacity: 0.6'>148</i></td><td>quant-ph        </td><td>quant-ph          </td><td style=\"text-align: right;\">            1600</td></tr>\n",
       "<tr><td><i style='opacity: 0.6'>149</i></td><td>nucl-th         </td><td>nucl-th           </td><td style=\"text-align: right;\">            1600</td></tr>\n",
       "<tr><td><i style='opacity: 0.6'>150</i></td><td>gr-qc           </td><td>gr-qc             </td><td style=\"text-align: right;\">            1600</td></tr>\n",
       "</tbody>\n",
       "</table>"
      ],
      "text/plain": [
       "  #  major_category    prime_category        paper_id_count\n",
       "  0  cs                cs.MA                             42\n",
       "  1  cs                cs.SI                             42\n",
       "  2  cs                cs.DS                             42\n",
       "  3  cs                cs.PL                             42\n",
       "  4  cs                cs.HC                             42\n",
       "  5  cs                cs.SE                             42\n",
       "  6  cs                cs.CL                             42\n",
       "  7  cs                cs.GR                             42\n",
       "  8  cs                cs.CE                             42\n",
       "  9  cs                cs.NE                             42\n",
       " 10  cs                cs.CV                             42\n",
       " 11  cs                cs.SC                             42\n",
       " 12  cs                cs.FL                             42\n",
       " 13  cs                cs.DM                             42\n",
       " 14  cs                cs.LO                             42\n",
       " 15  cs                cs.IT                             42\n",
       " 16  cs                cs.MM                             42\n",
       " 17  cs                cs.DC                             42\n",
       " 18  cs                cs.NI                             42\n",
       " 19  cs                cs.IR                             42\n",
       " 20  cs                cs.CG                             42\n",
       " 21  cs                cs.GL                             42\n",
       " 22  cs                cs.CC                             42\n",
       " 23  cs                cs.GT                             42\n",
       " 24  cs                cs.MS                             42\n",
       " 25  cs                cs.PF                             42\n",
       " 26  cs                cs.OH                             42\n",
       " 27  cs                cs.DB                             42\n",
       " 28  cs                cs.RO                             42\n",
       " 29  cs                cs.AI                             42\n",
       " 30  cs                cs.LG                             42\n",
       " 31  cs                cs.SD                             42\n",
       " 32  cs                cs.DL                             42\n",
       " 33  cs                cs.OS                             42\n",
       " 34  cs                cs.CY                             42\n",
       " 35  cs                cs.ET                             42\n",
       " 36  cs                cs.AR                             42\n",
       " 37  cs                cs.CR                             42\n",
       " 38  math              math.OA                           54\n",
       " 39  math              math.RA                           54\n",
       " 40  math              math.FA                           54\n",
       " 41  math              math.GN                           54\n",
       " 42  math              math.QA                           54\n",
       " 43  math              math.LO                           54\n",
       " 44  math              math.CT                           54\n",
       " 45  math              math.AC                           54\n",
       " 46  math              math.ST                           54\n",
       " 47  math              math.CA                           54\n",
       " 48  math              math.GM                           54\n",
       " 49  math              math.SP                           54\n",
       " 50  math              math.AT                           54\n",
       " 51  math              math.RT                           54\n",
       " 52  math              math.NA                           54\n",
       " 53  math              math.KT                           54\n",
       " 54  math              math.DS                           54\n",
       " 55  math              math.AP                           54\n",
       " 56  math              math.MG                           54\n",
       " 57  math              math.DG                           54\n",
       " 58  math              math.CV                           54\n",
       " 59  math              math.NT                           54\n",
       " 60  math              math.CO                           54\n",
       " 61  math              math.HO                           54\n",
       " 62  math              math.PR                           54\n",
       " 63  math              math.GR                           54\n",
       " 64  math              math.OC                           54\n",
       " 65  math              math.AG                           54\n",
       " 66  math              math.SG                           54\n",
       " 67  math              math.GT                           54\n",
       " 68  physics           physics.bio-ph                    73\n",
       " 69  physics           physics.app-ph                    73\n",
       " 70  physics           physics.hist-ph                   73\n",
       " 71  physics           physics.gen-ph                    73\n",
       " 72  physics           physics.ins-det                   73\n",
       " 73  physics           physics.acc-ph                    73\n",
       " 74  physics           physics.atm-clus                  73\n",
       " 75  physics           physics.ao-ph                     73\n",
       " 76  physics           physics.med-ph                    73\n",
       " 77  physics           physics.optics                    73\n",
       " 78  physics           physics.ed-ph                     73\n",
       " 79  physics           physics.chem-ph                   73\n",
       " 80  physics           physics.atom-ph                   73\n",
       " 81  physics           physics.plasm-ph                  73\n",
       " 82  physics           physics.geo-ph                    73\n",
       " 83  physics           physics.space-ph                  73\n",
       " 84  physics           physics.soc-ph                    73\n",
       " 85  physics           physics.flu-dyn                   73\n",
       " 86  physics           physics.pop-ph                    73\n",
       " 87  physics           physics.data-an                   73\n",
       " 88  physics           physics.class-ph                  73\n",
       " 89  physics           physics.comp-ph                   73\n",
       " 90  econ              econ.TH                           95\n",
       " 91  q-bio             q-bio.NC                         160\n",
       " 92  q-bio             q-bio.GN                         160\n",
       " 93  q-bio             q-bio.CB                         160\n",
       " 94  q-bio             q-bio.BM                         160\n",
       " 95  q-bio             q-bio.QM                         160\n",
       " 96  q-bio             q-bio.PE                         160\n",
       " 97  q-bio             q-bio.SC                         160\n",
       " 98  q-bio             q-bio.MN                         160\n",
       " 99  q-bio             q-bio.TO                         160\n",
       "100  q-bio             q-bio.OT                         160\n",
       "101  cond-mat          cond-mat.mes-hall                178\n",
       "102  cond-mat          cond-mat.supr-con                178\n",
       "103  cond-mat          cond-mat.mtrl-sci                178\n",
       "104  cond-mat          cond-mat.quant-gas               178\n",
       "105  cond-mat          cond-mat.str-el                  178\n",
       "106  cond-mat          cond-mat.stat-mech               178\n",
       "107  cond-mat          cond-mat.soft                    178\n",
       "108  cond-mat          cond-mat.dis-nn                  178\n",
       "109  cond-mat          cond-mat.other                   178\n",
       "110  q-fin             q-fin.ST                         200\n",
       "111  q-fin             q-fin.CP                         200\n",
       "112  q-fin             q-fin.RM                         200\n",
       "113  q-fin             q-fin.TR                         200\n",
       "114  q-fin             q-fin.PR                         200\n",
       "115  q-fin             q-fin.MF                         200\n",
       "116  q-fin             q-fin.GN                         200\n",
       "117  q-fin             q-fin.PM                         200\n",
       "118  astro-ph          astro-ph                         229\n",
       "119  astro-ph          astro-ph.SR                      229\n",
       "120  astro-ph          astro-ph.HE                      229\n",
       "121  astro-ph          astro-ph.CO                      229\n",
       "122  astro-ph          astro-ph.EP                      229\n",
       "123  astro-ph          astro-ph.IM                      229\n",
       "124  astro-ph          astro-ph.GA                      229\n",
       "125  stat              stat.OT                          265\n",
       "126  nlin              nlin.CG                          302\n",
       "127  nlin              nlin.CD                          323\n",
       "128  nlin              nlin.SI                          323\n",
       "129  nlin              nlin.PS                          323\n",
       "130  nlin              nlin.AO                          323\n",
       "131  stat              stat.CO                          330\n",
       "132  stat              stat.AP                          330\n",
       "133  stat              stat.ME                          330\n",
       "134  stat              stat.ML                          330\n",
       "135  econ              econ.EM                          331\n",
       "136  eess              eess.IV                          400\n",
       "137  eess              eess.AS                          400\n",
       "138  eess              eess.SP                          400\n",
       "139  eess              eess.SY                          400\n",
       "140  dg-ga             dg-ga                            446\n",
       "141  econ              econ.GN                          508\n",
       "142  math-ph           math-ph                         1600\n",
       "143  hep-ex            hep-ex                          1600\n",
       "144  hep-lat           hep-lat                         1600\n",
       "145  hep-th            hep-th                          1600\n",
       "146  hep-ph            hep-ph                          1600\n",
       "147  nucl-ex           nucl-ex                         1600\n",
       "148  quant-ph          quant-ph                        1600\n",
       "149  nucl-th           nucl-th                         1600\n",
       "150  gr-qc             gr-qc                           1600"
      ]
     },
     "execution_count": 7,
     "metadata": {},
     "output_type": "execute_result"
    },
    {
     "data": {
      "text/html": [
       "<table>\n",
       "<thead>\n",
       "<tr><th>#                             </th><th>major_category  </th><th style=\"text-align: right;\">  paper_id_count</th></tr>\n",
       "</thead>\n",
       "<tbody>\n",
       "<tr><td><i style='opacity: 0.6'>0</i> </td><td>dg-ga           </td><td style=\"text-align: right;\">             446</td></tr>\n",
       "<tr><td><i style='opacity: 0.6'>1</i> </td><td>econ            </td><td style=\"text-align: right;\">             934</td></tr>\n",
       "<tr><td><i style='opacity: 0.6'>2</i> </td><td>stat            </td><td style=\"text-align: right;\">            1585</td></tr>\n",
       "<tr><td><i style='opacity: 0.6'>3</i> </td><td>nlin            </td><td style=\"text-align: right;\">            1594</td></tr>\n",
       "<tr><td><i style='opacity: 0.6'>4</i> </td><td>cs              </td><td style=\"text-align: right;\">            1596</td></tr>\n",
       "<tr><td><i style='opacity: 0.6'>5</i> </td><td>gr-qc           </td><td style=\"text-align: right;\">            1600</td></tr>\n",
       "<tr><td><i style='opacity: 0.6'>6</i> </td><td>nucl-th         </td><td style=\"text-align: right;\">            1600</td></tr>\n",
       "<tr><td><i style='opacity: 0.6'>7</i> </td><td>q-fin           </td><td style=\"text-align: right;\">            1600</td></tr>\n",
       "<tr><td><i style='opacity: 0.6'>8</i> </td><td>eess            </td><td style=\"text-align: right;\">            1600</td></tr>\n",
       "<tr><td><i style='opacity: 0.6'>9</i> </td><td>quant-ph        </td><td style=\"text-align: right;\">            1600</td></tr>\n",
       "<tr><td><i style='opacity: 0.6'>10</i></td><td>nucl-ex         </td><td style=\"text-align: right;\">            1600</td></tr>\n",
       "<tr><td><i style='opacity: 0.6'>11</i></td><td>hep-ph          </td><td style=\"text-align: right;\">            1600</td></tr>\n",
       "<tr><td><i style='opacity: 0.6'>12</i></td><td>q-bio           </td><td style=\"text-align: right;\">            1600</td></tr>\n",
       "<tr><td><i style='opacity: 0.6'>13</i></td><td>hep-th          </td><td style=\"text-align: right;\">            1600</td></tr>\n",
       "<tr><td><i style='opacity: 0.6'>14</i></td><td>hep-lat         </td><td style=\"text-align: right;\">            1600</td></tr>\n",
       "<tr><td><i style='opacity: 0.6'>15</i></td><td>hep-ex          </td><td style=\"text-align: right;\">            1600</td></tr>\n",
       "<tr><td><i style='opacity: 0.6'>16</i></td><td>math-ph         </td><td style=\"text-align: right;\">            1600</td></tr>\n",
       "<tr><td><i style='opacity: 0.6'>17</i></td><td>cond-mat        </td><td style=\"text-align: right;\">            1602</td></tr>\n",
       "<tr><td><i style='opacity: 0.6'>18</i></td><td>astro-ph        </td><td style=\"text-align: right;\">            1603</td></tr>\n",
       "<tr><td><i style='opacity: 0.6'>19</i></td><td>physics         </td><td style=\"text-align: right;\">            1606</td></tr>\n",
       "<tr><td><i style='opacity: 0.6'>20</i></td><td>math            </td><td style=\"text-align: right;\">            1620</td></tr>\n",
       "</tbody>\n",
       "</table>"
      ],
      "text/plain": [
       "  #  major_category      paper_id_count\n",
       "  0  dg-ga                          446\n",
       "  1  econ                           934\n",
       "  2  stat                          1585\n",
       "  3  nlin                          1594\n",
       "  4  cs                            1596\n",
       "  5  gr-qc                         1600\n",
       "  6  nucl-th                       1600\n",
       "  7  q-fin                         1600\n",
       "  8  eess                          1600\n",
       "  9  quant-ph                      1600\n",
       " 10  nucl-ex                       1600\n",
       " 11  hep-ph                        1600\n",
       " 12  q-bio                         1600\n",
       " 13  hep-th                        1600\n",
       " 14  hep-lat                       1600\n",
       " 15  hep-ex                        1600\n",
       " 16  math-ph                       1600\n",
       " 17  cond-mat                      1602\n",
       " 18  astro-ph                      1603\n",
       " 19  physics                       1606\n",
       " 20  math                          1620"
      ]
     },
     "execution_count": 7,
     "metadata": {},
     "output_type": "execute_result"
    }
   ],
   "source": [
    "vaex.settings.display.max_rows = 200\n",
    "cat_count_df = train_df.groupby(['major_category', 'prime_category'], agg = vaex.agg.count('paper_id')).sort(['paper_id_count'])\n",
    "cat_count_df\n",
    "train_df.groupby('major_category', agg = vaex.agg.count('paper_id')).sort('paper_id_count')\n",
    "vaex.settings.display.max_rows = 30"
   ]
  },
  {
   "cell_type": "code",
   "execution_count": 8,
   "id": "4b10b77a-88cf-442f-aa4c-944995395675",
   "metadata": {},
   "outputs": [
    {
     "data": {
      "text/plain": [
       "Expression = paper_id\n",
       "Length: 31,786 dtype: string (column)\n",
       "-------------------------------------\n",
       "    0      1110.1547\n",
       "    1      1107.3567\n",
       "    2     1610.06216\n",
       "    3      1309.3106\n",
       "    4      1410.2451\n",
       "        ...         \n",
       "31781  dg-ga/9712021\n",
       "31782  dg-ga/9606008\n",
       "31783  dg-ga/9506009\n",
       "31784  dg-ga/9612013\n",
       "31785  dg-ga/9707021"
      ]
     },
     "execution_count": 8,
     "metadata": {},
     "output_type": "execute_result"
    }
   ],
   "source": [
    "train_df.paper_id"
   ]
  },
  {
   "cell_type": "code",
   "execution_count": null,
   "id": "5e391bc8-4b08-4dc9-8029-2a28d8db1090",
   "metadata": {},
   "outputs": [],
   "source": []
  },
  {
   "cell_type": "code",
   "execution_count": 9,
   "id": "e46f0993-7cdd-45bd-9693-f725e8066461",
   "metadata": {},
   "outputs": [
    {
     "data": {
      "text/plain": [
       "{'paper_id': '1110.1547',\n",
       " 'version': '1',\n",
       " 'yymm': '1110',\n",
       " 'created': Timestamp('2011-10-07 14:37:25'),\n",
       " 'title': 'The impact of CCD radiation damage on Gaia astrometry: I. Image location estimation in the presence of radiation damage',\n",
       " 'abs_categories': 'astro-ph.IM',\n",
       " 'abstract': 'The Gaia mission has been designed to perform absolute astrometric measurements with unprecedented accuracy; the end-of-mission parallax standard error is required to be 30 micro-arcseconds for a G2V type star of magnitude 15. These requirements set a stringent constraint on the accuracy of the estimation of the location of the stellar image on the CCD for each observation: e.g., 0.3 milli-arseconds (mas) or 0.005 pixels for the same V=15 G2V star. However the Gaia CCDs will suffer from charge transfer inefficiency (CTI) caused by radiation damage that will degrade the stellar image quality and may degrade the astrometric performance of Gaia if not properly addressed. For the first time at this level of detail, the potential impact of radiation damage on the performance of Gaia is investigated. In this first paper we focus on the evaluation of the CTI impact on the image location accuracy. We show that CTI decreases the stellar image signal-to-noise ratio and irreversibly degrades the image location estimation precision. As a consequence the location estimation standard errors increase by up to 6% for a radiation damage level equivalent to the end-of-mission. In addition the CTI-induced image distortion introduces a systematic bias in the image location estimation (up to 0.05 pixels or 3 mas in the Gaia operating conditions). We present a novel approach to CTI mitigation that enables, without correction of the raw data, the unbiased estimation of the image location and flux from damaged observations. Its implementation reduces the maximum measured location bias for the faintest magnitude to 0.005 pixels (~4e-4 pixels at magnitude 15). In a second paper we will investigate how the CTI effects affect the final astrometric accuracy of Gaia by propagating residual errors through the astrometric solution.',\n",
       " 'prime_category': 'astro-ph.IM',\n",
       " 'major_category': 'astro-ph'}"
      ]
     },
     "execution_count": 9,
     "metadata": {},
     "output_type": "execute_result"
    }
   ],
   "source": [
    "paper = dict(zip(train_df.column_names, train_df[0]))\n",
    "paper"
   ]
  },
  {
   "cell_type": "code",
   "execution_count": 21,
   "id": "28d594ec-ac10-4e1f-9df1-1277217a7bc3",
   "metadata": {},
   "outputs": [],
   "source": [
    "from google.cloud import storage as gs\n",
    "from google.cloud import exceptions as gerr"
   ]
  },
  {
   "cell_type": "code",
   "execution_count": 22,
   "id": "b449922a-b660-4545-879d-a9f3419a5180",
   "metadata": {},
   "outputs": [],
   "source": [
    "key_file_path = \"/home/cjc73/.credentials/arxiv-production-e9574603e738.json\"\n",
    "client = gs.Client.from_service_account_json(key_file_path)\n",
    "\n",
    "def get_last_version(paper):\n",
    "    prefix_path = '/'.join([\n",
    "        'txt',\n",
    "        paper['major_category'] if '/' in paper['paper_id'] else 'arxiv', \n",
    "        paper['yymm'],\n",
    "        paper['paper_id'].split('/')[-1],\n",
    "        #\"1001\",\n",
    "        #paper['yymm'],\n",
    "        #paper['']\n",
    "    ])\n",
    "    blobs = client.list_blobs(\n",
    "        'arxiv-production-data', \n",
    "        prefix=prefix_path\n",
    "    )\n",
    "    return max(blobs, key=lambda x: x.name) #latest version"
   ]
  },
  {
   "cell_type": "markdown",
   "id": "29d7dc5f-c8e2-438e-bed1-c2bc54bfeeef",
   "metadata": {},
   "source": [
    "Need to extract the components from record to build a path and test with different permissions. \n",
    "\n",
    "    "
   ]
  },
  {
   "cell_type": "code",
   "execution_count": 12,
   "id": "59d2f0e4-2288-449b-9e5f-d4997c685ac5",
   "metadata": {},
   "outputs": [
    {
     "ename": "NameError",
     "evalue": "name 'blob' is not defined",
     "output_type": "error",
     "traceback": [
      "\u001b[0;31m---------------------------------------------------------------------------\u001b[0m",
      "\u001b[0;31mNameError\u001b[0m                                 Traceback (most recent call last)",
      "\u001b[0;32m/tmp/ipykernel_110516/2053014669.py\u001b[0m in \u001b[0;36m<module>\u001b[0;34m\u001b[0m\n\u001b[0;32m----> 1\u001b[0;31m \u001b[0mblob\u001b[0m\u001b[0;34m.\u001b[0m\u001b[0mpath\u001b[0m\u001b[0;34m\u001b[0m\u001b[0;34m\u001b[0m\u001b[0m\n\u001b[0m\u001b[1;32m      2\u001b[0m \u001b[0mblob\u001b[0m\u001b[0;34m.\u001b[0m\u001b[0mbucket\u001b[0m\u001b[0;34m\u001b[0m\u001b[0;34m\u001b[0m\u001b[0m\n\u001b[1;32m      3\u001b[0m \u001b[0mblob\u001b[0m\u001b[0;34m.\u001b[0m\u001b[0mname\u001b[0m\u001b[0;34m\u001b[0m\u001b[0;34m\u001b[0m\u001b[0m\n",
      "\u001b[0;31mNameError\u001b[0m: name 'blob' is not defined"
     ]
    }
   ],
   "source": [
    "blob.path\n",
    "blob.bucket\n",
    "blob.name"
   ]
  },
  {
   "cell_type": "code",
   "execution_count": 13,
   "id": "a8c2b98c-8de9-46dd-92f1-48dacf503f6e",
   "metadata": {},
   "outputs": [
    {
     "data": {
      "text/plain": [
       "31786"
      ]
     },
     "execution_count": 13,
     "metadata": {},
     "output_type": "execute_result"
    }
   ],
   "source": [
    "train_df.shape[0]"
   ]
  },
  {
   "cell_type": "code",
   "execution_count": 14,
   "id": "29465a1a-1096-4246-b12e-95e040b33be5",
   "metadata": {},
   "outputs": [
    {
     "data": {
      "application/vnd.jupyter.widget-view+json": {
       "model_id": "b67976c1bacf4088aba6fae812b407ab",
       "version_major": 2,
       "version_minor": 0
      },
      "text/plain": [
       "  0%|          | 0/31786 [00:00<?, ?it/s]"
      ]
     },
     "metadata": {},
     "output_type": "display_data"
    },
    {
     "data": {
      "application/vnd.jupyter.widget-view+json": {
       "model_id": "60d172d1ef8f4c289dd34d9769602a4e",
       "version_major": 2,
       "version_minor": 0
      },
      "text/plain": [
       "  0%|          | 0/31786 [00:00<?, ?it/s]"
      ]
     },
     "metadata": {},
     "output_type": "display_data"
    },
    {
     "name": "stdout",
     "output_type": "stream",
     "text": [
      "33 errors of 31786 completed.\n",
      "0 decode fails of 31786 completed.\n"
     ]
    }
   ],
   "source": [
    "with open('data/fulltext/train_major_cats_full.json', 'w') as outfile, \\\n",
    "    tqdm(total=train_df.shape[0]) as err_bar:\n",
    "    \n",
    "    fail_count = 0\n",
    "    fail_idx = []\n",
    "    decode_fail_count = 0\n",
    "    decode_fail_idx = []\n",
    "\n",
    "    for i, row in tqdm(enumerate(train_df.iterrows()), total=train_df.shape[0]):\n",
    "        #print(row)\n",
    "        paper = row[1]\n",
    "        try:\n",
    "            blob = get_last_version(paper)\n",
    "            textbytes = blob.download_as_bytes()\n",
    "        except (ValueError, gerr.GoogleCloudError):\n",
    "            fail_count += 1\n",
    "            fail_idx.append(row[0])\n",
    "            _ = err_bar.update(err_bar.n + 1)\n",
    "            continue\n",
    "            \n",
    "        except gerr.GoogleCloudError:\n",
    "            fail_count += 1\n",
    "            fail_idx.append(row[0])\n",
    "            _ = err_bar.update(err_bar.n + 1)\n",
    "        try: \n",
    "            text_string = textbytes.decode('utf-8')\n",
    "            paper['fulltext'] = text_string  \n",
    "        except UnicodeDecodeError:\n",
    "            try:\n",
    "                text_string = textbytes.decode(\"windows-1252\")\n",
    "                paper['fulltext'] = text_string  \n",
    "            except:\n",
    "                try:\n",
    "                    text_string = textbytes.decode(\"cp1251\")\n",
    "                    paper['fulltext'] = text_string  \n",
    "                except:\n",
    "                    decode_fail_count += 1\n",
    "                    decode_fail_idx.append(row[0])\n",
    "                    _ = err_bar.update(err_bar.n + 1)\n",
    "\n",
    "        paper['created'] = paper['created'].isoformat()\n",
    "        _ = outfile.write(\n",
    "                json.dumps(\n",
    "                    paper, \n",
    "                    ensure_ascii=False\n",
    "                )\n",
    "            )\n",
    "        _ = outfile.write('\\n')\n",
    "        time.sleep(.3)\n",
    "\n",
    "print(f\"{fail_count} errors of {i+1} completed.\")\n",
    "print(f\"{decode_fail_count} decode fails of {i+1} completed.\")\n",
    "    \n",
    "        \n",
    "        "
   ]
  },
  {
   "cell_type": "code",
   "execution_count": 30,
   "id": "3d6eb28b-ba24-415f-90b5-1cfcf630ea9f",
   "metadata": {},
   "outputs": [
    {
     "data": {
      "application/vnd.jupyter.widget-view+json": {
       "model_id": "e078508b2be3440db64e0a48cac8d004",
       "version_major": 2,
       "version_minor": 0
      },
      "text/plain": [
       "  0%|          | 0/7938 [00:00<?, ?it/s]"
      ]
     },
     "metadata": {},
     "output_type": "display_data"
    },
    {
     "data": {
      "application/vnd.jupyter.widget-view+json": {
       "model_id": "315b8124782f4a1ea6ac5400de756041",
       "version_major": 2,
       "version_minor": 0
      },
      "text/plain": [
       "  0%|          | 0/7938 [00:00<?, ?it/s]"
      ]
     },
     "metadata": {},
     "output_type": "display_data"
    },
    {
     "name": "stdout",
     "output_type": "stream",
     "text": [
      "7 errors of 7938 completed.\n",
      "0 decode fails of 7938 completed.\n"
     ]
    }
   ],
   "source": [
    "with open('data/fulltext/test_major_cats_full.json', 'w') as outfile, \\\n",
    "    tqdm(total=test_df.shape[0]) as err_bar:\n",
    "    \n",
    "    fail_count = 0\n",
    "    fail_idx = []\n",
    "    decode_fail_count = 0\n",
    "    decode_fail_idx = []\n",
    "\n",
    "    for i, row in tqdm(enumerate(test_df.iterrows()), total=test_df.shape[0]):\n",
    "        #print(row)\n",
    "        paper = row[1]\n",
    "        try:\n",
    "            blob = get_last_version(paper)\n",
    "            textbytes = blob.download_as_bytes()\n",
    "        except (ValueError, gerr.GoogleCloudError):\n",
    "            fail_count += 1\n",
    "            fail_idx.append(row[0])\n",
    "            _ = err_bar.update(err_bar.n + 1)\n",
    "            continue\n",
    "\n",
    "        try: \n",
    "            text_string = textbytes.decode('utf-8')\n",
    "            paper['fulltext'] = text_string  \n",
    "        except UnicodeDecodeError:\n",
    "            try:\n",
    "                text_string = textbytes.decode(\"windows-1252\")\n",
    "                paper['fulltext'] = text_string  \n",
    "            except:\n",
    "                try:\n",
    "                    text_string = textbytes.decode(\"cp1251\")\n",
    "                    paper['fulltext'] = text_string  \n",
    "                except:\n",
    "                    decode_fail_count += 1\n",
    "                    decode_fail_idx.append(row[0])\n",
    "                    _ = err_bar.update(err_bar.n + 1)\n",
    "\n",
    "        paper['created'] = paper['created'].isoformat()\n",
    "        _ = outfile.write(\n",
    "                json.dumps(\n",
    "                    paper, \n",
    "                    ensure_ascii=False\n",
    "                )\n",
    "            )\n",
    "        _ = outfile.write('\\n')\n",
    "        time.sleep(.3)\n",
    "\n",
    "print(f\"{fail_count} errors of {i+1} completed.\")\n",
    "print(f\"{decode_fail_count} decode fails of {i+1} completed.\")\n",
    "    \n",
    "        \n",
    "        "
   ]
  },
  {
   "cell_type": "code",
   "execution_count": 33,
   "id": "3eda6657-63ed-43e1-b344-3729d429db7c",
   "metadata": {},
   "outputs": [
    {
     "data": {
      "text/plain": [
       "0"
      ]
     },
     "execution_count": 33,
     "metadata": {},
     "output_type": "execute_result"
    }
   ],
   "source": [
    "decode_fail_count\n",
    "for x in decode_fail_idx:\n",
    "    print(x)"
   ]
  },
  {
   "cell_type": "code",
   "execution_count": 34,
   "id": "c6ebeb1f-147d-453f-a5b8-71b767d2823a",
   "metadata": {},
   "outputs": [
    {
     "name": "stdout",
     "output_type": "stream",
     "text": [
      "397\n",
      "3083\n",
      "3402\n",
      "4270\n",
      "5439\n",
      "7006\n",
      "7934\n"
     ]
    }
   ],
   "source": [
    "for x in fail_idx:\n",
    "    print(x)"
   ]
  },
  {
   "cell_type": "code",
   "execution_count": 131,
   "id": "38a857d6-2acf-4592-83ec-5882535359d2",
   "metadata": {},
   "outputs": [
    {
     "data": {
      "text/plain": [
       "{'paper_id': '1605.03406',\n",
       " 'version': '2',\n",
       " 'yymm': '1605',\n",
       " 'created': Timestamp('2016-11-29 08:34:34'),\n",
       " 'title': 'Preface to the 18th workshop \"What comes beyond the standard models\", Bled July 11--19, 2015, and links to the talks in the proceedings',\n",
       " 'abs_categories': 'hep-ph hep-ex hep-th',\n",
       " 'abstract': 'The contribution contains the preface to the Proceedings to the 18th Workshop \"What Comes Beyond the Standard Models\", Bled, July 11 - 19, 2015, published in Bled workshops in physics, Vol.16, No. 2, DMFA-Zaloznistvo, Ljubljana, Dec. 2015, links to (most of) the published contributions and section (by M.Yu. Khlopov) on VIA at Bled 2015.',\n",
       " 'prime_category': 'hep-ph',\n",
       " 'major_category': 'hep-ph'}"
      ]
     },
     "execution_count": 131,
     "metadata": {},
     "output_type": "execute_result"
    }
   ],
   "source": [
    "paper = dict(zip(train_df.column_names, test_df[3783]))\n",
    "paper"
   ]
  },
  {
   "cell_type": "code",
   "execution_count": 132,
   "id": "41b28c23-9363-455a-8d09-18968ed9e972",
   "metadata": {},
   "outputs": [
    {
     "ename": "ValueError",
     "evalue": "max() arg is an empty sequence",
     "output_type": "error",
     "traceback": [
      "\u001b[0;31m---------------------------------------------------------------------------\u001b[0m",
      "\u001b[0;31mValueError\u001b[0m                                Traceback (most recent call last)",
      "\u001b[0;32m/tmp/ipykernel_59277/3894276864.py\u001b[0m in \u001b[0;36m<module>\u001b[0;34m\u001b[0m\n\u001b[0;32m----> 1\u001b[0;31m \u001b[0mblob\u001b[0m \u001b[0;34m=\u001b[0m \u001b[0mget_last_version\u001b[0m\u001b[0;34m(\u001b[0m\u001b[0mpaper\u001b[0m\u001b[0;34m)\u001b[0m\u001b[0;34m\u001b[0m\u001b[0;34m\u001b[0m\u001b[0m\n\u001b[0m\u001b[1;32m      2\u001b[0m \u001b[0mtestbytes\u001b[0m \u001b[0;34m=\u001b[0m \u001b[0mblob\u001b[0m\u001b[0;34m.\u001b[0m\u001b[0mdownload_as_bytes\u001b[0m\u001b[0;34m(\u001b[0m\u001b[0;34m)\u001b[0m\u001b[0;34m\u001b[0m\u001b[0;34m\u001b[0m\u001b[0m\n",
      "\u001b[0;32m/tmp/ipykernel_59277/3145541644.py\u001b[0m in \u001b[0;36mget_last_version\u001b[0;34m(paper)\u001b[0m\n\u001b[1;32m     16\u001b[0m         \u001b[0mprefix\u001b[0m\u001b[0;34m=\u001b[0m\u001b[0mprefix_path\u001b[0m\u001b[0;34m\u001b[0m\u001b[0;34m\u001b[0m\u001b[0m\n\u001b[1;32m     17\u001b[0m     )\n\u001b[0;32m---> 18\u001b[0;31m     \u001b[0;32mreturn\u001b[0m \u001b[0mmax\u001b[0m\u001b[0;34m(\u001b[0m\u001b[0mblobs\u001b[0m\u001b[0;34m,\u001b[0m \u001b[0mkey\u001b[0m\u001b[0;34m=\u001b[0m\u001b[0;32mlambda\u001b[0m \u001b[0mx\u001b[0m\u001b[0;34m:\u001b[0m \u001b[0mx\u001b[0m\u001b[0;34m.\u001b[0m\u001b[0mname\u001b[0m\u001b[0;34m)\u001b[0m \u001b[0;31m#latest version\u001b[0m\u001b[0;34m\u001b[0m\u001b[0;34m\u001b[0m\u001b[0m\n\u001b[0m",
      "\u001b[0;31mValueError\u001b[0m: max() arg is an empty sequence"
     ]
    }
   ],
   "source": [
    "blob = get_last_version(paper)\n",
    "testbytes = blob.download_as_bytes()"
   ]
  },
  {
   "cell_type": "code",
   "execution_count": 136,
   "id": "8eb09a39-d958-46fd-bf45-b6c0bf93053c",
   "metadata": {},
   "outputs": [
    {
     "data": {
      "text/plain": [
       "'\\nUniv. Paris Diderot, Sorbonne Paris Citґ , 4 rue Elsa Morante, 75205 Paris Cedex e\\n\\n13\\n3 4\\n\\nDepartm'"
      ]
     },
     "execution_count": 136,
     "metadata": {},
     "output_type": "execute_result"
    }
   ],
   "source": [
    "testbytes[230:330].decode(\"cp1251\")"
   ]
  },
  {
   "cell_type": "code",
   "execution_count": 137,
   "id": "b8b62760-a8ab-4067-8dcb-7f053fbac83c",
   "metadata": {},
   "outputs": [
    {
     "data": {
      "text/plain": [
       "'\\nUniv. Paris Diderot, Sorbonne Paris Cit´ , 4 rue Elsa Morante, 75205 Paris Cedex e\\n\\n13\\n3 4\\n\\nDepartm'"
      ]
     },
     "execution_count": 137,
     "metadata": {},
     "output_type": "execute_result"
    }
   ],
   "source": [
    "testbytes[230:330].decode(\"windows-1252\")"
   ]
  },
  {
   "cell_type": "code",
   "execution_count": 138,
   "id": "483bd1ca-7d5f-4245-8f65-d19f4d8ad582",
   "metadata": {},
   "outputs": [
    {
     "data": {
      "text/plain": [
       "'\\nUniv. Paris Diderot, Sorbonne Paris Cit´ , 4 rue Elsa Morante, 75205 Paris Cedex e\\n\\n13\\n3 4\\n\\nDepartm'"
      ]
     },
     "execution_count": 138,
     "metadata": {},
     "output_type": "execute_result"
    }
   ],
   "source": [
    "testbytes[230:330].decode(\"latin-1\")"
   ]
  },
  {
   "cell_type": "code",
   "execution_count": null,
   "id": "a643c2ac-8313-4c7d-8916-cd502e7286ff",
   "metadata": {},
   "outputs": [],
   "source": []
  },
  {
   "cell_type": "code",
   "execution_count": 120,
   "id": "99b9d964-6433-440d-856a-2656f4bbe4a2",
   "metadata": {},
   "outputs": [
    {
     "ename": "UnicodeDecodeError",
     "evalue": "'utf-8' codec can't decode byte 0xb4 in position 5: invalid start byte",
     "output_type": "error",
     "traceback": [
      "\u001b[0;31m---------------------------------------------------------------------------\u001b[0m",
      "\u001b[0;31mUnicodeDecodeError\u001b[0m                        Traceback (most recent call last)",
      "\u001b[0;32m/tmp/ipykernel_59277/1254255391.py\u001b[0m in \u001b[0;36m<module>\u001b[0;34m\u001b[0m\n\u001b[0;32m----> 1\u001b[0;31m \u001b[0mtestbytes\u001b[0m\u001b[0;34m[\u001b[0m\u001b[0;36m265\u001b[0m\u001b[0;34m:\u001b[0m\u001b[0;36m330\u001b[0m\u001b[0;34m]\u001b[0m\u001b[0;34m.\u001b[0m\u001b[0mdecode\u001b[0m\u001b[0;34m(\u001b[0m\u001b[0;34m\"utf-8\"\u001b[0m\u001b[0;34m)\u001b[0m\u001b[0;34m\u001b[0m\u001b[0;34m\u001b[0m\u001b[0m\n\u001b[0m",
      "\u001b[0;31mUnicodeDecodeError\u001b[0m: 'utf-8' codec can't decode byte 0xb4 in position 5: invalid start byte"
     ]
    }
   ],
   "source": [
    "testbytes[265:330].decode(\"utf-8\")"
   ]
  },
  {
   "cell_type": "raw",
   "id": "19f4f3f5-1545-440a-824e-983b2a1bbf07",
   "metadata": {},
   "source": [
    "fulltext = blob.download_as_text()"
   ]
  },
  {
   "cell_type": "code",
   "execution_count": 80,
   "id": "236db7d3-a102-4992-97ba-4615df3989eb",
   "metadata": {},
   "outputs": [
    {
     "data": {
      "text/plain": [
       "'Mon. Not. R. Astron. Soc. 000, 1 -- 21 (2011)\\n\\nPrinted 10 November 2018\\n\\n(MN LATEX style file v2.2)\\n\\nThe impact of CCD radiation damage on Gaia astrometry:\\nI. Image location estimation in the presence'"
      ]
     },
     "execution_count": 80,
     "metadata": {},
     "output_type": "execute_result"
    }
   ],
   "source": [
    "fulltext[:200]"
   ]
  },
  {
   "cell_type": "code",
   "execution_count": 118,
   "id": "8667cb95-e0e2-4175-bdb0-b41979e6259e",
   "metadata": {},
   "outputs": [
    {
     "ename": "UnicodeDecodeError",
     "evalue": "'utf-8' codec can't decode byte 0x98 in position 0: invalid start byte",
     "output_type": "error",
     "traceback": [
      "\u001b[0;31m---------------------------------------------------------------------------\u001b[0m",
      "\u001b[0;31mUnicodeDecodeError\u001b[0m                        Traceback (most recent call last)",
      "\u001b[0;32m/tmp/ipykernel_59277/481135456.py\u001b[0m in \u001b[0;36m<module>\u001b[0;34m\u001b[0m\n\u001b[0;32m----> 1\u001b[0;31m \u001b[0;34mb'\\x98'\u001b[0m\u001b[0;34m.\u001b[0m\u001b[0mdecode\u001b[0m\u001b[0;34m(\u001b[0m\u001b[0;34m\"utf-8\"\u001b[0m\u001b[0;34m)\u001b[0m\u001b[0;34m\u001b[0m\u001b[0;34m\u001b[0m\u001b[0m\n\u001b[0m",
      "\u001b[0;31mUnicodeDecodeError\u001b[0m: 'utf-8' codec can't decode byte 0x98 in position 0: invalid start byte"
     ]
    }
   ],
   "source": [
    "b'\\x98'.decode(\"utf-8\")"
   ]
  },
  {
   "cell_type": "code",
   "execution_count": null,
   "id": "eb99987a-034b-47df-b2df-ef0bc8926106",
   "metadata": {},
   "outputs": [],
   "source": []
  },
  {
   "cell_type": "code",
   "execution_count": 72,
   "id": "b65ceb47-e7a2-458d-a9f2-5ee87e06c2e0",
   "metadata": {},
   "outputs": [
    {
     "data": {
      "text/plain": [
       "[<Blob: arxiv-production-data, txt/arxiv/1410/1410.2451v1.txt, 1628900653232500>,\n",
       " <Blob: arxiv-production-data, txt/arxiv/1410/1410.2451v2.txt, 1628900653257189>]"
      ]
     },
     "execution_count": 72,
     "metadata": {},
     "output_type": "execute_result"
    }
   ],
   "source": [
    "sorted(blob_ls, key=lambda x: x.name)"
   ]
  },
  {
   "cell_type": "code",
   "execution_count": 73,
   "id": "6f05cfdc-86d4-41f4-a790-8dd1136da952",
   "metadata": {},
   "outputs": [
    {
     "data": {
      "text/plain": [
       "\u001b[0;31mDocstring:\u001b[0m\n",
       "min(iterable, *[, default=obj, key=func]) -> value\n",
       "min(arg1, arg2, *args, *[, key=func]) -> value\n",
       "\n",
       "With a single iterable argument, return its smallest item. The\n",
       "default keyword-only argument specifies an object to return if\n",
       "the provided iterable is empty.\n",
       "With two or more arguments, return the smallest argument.\n",
       "\u001b[0;31mType:\u001b[0m      builtin_function_or_method\n"
      ]
     },
     "metadata": {},
     "output_type": "display_data"
    }
   ],
   "source": [
    "min?"
   ]
  },
  {
   "cell_type": "code",
   "execution_count": null,
   "id": "dbf48af1-cf43-468f-b2f8-9f5b07385ac4",
   "metadata": {},
   "outputs": [],
   "source": []
  }
 ],
 "metadata": {
  "kernelspec": {
   "display_name": "Python 3 (ipykernel)",
   "language": "python",
   "name": "python3"
  },
  "language_info": {
   "codemirror_mode": {
    "name": "ipython",
    "version": 3
   },
   "file_extension": ".py",
   "mimetype": "text/x-python",
   "name": "python",
   "nbconvert_exporter": "python",
   "pygments_lexer": "ipython3",
   "version": "3.9.9"
  }
 },
 "nbformat": 4,
 "nbformat_minor": 5
}
