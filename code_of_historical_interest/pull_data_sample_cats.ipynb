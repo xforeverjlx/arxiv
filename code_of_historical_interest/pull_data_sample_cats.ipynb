{
 "cells": [
  {
   "cell_type": "code",
   "execution_count": null,
   "id": "0474ac1c-59d1-4cb8-bb80-4ce35ed73da3",
   "metadata": {},
   "outputs": [],
   "source": []
  },
  {
   "cell_type": "code",
   "execution_count": 1,
   "id": "e3c67bdd-1d1c-4159-a1da-857ce1d92f14",
   "metadata": {},
   "outputs": [],
   "source": [
    "import pandas as pd\n",
    "import numpy as np\n",
    "import vaex\n",
    "\n",
    "import glob\n",
    "\n",
    "import sqlalchemy as sqla\n",
    "import types\n",
    "import json"
   ]
  },
  {
   "cell_type": "code",
   "execution_count": 2,
   "id": "0dd8225b-2709-4d6a-a740-7471614de930",
   "metadata": {},
   "outputs": [],
   "source": [
    "%%capture\n",
    "from tqdm.notebook import trange, tqdm\n",
    "tqdm.pandas()"
   ]
  },
  {
   "cell_type": "code",
   "execution_count": 3,
   "id": "2c6d9e2b-b3c1-4cbf-8cd9-98b64888a10b",
   "metadata": {},
   "outputs": [],
   "source": [
    "from IPython.core.interactiveshell import InteractiveShell\n",
    "InteractiveShell.ast_node_interactivity = \"all\""
   ]
  },
  {
   "cell_type": "code",
   "execution_count": 4,
   "id": "60e736f2-e428-4606-824b-e85b3dcd2e50",
   "metadata": {},
   "outputs": [
    {
     "data": {
      "text/plain": [
       "6"
      ]
     },
     "execution_count": 4,
     "metadata": {},
     "output_type": "execute_result"
    },
    {
     "data": {
      "text/plain": [
       "151"
      ]
     },
     "execution_count": 4,
     "metadata": {},
     "output_type": "execute_result"
    },
    {
     "data": {
      "text/plain": [
       "157"
      ]
     },
     "execution_count": 4,
     "metadata": {},
     "output_type": "execute_result"
    }
   ],
   "source": [
    "# Replace the first with the second category\n",
    "CATEGORY_ALIASES = {\n",
    "    'math.MP': 'math-ph',\n",
    "    'stat.TH': 'math.ST',\n",
    "    'math.IT': 'cs.IT',\n",
    "    'q-fin.EC': 'econ.GN',\n",
    "    'cs.SY': 'eess.SY',\n",
    "    'cs.NA': 'math.NA'\n",
    "}\n",
    "\n",
    "# Used subject categories, with aliases removed.\n",
    "ACTIVE_CATEGORIES = [\n",
    "    'astro-ph.CO','astro-ph.EP','astro-ph.GA',\n",
    "    'astro-ph.HE','astro-ph.IM','astro-ph.SR',\n",
    "    'cond-mat.dis-nn','cond-mat.mes-hall','cond-mat.mtrl-sci',\n",
    "    'cond-mat.other','cond-mat.quant-gas','cond-mat.soft',\n",
    "    'cond-mat.stat-mech','cond-mat.str-el','cond-mat.supr-con',\n",
    "    'cs.AI','cs.AR','cs.CC','cs.CE','cs.CG','cs.CL','cs.CR',\n",
    "    'cs.CV','cs.CY','cs.DB','cs.DC','cs.DL','cs.DM','cs.DS',\n",
    "    'cs.ET','cs.FL','cs.GL','cs.GR','cs.GT','cs.HC','cs.IR',\n",
    "    'cs.IT','cs.LG','cs.LO','cs.MA','cs.MM','cs.MS','cs.NE',\n",
    "    'cs.NI','cs.OH','cs.OS','cs.PF','cs.PL','cs.RO','cs.SC',\n",
    "    'cs.SD','cs.SE','cs.SI',\n",
    "    'econ.EM','econ.GN','econ.TH',\n",
    "    'eess.AS','eess.IV','eess.SP','eess.SY',\n",
    "    'gr-qc',\n",
    "    'hep-ex','hep-lat','hep-ph','hep-th',\n",
    "    'math-ph','math.AC','math.AG','math.AP',\n",
    "    'math.AT','math.CA','math.CO','math.CT',\n",
    "    'math.CV','math.DG','math.DS','math.FA',\n",
    "    'math.GM','math.GN','math.GR','math.GT',\n",
    "    'math.HO','math.KT','math.LO','math.MG',\n",
    "    'math.NA','math.NT','math.OA','math.OC',\n",
    "    'math.PR','math.QA','math.RA','math.RT',\n",
    "    'math.SG','math.SP','math.ST',\n",
    "    'nlin.AO','nlin.CD','nlin.CG','nlin.PS','nlin.SI',\n",
    "    'nucl-ex','nucl-th',\n",
    "    'physics.acc-ph','physics.ao-ph','physics.app-ph',\n",
    "    'physics.atm-clus','physics.atom-ph','physics.bio-ph',\n",
    "    'physics.chem-ph','physics.class-ph','physics.comp-ph',\n",
    "    'physics.data-an','physics.ed-ph','physics.flu-dyn',\n",
    "    'physics.gen-ph','physics.geo-ph','physics.hist-ph',\n",
    "    'physics.ins-det','physics.med-ph','physics.optics',\n",
    "    'physics.plasm-ph','physics.pop-ph','physics.soc-ph',\n",
    "    'physics.space-ph',\n",
    "    'q-bio.BM','q-bio.CB','q-bio.GN','q-bio.MN','q-bio.NC',\n",
    "    'q-bio.OT','q-bio.PE','q-bio.QM','q-bio.SC','q-bio.TO',\n",
    "    'q-fin.CP','q-fin.GN','q-fin.MF','q-fin.PM',\n",
    "    'q-fin.PR','q-fin.RM','q-fin.ST','q-fin.TR',\n",
    "    'quant-ph',\n",
    "    'stat.AP','stat.CO','stat.ME','stat.ML','stat.OT',\n",
    "    'dg-ga', 'astro-ph'\n",
    "]\n",
    "\n",
    "CAT_REMAPPER = {x:x for x in ACTIVE_CATEGORIES} | CATEGORY_ALIASES\n",
    "\n",
    "\n",
    "len(CATEGORY_ALIASES)\n",
    "len(ACTIVE_CATEGORIES)\n",
    "len(CAT_REMAPPER)\n",
    "\n"
   ]
  },
  {
   "cell_type": "code",
   "execution_count": null,
   "id": "9e719a26-0ccb-47c2-951f-71e4ec7bb00a",
   "metadata": {},
   "outputs": [],
   "source": []
  },
  {
   "cell_type": "code",
   "execution_count": null,
   "id": "f4f4e1b2-95ff-48c6-b069-a18609c3dddc",
   "metadata": {},
   "outputs": [],
   "source": []
  },
  {
   "cell_type": "code",
   "execution_count": 18,
   "id": "07e3a036-ab8c-4ba4-b565-ca0105b523c0",
   "metadata": {},
   "outputs": [],
   "source": [
    "with open(\"/home/cjc73/.credentials/arxiv_mysql\") as creds:\n",
    "    #print(creds.read())\n",
    "    cns = types.SimpleNamespace(**json.load(creds))\n"
   ]
  },
  {
   "cell_type": "code",
   "execution_count": 19,
   "id": "8bfef3fb-c5c1-4ffe-951c-1d337ea86894",
   "metadata": {},
   "outputs": [],
   "source": [
    "server_name = \"arxiv-db-rep2.c94unvnkztba.us-east-1.rds.amazonaws.com\"\n",
    "db_name = \"arXiv\"\n",
    "engine = sqla.create_engine(\n",
    "    f\"mysql+pymysql://{cns.user}:{cns.password}@{server_name}/{db_name}\"\n",
    ")\n",
    "connection = engine.connect()\n",
    "medadata = sqla.MetaData()\n"
   ]
  },
  {
   "cell_type": "code",
   "execution_count": 20,
   "id": "bd5201e7-0534-424e-a72b-309eddf4169b",
   "metadata": {},
   "outputs": [
    {
     "name": "stdout",
     "output_type": "stream",
     "text": [
      "[(101070,)]\n"
     ]
    }
   ],
   "source": [
    "cmd = \"\"\"\n",
    "SELECT\n",
    "    COUNT(DISTINCT m.paper_id) as countPapers\n",
    "FROM `arXiv_metadata` m\n",
    "where \n",
    "    created >= '2015-01-01 00:00:00'\n",
    "    and created < '2016-01-01 00:00:00'\n",
    "    and m.is_current = 1 \n",
    "    and m.is_withdrawn = 0\n",
    ";\n",
    "\"\"\"\n",
    "with engine.connect() as con:\n",
    "    rs = con.execute(cmd)\n",
    "    print(rs.fetchall())\n"
   ]
  },
  {
   "cell_type": "code",
   "execution_count": null,
   "id": "b2322e29-a62c-4be6-affc-ce7781b71ae8",
   "metadata": {},
   "outputs": [],
   "source": []
  },
  {
   "cell_type": "code",
   "execution_count": 53,
   "id": "b947d995-d533-43c3-a0dd-c2773cde80af",
   "metadata": {},
   "outputs": [],
   "source": [
    "cmd = \"\"\"\n",
    "select \n",
    "    m.paper_id,\n",
    "    m.version,\n",
    "    case when instr(paper_id, '/')=0 then substr(paper_id,1,4) \n",
    "        else substr(paper_id,instr(paper_id, '/')+1,4)\n",
    "    end yymm,\n",
    "    m.created,\n",
    "    replace(m.abstract, '\\t',' ') abstract\n",
    "from arXiv_metadata m\n",
    "where \n",
    "    created >= '2015-01-01 00:00:00'\n",
    "    and created < '2016-01-01 00:00:00'\n",
    "    and m.is_current = 1 \n",
    "    and m.is_withdrawn = 0\n",
    "#order by 3,1\n",
    "limit 20\n",
    ";\n",
    "\"\"\""
   ]
  },
  {
   "cell_type": "code",
   "execution_count": 100,
   "id": "6672006e-2c04-43e9-82ed-d06c2a88fdc4",
   "metadata": {},
   "outputs": [
    {
     "data": {
      "text/plain": [
       "[0, 1, 2, 3, 4]"
      ]
     },
     "execution_count": 100,
     "metadata": {},
     "output_type": "execute_result"
    }
   ],
   "source": [
    "list(range(5))"
   ]
  },
  {
   "cell_type": "code",
   "execution_count": 101,
   "id": "c62ca96f-f28c-4554-9c55-4146a5800a6a",
   "metadata": {},
   "outputs": [
    {
     "data": {
      "application/vnd.jupyter.widget-view+json": {
       "model_id": "03d77de8bd25401eab38aba54dd4040a",
       "version_major": 2,
       "version_minor": 0
      },
      "text/plain": [
       "  0%|          | 0/4 [00:00<?, ?it/s]"
      ]
     },
     "metadata": {},
     "output_type": "display_data"
    },
    {
     "data": {
      "application/vnd.jupyter.widget-view+json": {
       "model_id": "d65ca70b85f54e8bb3d30b672e300222",
       "version_major": 2,
       "version_minor": 0
      },
      "text/plain": [
       "0it [00:00, ?it/s]"
      ]
     },
     "metadata": {},
     "output_type": "display_data"
    },
    {
     "data": {
      "application/vnd.jupyter.widget-view+json": {
       "model_id": "7e56dff82fff4f9685be12d23f48112f",
       "version_major": 2,
       "version_minor": 0
      },
      "text/plain": [
       "0it [00:00, ?it/s]"
      ]
     },
     "metadata": {},
     "output_type": "display_data"
    },
    {
     "data": {
      "application/vnd.jupyter.widget-view+json": {
       "model_id": "4dd2ad9fd42b47a1b5afd4f829aa9b3b",
       "version_major": 2,
       "version_minor": 0
      },
      "text/plain": [
       "0it [00:00, ?it/s]"
      ]
     },
     "metadata": {},
     "output_type": "display_data"
    },
    {
     "data": {
      "application/vnd.jupyter.widget-view+json": {
       "model_id": "5ca023c4ce914a1aa1304d9b7bb1f8b5",
       "version_major": 2,
       "version_minor": 0
      },
      "text/plain": [
       "0it [00:00, ?it/s]"
      ]
     },
     "metadata": {},
     "output_type": "display_data"
    }
   ],
   "source": [
    "cmd = \"\"\"\n",
    "select \n",
    "    m.paper_id,\n",
    "    m.version,\n",
    "    case when instr(paper_id, '/')=0 then substr(paper_id,1,4) \n",
    "        else substr(paper_id,instr(paper_id, '/')+1,4)\n",
    "    end yymm,\n",
    "    m.created,\n",
    "    m.title,\n",
    "    m.abs_categories,\n",
    "    replace(m.abstract, '\\t',' ') abstract\n",
    "from arXiv_metadata m\n",
    "where \n",
    "    created >= '{}-01-01 00:00:00'\n",
    "    and created < '{}-01-01 00:00:00'\n",
    "    and m.is_current = 1 \n",
    "    and m.is_withdrawn = 0\n",
    "#order by 3,1\n",
    "#limit 20\n",
    ";\n",
    "\"\"\"\n",
    "\n",
    "#years = [2015+i for i in range(8)]\n",
    "years = [2010+i for i in range(5)]\n",
    "intervals = list(zip(years, years[1:]))\n",
    "\n",
    "for from_yr, to_yr in tqdm(intervals):\n",
    "    with engine.connect() as con, open(f\"./data/fulltext/{from_yr}.json\", 'w') as outfile:\n",
    "        rs = con.execution_options(\n",
    "            stream_results=True,\n",
    "            max_row_buffer=500,\n",
    "        ).execute(cmd.format(from_yr, to_yr))\n",
    "\n",
    "        for row in tqdm(rs):\n",
    "            paper_dict = dict(zip(row.keys(), row))\n",
    "            paper_dict['created'] = paper_dict['created'].isoformat()\n",
    "            _ = outfile.write(\n",
    "                json.dumps(paper_dict, ensure_ascii=False)\n",
    "            )\n",
    "            _ = outfile.write('\\n')"
   ]
  },
  {
   "cell_type": "code",
   "execution_count": 23,
   "id": "65224595-7397-4826-a686-427cf0109557",
   "metadata": {},
   "outputs": [
    {
     "data": {
      "application/vnd.jupyter.widget-view+json": {
       "model_id": "51e5910c8a1048a39d83e8c30ceeeeb8",
       "version_major": 2,
       "version_minor": 0
      },
      "text/plain": [
       "  0%|          | 0/33 [00:00<?, ?it/s]"
      ]
     },
     "metadata": {},
     "output_type": "display_data"
    },
    {
     "data": {
      "application/vnd.jupyter.widget-view+json": {
       "model_id": "6c232a4f87f84568985e9c9b2acb1af7",
       "version_major": 2,
       "version_minor": 0
      },
      "text/plain": [
       "0it [00:00, ?it/s]"
      ]
     },
     "metadata": {},
     "output_type": "display_data"
    },
    {
     "data": {
      "application/vnd.jupyter.widget-view+json": {
       "model_id": "8f8f366ca57c4cefb7a88362c48459bd",
       "version_major": 2,
       "version_minor": 0
      },
      "text/plain": [
       "0it [00:00, ?it/s]"
      ]
     },
     "metadata": {},
     "output_type": "display_data"
    },
    {
     "ename": "KeyboardInterrupt",
     "evalue": "",
     "output_type": "error",
     "traceback": [
      "\u001b[0;31m---------------------------------------------------------------------------\u001b[0m",
      "\u001b[0;31mKeyboardInterrupt\u001b[0m                         Traceback (most recent call last)",
      "\u001b[0;32m/tmp/ipykernel_109976/1585368321.py\u001b[0m in \u001b[0;36m<module>\u001b[0;34m\u001b[0m\n\u001b[1;32m     65\u001b[0m \u001b[0;32mfor\u001b[0m \u001b[0mcat\u001b[0m \u001b[0;32min\u001b[0m \u001b[0mtqdm\u001b[0m\u001b[0;34m(\u001b[0m\u001b[0msmall_cats\u001b[0m\u001b[0;34m)\u001b[0m\u001b[0;34m:\u001b[0m\u001b[0;34m\u001b[0m\u001b[0;34m\u001b[0m\u001b[0m\n\u001b[1;32m     66\u001b[0m     \u001b[0;32mwith\u001b[0m \u001b[0mengine\u001b[0m\u001b[0;34m.\u001b[0m\u001b[0mconnect\u001b[0m\u001b[0;34m(\u001b[0m\u001b[0;34m)\u001b[0m \u001b[0;32mas\u001b[0m \u001b[0mcon\u001b[0m\u001b[0;34m,\u001b[0m \u001b[0mopen\u001b[0m\u001b[0;34m(\u001b[0m\u001b[0;34mf\"./data/fulltext/2000_2009.json\"\u001b[0m\u001b[0;34m,\u001b[0m \u001b[0;34m'a'\u001b[0m\u001b[0;34m)\u001b[0m \u001b[0;32mas\u001b[0m \u001b[0moutfile\u001b[0m\u001b[0;34m:\u001b[0m\u001b[0;34m\u001b[0m\u001b[0;34m\u001b[0m\u001b[0m\n\u001b[0;32m---> 67\u001b[0;31m         rs = con.execution_options(\n\u001b[0m\u001b[1;32m     68\u001b[0m             \u001b[0mstream_results\u001b[0m\u001b[0;34m=\u001b[0m\u001b[0;32mTrue\u001b[0m\u001b[0;34m,\u001b[0m\u001b[0;34m\u001b[0m\u001b[0;34m\u001b[0m\u001b[0m\n\u001b[1;32m     69\u001b[0m             \u001b[0mmax_row_buffer\u001b[0m\u001b[0;34m=\u001b[0m\u001b[0;36m500\u001b[0m\u001b[0;34m,\u001b[0m\u001b[0;34m\u001b[0m\u001b[0;34m\u001b[0m\u001b[0m\n",
      "\u001b[0;32m~/miniconda3/envs/cforge/lib/python3.9/site-packages/sqlalchemy/engine/base.py\u001b[0m in \u001b[0;36mexecute\u001b[0;34m(self, statement, *multiparams, **params)\u001b[0m\n\u001b[1;32m   1272\u001b[0m             )\n\u001b[1;32m   1273\u001b[0m \u001b[0;34m\u001b[0m\u001b[0m\n\u001b[0;32m-> 1274\u001b[0;31m             return self._exec_driver_sql(\n\u001b[0m\u001b[1;32m   1275\u001b[0m                 \u001b[0mstatement\u001b[0m\u001b[0;34m,\u001b[0m\u001b[0;34m\u001b[0m\u001b[0;34m\u001b[0m\u001b[0m\n\u001b[1;32m   1276\u001b[0m                 \u001b[0mmultiparams\u001b[0m\u001b[0;34m,\u001b[0m\u001b[0;34m\u001b[0m\u001b[0;34m\u001b[0m\u001b[0m\n",
      "\u001b[0;32m~/miniconda3/envs/cforge/lib/python3.9/site-packages/sqlalchemy/engine/base.py\u001b[0m in \u001b[0;36m_exec_driver_sql\u001b[0;34m(self, statement, multiparams, params, execution_options, future)\u001b[0m\n\u001b[1;32m   1576\u001b[0m \u001b[0;34m\u001b[0m\u001b[0m\n\u001b[1;32m   1577\u001b[0m         \u001b[0mdialect\u001b[0m \u001b[0;34m=\u001b[0m \u001b[0mself\u001b[0m\u001b[0;34m.\u001b[0m\u001b[0mdialect\u001b[0m\u001b[0;34m\u001b[0m\u001b[0;34m\u001b[0m\u001b[0m\n\u001b[0;32m-> 1578\u001b[0;31m         ret = self._execute_context(\n\u001b[0m\u001b[1;32m   1579\u001b[0m             \u001b[0mdialect\u001b[0m\u001b[0;34m,\u001b[0m\u001b[0;34m\u001b[0m\u001b[0;34m\u001b[0m\u001b[0m\n\u001b[1;32m   1580\u001b[0m             \u001b[0mdialect\u001b[0m\u001b[0;34m.\u001b[0m\u001b[0mexecution_ctx_cls\u001b[0m\u001b[0;34m.\u001b[0m\u001b[0m_init_statement\u001b[0m\u001b[0;34m,\u001b[0m\u001b[0;34m\u001b[0m\u001b[0;34m\u001b[0m\u001b[0m\n",
      "\u001b[0;32m~/miniconda3/envs/cforge/lib/python3.9/site-packages/sqlalchemy/engine/base.py\u001b[0m in \u001b[0;36m_execute_context\u001b[0;34m(self, dialect, constructor, statement, parameters, execution_options, *args, **kw)\u001b[0m\n\u001b[1;32m   1843\u001b[0m \u001b[0;34m\u001b[0m\u001b[0m\n\u001b[1;32m   1844\u001b[0m         \u001b[0;32mexcept\u001b[0m \u001b[0mBaseException\u001b[0m \u001b[0;32mas\u001b[0m \u001b[0me\u001b[0m\u001b[0;34m:\u001b[0m\u001b[0;34m\u001b[0m\u001b[0;34m\u001b[0m\u001b[0m\n\u001b[0;32m-> 1845\u001b[0;31m             self._handle_dbapi_exception(\n\u001b[0m\u001b[1;32m   1846\u001b[0m                 \u001b[0me\u001b[0m\u001b[0;34m,\u001b[0m \u001b[0mstatement\u001b[0m\u001b[0;34m,\u001b[0m \u001b[0mparameters\u001b[0m\u001b[0;34m,\u001b[0m \u001b[0mcursor\u001b[0m\u001b[0;34m,\u001b[0m \u001b[0mcontext\u001b[0m\u001b[0;34m\u001b[0m\u001b[0;34m\u001b[0m\u001b[0m\n\u001b[1;32m   1847\u001b[0m             )\n",
      "\u001b[0;32m~/miniconda3/envs/cforge/lib/python3.9/site-packages/sqlalchemy/engine/base.py\u001b[0m in \u001b[0;36m_handle_dbapi_exception\u001b[0;34m(self, e, statement, parameters, cursor, context)\u001b[0m\n\u001b[1;32m   2028\u001b[0m                 )\n\u001b[1;32m   2029\u001b[0m             \u001b[0;32melse\u001b[0m\u001b[0;34m:\u001b[0m\u001b[0;34m\u001b[0m\u001b[0;34m\u001b[0m\u001b[0m\n\u001b[0;32m-> 2030\u001b[0;31m                 \u001b[0mutil\u001b[0m\u001b[0;34m.\u001b[0m\u001b[0mraise_\u001b[0m\u001b[0;34m(\u001b[0m\u001b[0mexc_info\u001b[0m\u001b[0;34m[\u001b[0m\u001b[0;36m1\u001b[0m\u001b[0;34m]\u001b[0m\u001b[0;34m,\u001b[0m \u001b[0mwith_traceback\u001b[0m\u001b[0;34m=\u001b[0m\u001b[0mexc_info\u001b[0m\u001b[0;34m[\u001b[0m\u001b[0;36m2\u001b[0m\u001b[0;34m]\u001b[0m\u001b[0;34m)\u001b[0m\u001b[0;34m\u001b[0m\u001b[0;34m\u001b[0m\u001b[0m\n\u001b[0m\u001b[1;32m   2031\u001b[0m \u001b[0;34m\u001b[0m\u001b[0m\n\u001b[1;32m   2032\u001b[0m         \u001b[0;32mfinally\u001b[0m\u001b[0;34m:\u001b[0m\u001b[0;34m\u001b[0m\u001b[0;34m\u001b[0m\u001b[0m\n",
      "\u001b[0;32m~/miniconda3/envs/cforge/lib/python3.9/site-packages/sqlalchemy/util/compat.py\u001b[0m in \u001b[0;36mraise_\u001b[0;34m(***failed resolving arguments***)\u001b[0m\n\u001b[1;32m    205\u001b[0m \u001b[0;34m\u001b[0m\u001b[0m\n\u001b[1;32m    206\u001b[0m         \u001b[0;32mtry\u001b[0m\u001b[0;34m:\u001b[0m\u001b[0;34m\u001b[0m\u001b[0;34m\u001b[0m\u001b[0m\n\u001b[0;32m--> 207\u001b[0;31m             \u001b[0;32mraise\u001b[0m \u001b[0mexception\u001b[0m\u001b[0;34m\u001b[0m\u001b[0;34m\u001b[0m\u001b[0m\n\u001b[0m\u001b[1;32m    208\u001b[0m         \u001b[0;32mfinally\u001b[0m\u001b[0;34m:\u001b[0m\u001b[0;34m\u001b[0m\u001b[0;34m\u001b[0m\u001b[0m\n\u001b[1;32m    209\u001b[0m             \u001b[0;31m# credit to\u001b[0m\u001b[0;34m\u001b[0m\u001b[0;34m\u001b[0m\u001b[0m\n",
      "\u001b[0;32m~/miniconda3/envs/cforge/lib/python3.9/site-packages/sqlalchemy/engine/base.py\u001b[0m in \u001b[0;36m_execute_context\u001b[0;34m(self, dialect, constructor, statement, parameters, execution_options, *args, **kw)\u001b[0m\n\u001b[1;32m   1800\u001b[0m                             \u001b[0;32mbreak\u001b[0m\u001b[0;34m\u001b[0m\u001b[0;34m\u001b[0m\u001b[0m\n\u001b[1;32m   1801\u001b[0m                 \u001b[0;32mif\u001b[0m \u001b[0;32mnot\u001b[0m \u001b[0mevt_handled\u001b[0m\u001b[0;34m:\u001b[0m\u001b[0;34m\u001b[0m\u001b[0;34m\u001b[0m\u001b[0m\n\u001b[0;32m-> 1802\u001b[0;31m                     self.dialect.do_execute(\n\u001b[0m\u001b[1;32m   1803\u001b[0m                         \u001b[0mcursor\u001b[0m\u001b[0;34m,\u001b[0m \u001b[0mstatement\u001b[0m\u001b[0;34m,\u001b[0m \u001b[0mparameters\u001b[0m\u001b[0;34m,\u001b[0m \u001b[0mcontext\u001b[0m\u001b[0;34m\u001b[0m\u001b[0;34m\u001b[0m\u001b[0m\n\u001b[1;32m   1804\u001b[0m                     )\n",
      "\u001b[0;32m~/miniconda3/envs/cforge/lib/python3.9/site-packages/sqlalchemy/engine/default.py\u001b[0m in \u001b[0;36mdo_execute\u001b[0;34m(self, cursor, statement, parameters, context)\u001b[0m\n\u001b[1;32m    730\u001b[0m \u001b[0;34m\u001b[0m\u001b[0m\n\u001b[1;32m    731\u001b[0m     \u001b[0;32mdef\u001b[0m \u001b[0mdo_execute\u001b[0m\u001b[0;34m(\u001b[0m\u001b[0mself\u001b[0m\u001b[0;34m,\u001b[0m \u001b[0mcursor\u001b[0m\u001b[0;34m,\u001b[0m \u001b[0mstatement\u001b[0m\u001b[0;34m,\u001b[0m \u001b[0mparameters\u001b[0m\u001b[0;34m,\u001b[0m \u001b[0mcontext\u001b[0m\u001b[0;34m=\u001b[0m\u001b[0;32mNone\u001b[0m\u001b[0;34m)\u001b[0m\u001b[0;34m:\u001b[0m\u001b[0;34m\u001b[0m\u001b[0;34m\u001b[0m\u001b[0m\n\u001b[0;32m--> 732\u001b[0;31m         \u001b[0mcursor\u001b[0m\u001b[0;34m.\u001b[0m\u001b[0mexecute\u001b[0m\u001b[0;34m(\u001b[0m\u001b[0mstatement\u001b[0m\u001b[0;34m,\u001b[0m \u001b[0mparameters\u001b[0m\u001b[0;34m)\u001b[0m\u001b[0;34m\u001b[0m\u001b[0;34m\u001b[0m\u001b[0m\n\u001b[0m\u001b[1;32m    733\u001b[0m \u001b[0;34m\u001b[0m\u001b[0m\n\u001b[1;32m    734\u001b[0m     \u001b[0;32mdef\u001b[0m \u001b[0mdo_execute_no_params\u001b[0m\u001b[0;34m(\u001b[0m\u001b[0mself\u001b[0m\u001b[0;34m,\u001b[0m \u001b[0mcursor\u001b[0m\u001b[0;34m,\u001b[0m \u001b[0mstatement\u001b[0m\u001b[0;34m,\u001b[0m \u001b[0mcontext\u001b[0m\u001b[0;34m=\u001b[0m\u001b[0;32mNone\u001b[0m\u001b[0;34m)\u001b[0m\u001b[0;34m:\u001b[0m\u001b[0;34m\u001b[0m\u001b[0;34m\u001b[0m\u001b[0m\n",
      "\u001b[0;32m~/miniconda3/envs/cforge/lib/python3.9/site-packages/pymysql/cursors.py\u001b[0m in \u001b[0;36mexecute\u001b[0;34m(self, query, args)\u001b[0m\n\u001b[1;32m    146\u001b[0m         \u001b[0mquery\u001b[0m \u001b[0;34m=\u001b[0m \u001b[0mself\u001b[0m\u001b[0;34m.\u001b[0m\u001b[0mmogrify\u001b[0m\u001b[0;34m(\u001b[0m\u001b[0mquery\u001b[0m\u001b[0;34m,\u001b[0m \u001b[0margs\u001b[0m\u001b[0;34m)\u001b[0m\u001b[0;34m\u001b[0m\u001b[0;34m\u001b[0m\u001b[0m\n\u001b[1;32m    147\u001b[0m \u001b[0;34m\u001b[0m\u001b[0m\n\u001b[0;32m--> 148\u001b[0;31m         \u001b[0mresult\u001b[0m \u001b[0;34m=\u001b[0m \u001b[0mself\u001b[0m\u001b[0;34m.\u001b[0m\u001b[0m_query\u001b[0m\u001b[0;34m(\u001b[0m\u001b[0mquery\u001b[0m\u001b[0;34m)\u001b[0m\u001b[0;34m\u001b[0m\u001b[0;34m\u001b[0m\u001b[0m\n\u001b[0m\u001b[1;32m    149\u001b[0m         \u001b[0mself\u001b[0m\u001b[0;34m.\u001b[0m\u001b[0m_executed\u001b[0m \u001b[0;34m=\u001b[0m \u001b[0mquery\u001b[0m\u001b[0;34m\u001b[0m\u001b[0;34m\u001b[0m\u001b[0m\n\u001b[1;32m    150\u001b[0m         \u001b[0;32mreturn\u001b[0m \u001b[0mresult\u001b[0m\u001b[0;34m\u001b[0m\u001b[0;34m\u001b[0m\u001b[0m\n",
      "\u001b[0;32m~/miniconda3/envs/cforge/lib/python3.9/site-packages/pymysql/cursors.py\u001b[0m in \u001b[0;36m_query\u001b[0;34m(self, q)\u001b[0m\n\u001b[1;32m    413\u001b[0m         \u001b[0mself\u001b[0m\u001b[0;34m.\u001b[0m\u001b[0m_last_executed\u001b[0m \u001b[0;34m=\u001b[0m \u001b[0mq\u001b[0m\u001b[0;34m\u001b[0m\u001b[0;34m\u001b[0m\u001b[0m\n\u001b[1;32m    414\u001b[0m         \u001b[0mself\u001b[0m\u001b[0;34m.\u001b[0m\u001b[0m_clear_result\u001b[0m\u001b[0;34m(\u001b[0m\u001b[0;34m)\u001b[0m\u001b[0;34m\u001b[0m\u001b[0;34m\u001b[0m\u001b[0m\n\u001b[0;32m--> 415\u001b[0;31m         \u001b[0mconn\u001b[0m\u001b[0;34m.\u001b[0m\u001b[0mquery\u001b[0m\u001b[0;34m(\u001b[0m\u001b[0mq\u001b[0m\u001b[0;34m,\u001b[0m \u001b[0munbuffered\u001b[0m\u001b[0;34m=\u001b[0m\u001b[0;32mTrue\u001b[0m\u001b[0;34m)\u001b[0m\u001b[0;34m\u001b[0m\u001b[0;34m\u001b[0m\u001b[0m\n\u001b[0m\u001b[1;32m    416\u001b[0m         \u001b[0mself\u001b[0m\u001b[0;34m.\u001b[0m\u001b[0m_do_get_result\u001b[0m\u001b[0;34m(\u001b[0m\u001b[0;34m)\u001b[0m\u001b[0;34m\u001b[0m\u001b[0;34m\u001b[0m\u001b[0m\n\u001b[1;32m    417\u001b[0m         \u001b[0;32mreturn\u001b[0m \u001b[0mself\u001b[0m\u001b[0;34m.\u001b[0m\u001b[0mrowcount\u001b[0m\u001b[0;34m\u001b[0m\u001b[0;34m\u001b[0m\u001b[0m\n",
      "\u001b[0;32m~/miniconda3/envs/cforge/lib/python3.9/site-packages/pymysql/connections.py\u001b[0m in \u001b[0;36mquery\u001b[0;34m(self, sql, unbuffered)\u001b[0m\n\u001b[1;32m    546\u001b[0m             \u001b[0msql\u001b[0m \u001b[0;34m=\u001b[0m \u001b[0msql\u001b[0m\u001b[0;34m.\u001b[0m\u001b[0mencode\u001b[0m\u001b[0;34m(\u001b[0m\u001b[0mself\u001b[0m\u001b[0;34m.\u001b[0m\u001b[0mencoding\u001b[0m\u001b[0;34m,\u001b[0m \u001b[0;34m\"surrogateescape\"\u001b[0m\u001b[0;34m)\u001b[0m\u001b[0;34m\u001b[0m\u001b[0;34m\u001b[0m\u001b[0m\n\u001b[1;32m    547\u001b[0m         \u001b[0mself\u001b[0m\u001b[0;34m.\u001b[0m\u001b[0m_execute_command\u001b[0m\u001b[0;34m(\u001b[0m\u001b[0mCOMMAND\u001b[0m\u001b[0;34m.\u001b[0m\u001b[0mCOM_QUERY\u001b[0m\u001b[0;34m,\u001b[0m \u001b[0msql\u001b[0m\u001b[0;34m)\u001b[0m\u001b[0;34m\u001b[0m\u001b[0;34m\u001b[0m\u001b[0m\n\u001b[0;32m--> 548\u001b[0;31m         \u001b[0mself\u001b[0m\u001b[0;34m.\u001b[0m\u001b[0m_affected_rows\u001b[0m \u001b[0;34m=\u001b[0m \u001b[0mself\u001b[0m\u001b[0;34m.\u001b[0m\u001b[0m_read_query_result\u001b[0m\u001b[0;34m(\u001b[0m\u001b[0munbuffered\u001b[0m\u001b[0;34m=\u001b[0m\u001b[0munbuffered\u001b[0m\u001b[0;34m)\u001b[0m\u001b[0;34m\u001b[0m\u001b[0;34m\u001b[0m\u001b[0m\n\u001b[0m\u001b[1;32m    549\u001b[0m         \u001b[0;32mreturn\u001b[0m \u001b[0mself\u001b[0m\u001b[0;34m.\u001b[0m\u001b[0m_affected_rows\u001b[0m\u001b[0;34m\u001b[0m\u001b[0;34m\u001b[0m\u001b[0m\n\u001b[1;32m    550\u001b[0m \u001b[0;34m\u001b[0m\u001b[0m\n",
      "\u001b[0;32m~/miniconda3/envs/cforge/lib/python3.9/site-packages/pymysql/connections.py\u001b[0m in \u001b[0;36m_read_query_result\u001b[0;34m(self, unbuffered)\u001b[0m\n\u001b[1;32m    766\u001b[0m             \u001b[0;32mtry\u001b[0m\u001b[0;34m:\u001b[0m\u001b[0;34m\u001b[0m\u001b[0;34m\u001b[0m\u001b[0m\n\u001b[1;32m    767\u001b[0m                 \u001b[0mresult\u001b[0m \u001b[0;34m=\u001b[0m \u001b[0mMySQLResult\u001b[0m\u001b[0;34m(\u001b[0m\u001b[0mself\u001b[0m\u001b[0;34m)\u001b[0m\u001b[0;34m\u001b[0m\u001b[0;34m\u001b[0m\u001b[0m\n\u001b[0;32m--> 768\u001b[0;31m                 \u001b[0mresult\u001b[0m\u001b[0;34m.\u001b[0m\u001b[0minit_unbuffered_query\u001b[0m\u001b[0;34m(\u001b[0m\u001b[0;34m)\u001b[0m\u001b[0;34m\u001b[0m\u001b[0;34m\u001b[0m\u001b[0m\n\u001b[0m\u001b[1;32m    769\u001b[0m             \u001b[0;32mexcept\u001b[0m\u001b[0;34m:\u001b[0m\u001b[0;34m\u001b[0m\u001b[0;34m\u001b[0m\u001b[0m\n\u001b[1;32m    770\u001b[0m                 \u001b[0mresult\u001b[0m\u001b[0;34m.\u001b[0m\u001b[0munbuffered_active\u001b[0m \u001b[0;34m=\u001b[0m \u001b[0;32mFalse\u001b[0m\u001b[0;34m\u001b[0m\u001b[0;34m\u001b[0m\u001b[0m\n",
      "\u001b[0;32m~/miniconda3/envs/cforge/lib/python3.9/site-packages/pymysql/connections.py\u001b[0m in \u001b[0;36minit_unbuffered_query\u001b[0;34m(self)\u001b[0m\n\u001b[1;32m   1171\u001b[0m         \"\"\"\n\u001b[1;32m   1172\u001b[0m         \u001b[0mself\u001b[0m\u001b[0;34m.\u001b[0m\u001b[0munbuffered_active\u001b[0m \u001b[0;34m=\u001b[0m \u001b[0;32mTrue\u001b[0m\u001b[0;34m\u001b[0m\u001b[0;34m\u001b[0m\u001b[0m\n\u001b[0;32m-> 1173\u001b[0;31m         \u001b[0mfirst_packet\u001b[0m \u001b[0;34m=\u001b[0m \u001b[0mself\u001b[0m\u001b[0;34m.\u001b[0m\u001b[0mconnection\u001b[0m\u001b[0;34m.\u001b[0m\u001b[0m_read_packet\u001b[0m\u001b[0;34m(\u001b[0m\u001b[0;34m)\u001b[0m\u001b[0;34m\u001b[0m\u001b[0;34m\u001b[0m\u001b[0m\n\u001b[0m\u001b[1;32m   1174\u001b[0m \u001b[0;34m\u001b[0m\u001b[0m\n\u001b[1;32m   1175\u001b[0m         \u001b[0;32mif\u001b[0m \u001b[0mfirst_packet\u001b[0m\u001b[0;34m.\u001b[0m\u001b[0mis_ok_packet\u001b[0m\u001b[0;34m(\u001b[0m\u001b[0;34m)\u001b[0m\u001b[0;34m:\u001b[0m\u001b[0;34m\u001b[0m\u001b[0;34m\u001b[0m\u001b[0m\n",
      "\u001b[0;32m~/miniconda3/envs/cforge/lib/python3.9/site-packages/pymysql/connections.py\u001b[0m in \u001b[0;36m_read_packet\u001b[0;34m(self, packet_type)\u001b[0m\n\u001b[1;32m    690\u001b[0m         \u001b[0mbuff\u001b[0m \u001b[0;34m=\u001b[0m \u001b[0mbytearray\u001b[0m\u001b[0;34m(\u001b[0m\u001b[0;34m)\u001b[0m\u001b[0;34m\u001b[0m\u001b[0;34m\u001b[0m\u001b[0m\n\u001b[1;32m    691\u001b[0m         \u001b[0;32mwhile\u001b[0m \u001b[0;32mTrue\u001b[0m\u001b[0;34m:\u001b[0m\u001b[0;34m\u001b[0m\u001b[0;34m\u001b[0m\u001b[0m\n\u001b[0;32m--> 692\u001b[0;31m             \u001b[0mpacket_header\u001b[0m \u001b[0;34m=\u001b[0m \u001b[0mself\u001b[0m\u001b[0;34m.\u001b[0m\u001b[0m_read_bytes\u001b[0m\u001b[0;34m(\u001b[0m\u001b[0;36m4\u001b[0m\u001b[0;34m)\u001b[0m\u001b[0;34m\u001b[0m\u001b[0;34m\u001b[0m\u001b[0m\n\u001b[0m\u001b[1;32m    693\u001b[0m             \u001b[0;31m# if DEBUG: dump_packet(packet_header)\u001b[0m\u001b[0;34m\u001b[0m\u001b[0;34m\u001b[0m\u001b[0m\n\u001b[1;32m    694\u001b[0m \u001b[0;34m\u001b[0m\u001b[0m\n",
      "\u001b[0;32m~/miniconda3/envs/cforge/lib/python3.9/site-packages/pymysql/connections.py\u001b[0m in \u001b[0;36m_read_bytes\u001b[0;34m(self, num_bytes)\u001b[0m\n\u001b[1;32m    730\u001b[0m         \u001b[0;32mwhile\u001b[0m \u001b[0;32mTrue\u001b[0m\u001b[0;34m:\u001b[0m\u001b[0;34m\u001b[0m\u001b[0;34m\u001b[0m\u001b[0m\n\u001b[1;32m    731\u001b[0m             \u001b[0;32mtry\u001b[0m\u001b[0;34m:\u001b[0m\u001b[0;34m\u001b[0m\u001b[0;34m\u001b[0m\u001b[0m\n\u001b[0;32m--> 732\u001b[0;31m                 \u001b[0mdata\u001b[0m \u001b[0;34m=\u001b[0m \u001b[0mself\u001b[0m\u001b[0;34m.\u001b[0m\u001b[0m_rfile\u001b[0m\u001b[0;34m.\u001b[0m\u001b[0mread\u001b[0m\u001b[0;34m(\u001b[0m\u001b[0mnum_bytes\u001b[0m\u001b[0;34m)\u001b[0m\u001b[0;34m\u001b[0m\u001b[0;34m\u001b[0m\u001b[0m\n\u001b[0m\u001b[1;32m    733\u001b[0m                 \u001b[0;32mbreak\u001b[0m\u001b[0;34m\u001b[0m\u001b[0;34m\u001b[0m\u001b[0m\n\u001b[1;32m    734\u001b[0m             \u001b[0;32mexcept\u001b[0m \u001b[0;34m(\u001b[0m\u001b[0mIOError\u001b[0m\u001b[0;34m,\u001b[0m \u001b[0mOSError\u001b[0m\u001b[0;34m)\u001b[0m \u001b[0;32mas\u001b[0m \u001b[0me\u001b[0m\u001b[0;34m:\u001b[0m\u001b[0;34m\u001b[0m\u001b[0;34m\u001b[0m\u001b[0m\n",
      "\u001b[0;32m~/miniconda3/envs/cforge/lib/python3.9/socket.py\u001b[0m in \u001b[0;36mreadinto\u001b[0;34m(self, b)\u001b[0m\n\u001b[1;32m    702\u001b[0m         \u001b[0;32mwhile\u001b[0m \u001b[0;32mTrue\u001b[0m\u001b[0;34m:\u001b[0m\u001b[0;34m\u001b[0m\u001b[0;34m\u001b[0m\u001b[0m\n\u001b[1;32m    703\u001b[0m             \u001b[0;32mtry\u001b[0m\u001b[0;34m:\u001b[0m\u001b[0;34m\u001b[0m\u001b[0;34m\u001b[0m\u001b[0m\n\u001b[0;32m--> 704\u001b[0;31m                 \u001b[0;32mreturn\u001b[0m \u001b[0mself\u001b[0m\u001b[0;34m.\u001b[0m\u001b[0m_sock\u001b[0m\u001b[0;34m.\u001b[0m\u001b[0mrecv_into\u001b[0m\u001b[0;34m(\u001b[0m\u001b[0mb\u001b[0m\u001b[0;34m)\u001b[0m\u001b[0;34m\u001b[0m\u001b[0;34m\u001b[0m\u001b[0m\n\u001b[0m\u001b[1;32m    705\u001b[0m             \u001b[0;32mexcept\u001b[0m \u001b[0mtimeout\u001b[0m\u001b[0;34m:\u001b[0m\u001b[0;34m\u001b[0m\u001b[0;34m\u001b[0m\u001b[0m\n\u001b[1;32m    706\u001b[0m                 \u001b[0mself\u001b[0m\u001b[0;34m.\u001b[0m\u001b[0m_timeout_occurred\u001b[0m \u001b[0;34m=\u001b[0m \u001b[0;32mTrue\u001b[0m\u001b[0;34m\u001b[0m\u001b[0;34m\u001b[0m\u001b[0m\n",
      "\u001b[0;31mKeyboardInterrupt\u001b[0m: "
     ]
    }
   ],
   "source": [
    "# get more examples of these:\n",
    "small_cats = [x.strip() for x in \"\"\"\n",
    "dg-ga\n",
    "cs.GL\n",
    "econ.TH\n",
    "nlin.CG\n",
    "cs.OS\n",
    "astro-ph\n",
    "stat.OT\n",
    "q-bio.OT\n",
    "q-bio.SC\n",
    "econ.EM\n",
    "q-fin.TR\n",
    "q-bio.CB\n",
    "cs.MS\n",
    "physics.atm-clus\n",
    "q-fin.CP\n",
    "cs.PF\n",
    "q-fin.PM\n",
    "q-bio.TO\n",
    "q-fin.RM\n",
    "cs.SC\n",
    "econ.GN\n",
    "physics.pop-ph\n",
    "q-fin.MF\n",
    "q-fin.PR\n",
    "cs.AR\n",
    "eess.AS\n",
    "q-bio.GN\n",
    "q-fin.ST\n",
    "q-fin.GN\n",
    "cs.GR\n",
    "cs.MA\n",
    "cs.ET\n",
    "cs.MM\n",
    "\"\"\".strip().split()]\n",
    "\n",
    "cmd = \"\"\"\n",
    "select \n",
    "    m.paper_id,\n",
    "    m.version,\n",
    "    case when instr(paper_id, '/')=0 then substr(paper_id,1,4) \n",
    "        else substr(paper_id,instr(paper_id, '/')+1,4)\n",
    "    end yymm,\n",
    "    m.created,\n",
    "    m.title,\n",
    "    m.abs_categories,\n",
    "    replace(m.abstract, '\\t',' ') abstract\n",
    "from arXiv_metadata m\n",
    "where\n",
    "    m.abs_categories like '{}%%'\n",
    "    and created < '2010-01-01 00:00:00'\n",
    "    and m.is_current = 1 \n",
    "    and m.is_withdrawn = 0\n",
    "#order by 3,1\n",
    "#limit 20\n",
    ";\n",
    "\"\"\".strip()\n",
    "\n",
    "# note all pre2010\n",
    "intervals = list(zip(years, years[1:]))\n",
    "\n",
    "for cat in tqdm(small_cats):\n",
    "    with engine.connect() as con, open(f\"./data/fulltext/2000_2009.json\", 'a') as outfile:\n",
    "        rs = con.execution_options(\n",
    "            stream_results=True,\n",
    "            max_row_buffer=500,\n",
    "        ).execute(cmd.format(cat))\n",
    "\n",
    "        for row in tqdm(rs):\n",
    "            paper_dict = dict(zip(row.keys(), row))\n",
    "            paper_dict['created'] = paper_dict['created'].isoformat()\n",
    "            _ = outfile.write(\n",
    "                json.dumps(paper_dict, ensure_ascii=False)\n",
    "            )\n",
    "            _ = outfile.write('\\n')"
   ]
  },
  {
   "cell_type": "code",
   "execution_count": null,
   "id": "fed3254f-e88c-4e8a-bae9-34ed991cc993",
   "metadata": {},
   "outputs": [],
   "source": []
  },
  {
   "cell_type": "code",
   "execution_count": null,
   "id": "94d2002f-0af4-40ee-8bbf-5b2bba7963c8",
   "metadata": {},
   "outputs": [],
   "source": []
  },
  {
   "cell_type": "code",
   "execution_count": 44,
   "id": "d61b3d0a-d05f-4338-a2a5-8cdfafaeb08b",
   "metadata": {},
   "outputs": [
    {
     "data": {
      "application/vnd.jupyter.widget-view+json": {
       "model_id": "08bcc6a105114bae80a3410d9783b120",
       "version_major": 2,
       "version_minor": 0
      },
      "text/plain": [
       "  0%|          | 0/12 [00:00<?, ?it/s]"
      ]
     },
     "metadata": {},
     "output_type": "display_data"
    }
   ],
   "source": [
    "# use vaex to convert the year-json files into HDF5 format\n",
    "# so they can be memory mapped and jointly loaded\n",
    "json_files = glob.glob(\"./data/fulltext/*.json\")\n",
    "\n",
    "\n",
    "joptions = types.SimpleNamespace(\n",
    "    orient='records', \n",
    "    copy_index=False,\n",
    "    lines=True,\n",
    "    dtype=str,\n",
    ")\n",
    "\n",
    "for jfile in tqdm(json_files):\n",
    "    tmp_df = vaex.from_json(jfile, **vars(joptions))\n",
    "    tmp_df['created'] = tmp_df['created'].astype('datetime64')\n",
    "    tmp_df['prime_category'] = tmp_df.abs_categories.str.split().apply(lambda x: x[0])\n",
    "    tmp_df['prime_category'] = tmp_df['prime_category'].map(CAT_REMAPPER, default_value='unknown')\n",
    "    tmp_df = tmp_df[tmp_df['prime_category'] != 'unknown']\n",
    "    tmp_df['major_category'] = tmp_df['prime_category'].str.split('.').apply(lambda x: x[0])\n",
    "    \n",
    "    tmp_df.export(jfile+'.arrow')\n"
   ]
  },
  {
   "cell_type": "code",
   "execution_count": 5,
   "id": "2d56e880-23f5-4b37-8d0e-64239c355401",
   "metadata": {},
   "outputs": [
    {
     "data": {
      "text/plain": [
       "(1034817, 9)"
      ]
     },
     "execution_count": 5,
     "metadata": {},
     "output_type": "execute_result"
    },
    {
     "data": {
      "text/plain": [
       "(404527, 9)"
      ]
     },
     "execution_count": 5,
     "metadata": {},
     "output_type": "execute_result"
    }
   ],
   "source": [
    "all_df = vaex.open(\"./data/fulltext/*.arrow\")\n",
    "pre2020_df = all_df[all_df.created < np.datetime64(\"2020-01-01T00:00:00\")]\n",
    "testpost2020 = all_df[all_df.created >= np.datetime64(\"2020-01-01T00:00:00\")]\n",
    "#pre2020_df.head()\n",
    "pre2020_df.shape\n",
    "testpost2020.shape\n",
    "#all_df.shape\n",
    "#all_df.dtypes\n",
    "#all_df.head()\n",
    "\n",
    "pre2020_df.shuffle(random_state=42).export(\"./data/fulltext/pre2020_shuffled.hdf5\")"
   ]
  },
  {
   "cell_type": "code",
   "execution_count": 26,
   "id": "f4d3262a-6a5f-45c8-adfd-68fd0fd1554f",
   "metadata": {},
   "outputs": [],
   "source": [
    "tt_df = vaex.open(\"./data/fulltext/pre2020_shuffled.hdf5\")\n",
    "#train_df, test_df = tt.df.ml"
   ]
  },
  {
   "cell_type": "code",
   "execution_count": 27,
   "id": "58703c19-50b7-4222-aad3-e81947e7a69b",
   "metadata": {},
   "outputs": [
    {
     "data": {
      "text/plain": [
       "\u001b[0;31mSignature:\u001b[0m\n",
       "\u001b[0mtt_df\u001b[0m\u001b[0;34m.\u001b[0m\u001b[0mml\u001b[0m\u001b[0;34m.\u001b[0m\u001b[0mtrain_test_split\u001b[0m\u001b[0;34m(\u001b[0m\u001b[0;34m\u001b[0m\n",
       "\u001b[0;34m\u001b[0m    \u001b[0mtest_size\u001b[0m\u001b[0;34m=\u001b[0m\u001b[0;36m0.2\u001b[0m\u001b[0;34m,\u001b[0m\u001b[0;34m\u001b[0m\n",
       "\u001b[0;34m\u001b[0m    \u001b[0mstrings\u001b[0m\u001b[0;34m=\u001b[0m\u001b[0;32mTrue\u001b[0m\u001b[0;34m,\u001b[0m\u001b[0;34m\u001b[0m\n",
       "\u001b[0;34m\u001b[0m    \u001b[0mvirtual\u001b[0m\u001b[0;34m=\u001b[0m\u001b[0;32mTrue\u001b[0m\u001b[0;34m,\u001b[0m\u001b[0;34m\u001b[0m\n",
       "\u001b[0;34m\u001b[0m    \u001b[0mverbose\u001b[0m\u001b[0;34m=\u001b[0m\u001b[0;32mTrue\u001b[0m\u001b[0;34m,\u001b[0m\u001b[0;34m\u001b[0m\n",
       "\u001b[0;34m\u001b[0m\u001b[0;34m)\u001b[0m\u001b[0;34m\u001b[0m\u001b[0;34m\u001b[0m\u001b[0m\n",
       "\u001b[0;31mDocstring:\u001b[0m\n",
       "Will split the DataFrame in train and test part, assuming it is shuffled.\n",
       "\n",
       ":param test_size: The fractional size of the test set.\n",
       ":param strings: If True, the output DataFrames will also contain string columns, if any.\n",
       ":param virtual: If True, the output DataFrames will also contain virtual contain, if any.\n",
       ":param verbose: If True, print warnings to screen.\n",
       "\u001b[0;31mFile:\u001b[0m      ~/miniconda3/envs/cforge/lib/python3.9/site-packages/vaex/ml/__init__.py\n",
       "\u001b[0;31mType:\u001b[0m      method\n"
      ]
     },
     "metadata": {},
     "output_type": "display_data"
    }
   ],
   "source": [
    "tt_df.ml.train_test_split?"
   ]
  },
  {
   "cell_type": "code",
   "execution_count": 8,
   "id": "7959de24-d8e9-4c20-9f1d-b371725eee21",
   "metadata": {},
   "outputs": [
    {
     "name": "stdout",
     "output_type": "stream",
     "text": [
      "cs.GL\n",
      "econ.TH\n",
      "cs.OS\n",
      "stat.OT\n",
      "nlin.CG\n",
      "econ.EM\n",
      "q-bio.OT\n",
      "q-bio.SC\n",
      "q-fin.TR\n",
      "dg-ga\n",
      "q-fin.CP\n",
      "q-fin.PM\n",
      "cs.MS\n",
      "cs.PF\n",
      "q-fin.RM\n",
      "econ.GN\n",
      "q-bio.CB\n",
      "q-bio.TO\n",
      "q-fin.MF\n",
      "eess.AS\n",
      "cs.SC\n",
      "q-fin.PR\n",
      "cs.AR\n",
      "physics.pop-ph\n",
      "cs.GR\n",
      "cs.ET\n",
      "physics.atm-clus\n",
      "q-fin.GN\n",
      "cs.MA\n"
     ]
    },
    {
     "data": {
      "text/html": [
       "<table>\n",
       "<thead>\n",
       "<tr><th>#                              </th><th>major_category  </th><th>prime_category    </th><th style=\"text-align: right;\">  paper_id_count</th></tr>\n",
       "</thead>\n",
       "<tbody>\n",
       "<tr><td><i style='opacity: 0.6'>0</i>  </td><td>cs              </td><td>cs.GL             </td><td style=\"text-align: right;\">              77</td></tr>\n",
       "<tr><td><i style='opacity: 0.6'>1</i>  </td><td>econ            </td><td>econ.TH           </td><td style=\"text-align: right;\">             122</td></tr>\n",
       "<tr><td><i style='opacity: 0.6'>2</i>  </td><td>cs              </td><td>cs.OS             </td><td style=\"text-align: right;\">             276</td></tr>\n",
       "<tr><td><i style='opacity: 0.6'>3</i>  </td><td>stat            </td><td>stat.OT           </td><td style=\"text-align: right;\">             331</td></tr>\n",
       "<tr><td><i style='opacity: 0.6'>4</i>  </td><td>nlin            </td><td>nlin.CG           </td><td style=\"text-align: right;\">             378</td></tr>\n",
       "<tr><td><i style='opacity: 0.6'>5</i>  </td><td>econ            </td><td>econ.EM           </td><td style=\"text-align: right;\">             414</td></tr>\n",
       "<tr><td><i style='opacity: 0.6'>6</i>  </td><td>q-bio           </td><td>q-bio.OT          </td><td style=\"text-align: right;\">             452</td></tr>\n",
       "<tr><td><i style='opacity: 0.6'>7</i>  </td><td>q-bio           </td><td>q-bio.SC          </td><td style=\"text-align: right;\">             519</td></tr>\n",
       "<tr><td><i style='opacity: 0.6'>8</i>  </td><td>q-fin           </td><td>q-fin.TR          </td><td style=\"text-align: right;\">             542</td></tr>\n",
       "<tr><td><i style='opacity: 0.6'>9</i>  </td><td>dg-ga           </td><td>dg-ga             </td><td style=\"text-align: right;\">             557</td></tr>\n",
       "<tr><td><i style='opacity: 0.6'>10</i> </td><td>q-fin           </td><td>q-fin.CP          </td><td style=\"text-align: right;\">             569</td></tr>\n",
       "<tr><td><i style='opacity: 0.6'>11</i> </td><td>q-fin           </td><td>q-fin.PM          </td><td style=\"text-align: right;\">             582</td></tr>\n",
       "<tr><td><i style='opacity: 0.6'>12</i> </td><td>cs              </td><td>cs.MS             </td><td style=\"text-align: right;\">             589</td></tr>\n",
       "<tr><td><i style='opacity: 0.6'>13</i> </td><td>cs              </td><td>cs.PF             </td><td style=\"text-align: right;\">             615</td></tr>\n",
       "<tr><td><i style='opacity: 0.6'>14</i> </td><td>q-fin           </td><td>q-fin.RM          </td><td style=\"text-align: right;\">             626</td></tr>\n",
       "<tr><td><i style='opacity: 0.6'>15</i> </td><td>econ            </td><td>econ.GN           </td><td style=\"text-align: right;\">             632</td></tr>\n",
       "<tr><td><i style='opacity: 0.6'>16</i> </td><td>q-bio           </td><td>q-bio.CB          </td><td style=\"text-align: right;\">             653</td></tr>\n",
       "<tr><td><i style='opacity: 0.6'>17</i> </td><td>q-bio           </td><td>q-bio.TO          </td><td style=\"text-align: right;\">             657</td></tr>\n",
       "<tr><td><i style='opacity: 0.6'>18</i> </td><td>q-fin           </td><td>q-fin.MF          </td><td style=\"text-align: right;\">             670</td></tr>\n",
       "<tr><td><i style='opacity: 0.6'>19</i> </td><td>eess            </td><td>eess.AS           </td><td style=\"text-align: right;\">             747</td></tr>\n",
       "<tr><td><i style='opacity: 0.6'>20</i> </td><td>cs              </td><td>cs.SC             </td><td style=\"text-align: right;\">             771</td></tr>\n",
       "<tr><td><i style='opacity: 0.6'>21</i> </td><td>q-fin           </td><td>q-fin.PR          </td><td style=\"text-align: right;\">             812</td></tr>\n",
       "<tr><td><i style='opacity: 0.6'>22</i> </td><td>cs              </td><td>cs.AR             </td><td style=\"text-align: right;\">             883</td></tr>\n",
       "<tr><td><i style='opacity: 0.6'>23</i> </td><td>physics         </td><td>physics.pop-ph    </td><td style=\"text-align: right;\">             892</td></tr>\n",
       "<tr><td><i style='opacity: 0.6'>24</i> </td><td>cs              </td><td>cs.GR             </td><td style=\"text-align: right;\">             897</td></tr>\n",
       "<tr><td><i style='opacity: 0.6'>25</i> </td><td>cs              </td><td>cs.ET             </td><td style=\"text-align: right;\">             904</td></tr>\n",
       "<tr><td><i style='opacity: 0.6'>26</i> </td><td>physics         </td><td>physics.atm-clus  </td><td style=\"text-align: right;\">             932</td></tr>\n",
       "<tr><td><i style='opacity: 0.6'>27</i> </td><td>q-fin           </td><td>q-fin.GN          </td><td style=\"text-align: right;\">             958</td></tr>\n",
       "<tr><td><i style='opacity: 0.6'>28</i> </td><td>cs              </td><td>cs.MA             </td><td style=\"text-align: right;\">             971</td></tr>\n",
       "<tr><td><i style='opacity: 0.6'>29</i> </td><td>q-fin           </td><td>q-fin.ST          </td><td style=\"text-align: right;\">            1006</td></tr>\n",
       "<tr><td><i style='opacity: 0.6'>30</i> </td><td>q-bio           </td><td>q-bio.BM          </td><td style=\"text-align: right;\">            1016</td></tr>\n",
       "<tr><td><i style='opacity: 0.6'>31</i> </td><td>cs              </td><td>cs.MM             </td><td style=\"text-align: right;\">            1040</td></tr>\n",
       "<tr><td><i style='opacity: 0.6'>32</i> </td><td>q-bio           </td><td>q-bio.MN          </td><td style=\"text-align: right;\">            1054</td></tr>\n",
       "<tr><td><i style='opacity: 0.6'>33</i> </td><td>q-bio           </td><td>q-bio.GN          </td><td style=\"text-align: right;\">            1056</td></tr>\n",
       "<tr><td><i style='opacity: 0.6'>34</i> </td><td>math            </td><td>math.KT           </td><td style=\"text-align: right;\">            1080</td></tr>\n",
       "<tr><td><i style='opacity: 0.6'>35</i> </td><td>nlin            </td><td>nlin.AO           </td><td style=\"text-align: right;\">            1106</td></tr>\n",
       "<tr><td><i style='opacity: 0.6'>36</i> </td><td>physics         </td><td>physics.space-ph  </td><td style=\"text-align: right;\">            1112</td></tr>\n",
       "<tr><td><i style='opacity: 0.6'>37</i> </td><td>cs              </td><td>cs.OH             </td><td style=\"text-align: right;\">            1126</td></tr>\n",
       "<tr><td><i style='opacity: 0.6'>38</i> </td><td>physics         </td><td>physics.ed-ph     </td><td style=\"text-align: right;\">            1255</td></tr>\n",
       "<tr><td><i style='opacity: 0.6'>39</i> </td><td>cs              </td><td>cs.CE             </td><td style=\"text-align: right;\">            1273</td></tr>\n",
       "<tr><td><i style='opacity: 0.6'>40</i> </td><td>math            </td><td>math.GM           </td><td style=\"text-align: right;\">            1274</td></tr>\n",
       "<tr><td><i style='opacity: 0.6'>41</i> </td><td>physics         </td><td>physics.ao-ph     </td><td style=\"text-align: right;\">            1277</td></tr>\n",
       "<tr><td><i style='opacity: 0.6'>42</i> </td><td>math            </td><td>math.HO           </td><td style=\"text-align: right;\">            1321</td></tr>\n",
       "<tr><td><i style='opacity: 0.6'>43</i> </td><td>cs              </td><td>cs.SD             </td><td style=\"text-align: right;\">            1417</td></tr>\n",
       "<tr><td><i style='opacity: 0.6'>44</i> </td><td>physics         </td><td>physics.data-an   </td><td style=\"text-align: right;\">            1422</td></tr>\n",
       "<tr><td><i style='opacity: 0.6'>45</i> </td><td>cond-mat        </td><td>cond-mat.other    </td><td style=\"text-align: right;\">            1426</td></tr>\n",
       "<tr><td><i style='opacity: 0.6'>46</i> </td><td>cs              </td><td>cs.FL             </td><td style=\"text-align: right;\">            1432</td></tr>\n",
       "<tr><td><i style='opacity: 0.6'>47</i> </td><td>physics         </td><td>physics.geo-ph    </td><td style=\"text-align: right;\">            1498</td></tr>\n",
       "<tr><td><i style='opacity: 0.6'>48</i> </td><td>physics         </td><td>physics.hist-ph   </td><td style=\"text-align: right;\">            1499</td></tr>\n",
       "<tr><td><i style='opacity: 0.6'>49</i> </td><td>math            </td><td>math.GN           </td><td style=\"text-align: right;\">            1520</td></tr>\n",
       "<tr><td><i style='opacity: 0.6'>50</i> </td><td>cs              </td><td>cs.DL             </td><td style=\"text-align: right;\">            1566</td></tr>\n",
       "<tr><td><i style='opacity: 0.6'>51</i> </td><td>math            </td><td>math.CT           </td><td style=\"text-align: right;\">            1569</td></tr>\n",
       "<tr><td><i style='opacity: 0.6'>52</i> </td><td>physics         </td><td>physics.med-ph    </td><td style=\"text-align: right;\">            1626</td></tr>\n",
       "<tr><td><i style='opacity: 0.6'>53</i> </td><td>nlin            </td><td>nlin.PS           </td><td style=\"text-align: right;\">            1649</td></tr>\n",
       "<tr><td><i style='opacity: 0.6'>54</i> </td><td>eess            </td><td>eess.IV           </td><td style=\"text-align: right;\">            1772</td></tr>\n",
       "<tr><td><i style='opacity: 0.6'>55</i> </td><td>stat            </td><td>stat.CO           </td><td style=\"text-align: right;\">            1844</td></tr>\n",
       "<tr><td><i style='opacity: 0.6'>56</i> </td><td>nlin            </td><td>nlin.SI           </td><td style=\"text-align: right;\">            1884</td></tr>\n",
       "<tr><td><i style='opacity: 0.6'>57</i> </td><td>math            </td><td>math.SG           </td><td style=\"text-align: right;\">            1903</td></tr>\n",
       "<tr><td><i style='opacity: 0.6'>58</i> </td><td>q-bio           </td><td>q-bio.QM          </td><td style=\"text-align: right;\">            1938</td></tr>\n",
       "<tr><td><i style='opacity: 0.6'>59</i> </td><td>cs              </td><td>cs.CG             </td><td style=\"text-align: right;\">            1960</td></tr>\n",
       "<tr><td><i style='opacity: 0.6'>60</i> </td><td>physics         </td><td>physics.class-ph  </td><td style=\"text-align: right;\">            1980</td></tr>\n",
       "<tr><td><i style='opacity: 0.6'>61</i> </td><td>cs              </td><td>cs.PL             </td><td style=\"text-align: right;\">            2181</td></tr>\n",
       "<tr><td><i style='opacity: 0.6'>62</i> </td><td>math            </td><td>math.SP           </td><td style=\"text-align: right;\">            2222</td></tr>\n",
       "<tr><td><i style='opacity: 0.6'>63</i> </td><td>nlin            </td><td>nlin.CD           </td><td style=\"text-align: right;\">            2323</td></tr>\n",
       "<tr><td><i style='opacity: 0.6'>64</i> </td><td>cs              </td><td>cs.CC             </td><td style=\"text-align: right;\">            2367</td></tr>\n",
       "<tr><td><i style='opacity: 0.6'>65</i> </td><td>cs              </td><td>cs.HC             </td><td style=\"text-align: right;\">            2421</td></tr>\n",
       "<tr><td><i style='opacity: 0.6'>66</i> </td><td>cs              </td><td>cs.DM             </td><td style=\"text-align: right;\">            2469</td></tr>\n",
       "<tr><td><i style='opacity: 0.6'>67</i> </td><td>cs              </td><td>cs.NE             </td><td style=\"text-align: right;\">            2546</td></tr>\n",
       "<tr><td><i style='opacity: 0.6'>68</i> </td><td>cs              </td><td>cs.DB             </td><td style=\"text-align: right;\">            2580</td></tr>\n",
       "<tr><td><i style='opacity: 0.6'>69</i> </td><td>q-bio           </td><td>q-bio.NC          </td><td style=\"text-align: right;\">            2709</td></tr>\n",
       "<tr><td><i style='opacity: 0.6'>70</i> </td><td>math            </td><td>math.MG           </td><td style=\"text-align: right;\">            2848</td></tr>\n",
       "<tr><td><i style='opacity: 0.6'>71</i> </td><td>physics         </td><td>physics.bio-ph    </td><td style=\"text-align: right;\">            2859</td></tr>\n",
       "<tr><td><i style='opacity: 0.6'>72</i> </td><td>physics         </td><td>physics.acc-ph    </td><td style=\"text-align: right;\">            2899</td></tr>\n",
       "<tr><td><i style='opacity: 0.6'>73</i> </td><td>math            </td><td>math.QA           </td><td style=\"text-align: right;\">            2928</td></tr>\n",
       "<tr><td><i style='opacity: 0.6'>74</i> </td><td>cs              </td><td>cs.GT             </td><td style=\"text-align: right;\">            3022</td></tr>\n",
       "<tr><td><i style='opacity: 0.6'>75</i> </td><td>q-bio           </td><td>q-bio.PE          </td><td style=\"text-align: right;\">            3063</td></tr>\n",
       "<tr><td><i style='opacity: 0.6'>76</i> </td><td>cs              </td><td>cs.IR             </td><td style=\"text-align: right;\">            3088</td></tr>\n",
       "<tr><td><i style='opacity: 0.6'>77</i> </td><td>cond-mat        </td><td>cond-mat.dis-nn   </td><td style=\"text-align: right;\">            3237</td></tr>\n",
       "<tr><td><i style='opacity: 0.6'>78</i> </td><td>math            </td><td>math.OA           </td><td style=\"text-align: right;\">            3417</td></tr>\n",
       "<tr><td><i style='opacity: 0.6'>79</i> </td><td>cs              </td><td>cs.CY             </td><td style=\"text-align: right;\">            3529</td></tr>\n",
       "<tr><td><i style='opacity: 0.6'>80</i> </td><td>physics         </td><td>physics.comp-ph   </td><td style=\"text-align: right;\">            3568</td></tr>\n",
       "<tr><td><i style='opacity: 0.6'>81</i> </td><td>math            </td><td>math.AC           </td><td style=\"text-align: right;\">            3628</td></tr>\n",
       "<tr><td><i style='opacity: 0.6'>82</i> </td><td>math            </td><td>math.AT           </td><td style=\"text-align: right;\">            3703</td></tr>\n",
       "<tr><td><i style='opacity: 0.6'>83</i> </td><td>physics         </td><td>physics.app-ph    </td><td style=\"text-align: right;\">            3727</td></tr>\n",
       "<tr><td><i style='opacity: 0.6'>84</i> </td><td>eess            </td><td>eess.SP           </td><td style=\"text-align: right;\">            3842</td></tr>\n",
       "<tr><td><i style='opacity: 0.6'>85</i> </td><td>cs              </td><td>cs.SE             </td><td style=\"text-align: right;\">            4022</td></tr>\n",
       "<tr><td><i style='opacity: 0.6'>86</i> </td><td>physics         </td><td>physics.gen-ph    </td><td style=\"text-align: right;\">            4116</td></tr>\n",
       "<tr><td><i style='opacity: 0.6'>87</i> </td><td>math            </td><td>math.LO           </td><td style=\"text-align: right;\">            4125</td></tr>\n",
       "<tr><td><i style='opacity: 0.6'>88</i> </td><td>stat            </td><td>stat.AP           </td><td style=\"text-align: right;\">            4150</td></tr>\n",
       "<tr><td><i style='opacity: 0.6'>89</i> </td><td>nucl-ex         </td><td>nucl-ex           </td><td style=\"text-align: right;\">            4397</td></tr>\n",
       "<tr><td><i style='opacity: 0.6'>90</i> </td><td>cs              </td><td>cs.SI             </td><td style=\"text-align: right;\">            4546</td></tr>\n",
       "<tr><td><i style='opacity: 0.6'>91</i> </td><td>math            </td><td>math.CV           </td><td style=\"text-align: right;\">            4664</td></tr>\n",
       "<tr><td><i style='opacity: 0.6'>92</i> </td><td>cs              </td><td>cs.RO             </td><td style=\"text-align: right;\">            4700</td></tr>\n",
       "<tr><td><i style='opacity: 0.6'>93</i> </td><td>physics         </td><td>physics.chem-ph   </td><td style=\"text-align: right;\">            4717</td></tr>\n",
       "<tr><td><i style='opacity: 0.6'>94</i> </td><td>cs              </td><td>cs.LO             </td><td style=\"text-align: right;\">            4831</td></tr>\n",
       "<tr><td><i style='opacity: 0.6'>95</i> </td><td>math            </td><td>math.RA           </td><td style=\"text-align: right;\">            4881</td></tr>\n",
       "<tr><td><i style='opacity: 0.6'>96</i> </td><td>physics         </td><td>physics.plasm-ph  </td><td style=\"text-align: right;\">            4936</td></tr>\n",
       "<tr><td><i style='opacity: 0.6'>97</i> </td><td>eess            </td><td>eess.SY           </td><td style=\"text-align: right;\">            5222</td></tr>\n",
       "<tr><td><i style='opacity: 0.6'>98</i> </td><td>hep-lat         </td><td>hep-lat           </td><td style=\"text-align: right;\">            5274</td></tr>\n",
       "<tr><td><i style='opacity: 0.6'>99</i> </td><td>physics         </td><td>physics.soc-ph    </td><td style=\"text-align: right;\">            5279</td></tr>\n",
       "<tr><td><i style='opacity: 0.6'>100</i></td><td>cs              </td><td>cs.DC             </td><td style=\"text-align: right;\">            5534</td></tr>\n",
       "<tr><td><i style='opacity: 0.6'>101</i></td><td>physics         </td><td>physics.atom-ph   </td><td style=\"text-align: right;\">            5610</td></tr>\n",
       "<tr><td><i style='opacity: 0.6'>102</i></td><td>math            </td><td>math.GR           </td><td style=\"text-align: right;\">            6182</td></tr>\n",
       "<tr><td><i style='opacity: 0.6'>103</i></td><td>math            </td><td>math.GT           </td><td style=\"text-align: right;\">            6246</td></tr>\n",
       "<tr><td><i style='opacity: 0.6'>104</i></td><td>math            </td><td>math.ST           </td><td style=\"text-align: right;\">            6537</td></tr>\n",
       "<tr><td><i style='opacity: 0.6'>105</i></td><td>math            </td><td>math.RT           </td><td style=\"text-align: right;\">            6685</td></tr>\n",
       "<tr><td><i style='opacity: 0.6'>106</i></td><td>physics         </td><td>physics.ins-det   </td><td style=\"text-align: right;\">            6902</td></tr>\n",
       "<tr><td><i style='opacity: 0.6'>107</i></td><td>cs              </td><td>cs.CR             </td><td style=\"text-align: right;\">            6973</td></tr>\n",
       "<tr><td><i style='opacity: 0.6'>108</i></td><td>stat            </td><td>stat.ME           </td><td style=\"text-align: right;\">            7015</td></tr>\n",
       "<tr><td><i style='opacity: 0.6'>109</i></td><td>cs              </td><td>cs.DS             </td><td style=\"text-align: right;\">            7130</td></tr>\n",
       "<tr><td><i style='opacity: 0.6'>110</i></td><td>physics         </td><td>physics.flu-dyn   </td><td style=\"text-align: right;\">            7398</td></tr>\n",
       "<tr><td><i style='opacity: 0.6'>111</i></td><td>math            </td><td>math.CA           </td><td style=\"text-align: right;\">            7552</td></tr>\n",
       "<tr><td><i style='opacity: 0.6'>112</i></td><td>cs              </td><td>cs.NI             </td><td style=\"text-align: right;\">            7567</td></tr>\n",
       "<tr><td><i style='opacity: 0.6'>113</i></td><td>stat            </td><td>stat.ML           </td><td style=\"text-align: right;\">            7580</td></tr>\n",
       "<tr><td><i style='opacity: 0.6'>114</i></td><td>hep-ex          </td><td>hep-ex            </td><td style=\"text-align: right;\">            7860</td></tr>\n",
       "<tr><td><i style='opacity: 0.6'>115</i></td><td>cs              </td><td>cs.AI             </td><td style=\"text-align: right;\">            7959</td></tr>\n",
       "<tr><td><i style='opacity: 0.6'>116</i></td><td>cond-mat        </td><td>cond-mat.quant-gas</td><td style=\"text-align: right;\">            8159</td></tr>\n",
       "<tr><td><i style='opacity: 0.6'>117</i></td><td>math            </td><td>math.FA           </td><td style=\"text-align: right;\">            8952</td></tr>\n",
       "<tr><td><i style='opacity: 0.6'>118</i></td><td>math            </td><td>math.DS           </td><td style=\"text-align: right;\">           10143</td></tr>\n",
       "<tr><td><i style='opacity: 0.6'>119</i></td><td>astro-ph        </td><td>astro-ph.IM       </td><td style=\"text-align: right;\">           10254</td></tr>\n",
       "<tr><td><i style='opacity: 0.6'>120</i></td><td>cond-mat        </td><td>cond-mat.soft     </td><td style=\"text-align: right;\">           10483</td></tr>\n",
       "<tr><td><i style='opacity: 0.6'>121</i></td><td>cs              </td><td>cs.CL             </td><td style=\"text-align: right;\">           10708</td></tr>\n",
       "<tr><td><i style='opacity: 0.6'>122</i></td><td>cond-mat        </td><td>cond-mat.supr-con </td><td style=\"text-align: right;\">           11116</td></tr>\n",
       "<tr><td><i style='opacity: 0.6'>123</i></td><td>nucl-th         </td><td>nucl-th           </td><td style=\"text-align: right;\">           11251</td></tr>\n",
       "<tr><td><i style='opacity: 0.6'>124</i></td><td>astro-ph        </td><td>astro-ph.EP       </td><td style=\"text-align: right;\">           12028</td></tr>\n",
       "<tr><td><i style='opacity: 0.6'>125</i></td><td>math            </td><td>math.OC           </td><td style=\"text-align: right;\">           12241</td></tr>\n",
       "<tr><td><i style='opacity: 0.6'>126</i></td><td>math            </td><td>math.DG           </td><td style=\"text-align: right;\">           12328</td></tr>\n",
       "<tr><td><i style='opacity: 0.6'>127</i></td><td>math            </td><td>math.NA           </td><td style=\"text-align: right;\">           12402</td></tr>\n",
       "<tr><td><i style='opacity: 0.6'>128</i></td><td>physics         </td><td>physics.optics    </td><td style=\"text-align: right;\">           12705</td></tr>\n",
       "<tr><td><i style='opacity: 0.6'>129</i></td><td>cond-mat        </td><td>cond-mat.stat-mech</td><td style=\"text-align: right;\">           13070</td></tr>\n",
       "<tr><td><i style='opacity: 0.6'>130</i></td><td>math            </td><td>math.NT           </td><td style=\"text-align: right;\">           13879</td></tr>\n",
       "<tr><td><i style='opacity: 0.6'>131</i></td><td>math-ph         </td><td>math-ph           </td><td style=\"text-align: right;\">           14222</td></tr>\n",
       "<tr><td><i style='opacity: 0.6'>132</i></td><td>math            </td><td>math.AG           </td><td style=\"text-align: right;\">           14418</td></tr>\n",
       "<tr><td><i style='opacity: 0.6'>133</i></td><td>cs              </td><td>cs.LG             </td><td style=\"text-align: right;\">           17620</td></tr>\n",
       "<tr><td><i style='opacity: 0.6'>134</i></td><td>math            </td><td>math.PR           </td><td style=\"text-align: right;\">           17883</td></tr>\n",
       "<tr><td><i style='opacity: 0.6'>135</i></td><td>cs              </td><td>cs.IT             </td><td style=\"text-align: right;\">           17989</td></tr>\n",
       "<tr><td><i style='opacity: 0.6'>136</i></td><td>cond-mat        </td><td>cond-mat.str-el   </td><td style=\"text-align: right;\">           18319</td></tr>\n",
       "<tr><td><i style='opacity: 0.6'>137</i></td><td>math            </td><td>math.CO           </td><td style=\"text-align: right;\">           19479</td></tr>\n",
       "<tr><td><i style='opacity: 0.6'>138</i></td><td>math            </td><td>math.AP           </td><td style=\"text-align: right;\">           21792</td></tr>\n",
       "<tr><td><i style='opacity: 0.6'>139</i></td><td>gr-qc           </td><td>gr-qc             </td><td style=\"text-align: right;\">           21969</td></tr>\n",
       "<tr><td><i style='opacity: 0.6'>140</i></td><td>astro-ph        </td><td>astro-ph.HE       </td><td style=\"text-align: right;\">           22586</td></tr>\n",
       "<tr><td><i style='opacity: 0.6'>141</i></td><td>cond-mat        </td><td>cond-mat.mtrl-sci </td><td style=\"text-align: right;\">           24332</td></tr>\n",
       "<tr><td><i style='opacity: 0.6'>142</i></td><td>astro-ph        </td><td>astro-ph.GA       </td><td style=\"text-align: right;\">           25066</td></tr>\n",
       "<tr><td><i style='opacity: 0.6'>143</i></td><td>cs              </td><td>cs.CV             </td><td style=\"text-align: right;\">           25165</td></tr>\n",
       "<tr><td><i style='opacity: 0.6'>144</i></td><td>astro-ph        </td><td>astro-ph.CO       </td><td style=\"text-align: right;\">           27332</td></tr>\n",
       "<tr><td><i style='opacity: 0.6'>145</i></td><td>astro-ph        </td><td>astro-ph.SR       </td><td style=\"text-align: right;\">           27741</td></tr>\n",
       "<tr><td><i style='opacity: 0.6'>146</i></td><td>cond-mat        </td><td>cond-mat.mes-hall </td><td style=\"text-align: right;\">           28632</td></tr>\n",
       "<tr><td><i style='opacity: 0.6'>147</i></td><td>hep-th          </td><td>hep-th            </td><td style=\"text-align: right;\">           31488</td></tr>\n",
       "<tr><td><i style='opacity: 0.6'>148</i></td><td>quant-ph        </td><td>quant-ph          </td><td style=\"text-align: right;\">           38574</td></tr>\n",
       "<tr><td><i style='opacity: 0.6'>149</i></td><td>hep-ph          </td><td>hep-ph            </td><td style=\"text-align: right;\">           40708</td></tr>\n",
       "<tr><td><i style='opacity: 0.6'>150</i></td><td>astro-ph        </td><td>astro-ph          </td><td style=\"text-align: right;\">           94088</td></tr>\n",
       "</tbody>\n",
       "</table>"
      ],
      "text/plain": [
       "  #  major_category    prime_category        paper_id_count\n",
       "  0  cs                cs.GL                             77\n",
       "  1  econ              econ.TH                          122\n",
       "  2  cs                cs.OS                            276\n",
       "  3  stat              stat.OT                          331\n",
       "  4  nlin              nlin.CG                          378\n",
       "  5  econ              econ.EM                          414\n",
       "  6  q-bio             q-bio.OT                         452\n",
       "  7  q-bio             q-bio.SC                         519\n",
       "  8  q-fin             q-fin.TR                         542\n",
       "  9  dg-ga             dg-ga                            557\n",
       " 10  q-fin             q-fin.CP                         569\n",
       " 11  q-fin             q-fin.PM                         582\n",
       " 12  cs                cs.MS                            589\n",
       " 13  cs                cs.PF                            615\n",
       " 14  q-fin             q-fin.RM                         626\n",
       " 15  econ              econ.GN                          632\n",
       " 16  q-bio             q-bio.CB                         653\n",
       " 17  q-bio             q-bio.TO                         657\n",
       " 18  q-fin             q-fin.MF                         670\n",
       " 19  eess              eess.AS                          747\n",
       " 20  cs                cs.SC                            771\n",
       " 21  q-fin             q-fin.PR                         812\n",
       " 22  cs                cs.AR                            883\n",
       " 23  physics           physics.pop-ph                   892\n",
       " 24  cs                cs.GR                            897\n",
       " 25  cs                cs.ET                            904\n",
       " 26  physics           physics.atm-clus                 932\n",
       " 27  q-fin             q-fin.GN                         958\n",
       " 28  cs                cs.MA                            971\n",
       " 29  q-fin             q-fin.ST                        1006\n",
       " 30  q-bio             q-bio.BM                        1016\n",
       " 31  cs                cs.MM                           1040\n",
       " 32  q-bio             q-bio.MN                        1054\n",
       " 33  q-bio             q-bio.GN                        1056\n",
       " 34  math              math.KT                         1080\n",
       " 35  nlin              nlin.AO                         1106\n",
       " 36  physics           physics.space-ph                1112\n",
       " 37  cs                cs.OH                           1126\n",
       " 38  physics           physics.ed-ph                   1255\n",
       " 39  cs                cs.CE                           1273\n",
       " 40  math              math.GM                         1274\n",
       " 41  physics           physics.ao-ph                   1277\n",
       " 42  math              math.HO                         1321\n",
       " 43  cs                cs.SD                           1417\n",
       " 44  physics           physics.data-an                 1422\n",
       " 45  cond-mat          cond-mat.other                  1426\n",
       " 46  cs                cs.FL                           1432\n",
       " 47  physics           physics.geo-ph                  1498\n",
       " 48  physics           physics.hist-ph                 1499\n",
       " 49  math              math.GN                         1520\n",
       " 50  cs                cs.DL                           1566\n",
       " 51  math              math.CT                         1569\n",
       " 52  physics           physics.med-ph                  1626\n",
       " 53  nlin              nlin.PS                         1649\n",
       " 54  eess              eess.IV                         1772\n",
       " 55  stat              stat.CO                         1844\n",
       " 56  nlin              nlin.SI                         1884\n",
       " 57  math              math.SG                         1903\n",
       " 58  q-bio             q-bio.QM                        1938\n",
       " 59  cs                cs.CG                           1960\n",
       " 60  physics           physics.class-ph                1980\n",
       " 61  cs                cs.PL                           2181\n",
       " 62  math              math.SP                         2222\n",
       " 63  nlin              nlin.CD                         2323\n",
       " 64  cs                cs.CC                           2367\n",
       " 65  cs                cs.HC                           2421\n",
       " 66  cs                cs.DM                           2469\n",
       " 67  cs                cs.NE                           2546\n",
       " 68  cs                cs.DB                           2580\n",
       " 69  q-bio             q-bio.NC                        2709\n",
       " 70  math              math.MG                         2848\n",
       " 71  physics           physics.bio-ph                  2859\n",
       " 72  physics           physics.acc-ph                  2899\n",
       " 73  math              math.QA                         2928\n",
       " 74  cs                cs.GT                           3022\n",
       " 75  q-bio             q-bio.PE                        3063\n",
       " 76  cs                cs.IR                           3088\n",
       " 77  cond-mat          cond-mat.dis-nn                 3237\n",
       " 78  math              math.OA                         3417\n",
       " 79  cs                cs.CY                           3529\n",
       " 80  physics           physics.comp-ph                 3568\n",
       " 81  math              math.AC                         3628\n",
       " 82  math              math.AT                         3703\n",
       " 83  physics           physics.app-ph                  3727\n",
       " 84  eess              eess.SP                         3842\n",
       " 85  cs                cs.SE                           4022\n",
       " 86  physics           physics.gen-ph                  4116\n",
       " 87  math              math.LO                         4125\n",
       " 88  stat              stat.AP                         4150\n",
       " 89  nucl-ex           nucl-ex                         4397\n",
       " 90  cs                cs.SI                           4546\n",
       " 91  math              math.CV                         4664\n",
       " 92  cs                cs.RO                           4700\n",
       " 93  physics           physics.chem-ph                 4717\n",
       " 94  cs                cs.LO                           4831\n",
       " 95  math              math.RA                         4881\n",
       " 96  physics           physics.plasm-ph                4936\n",
       " 97  eess              eess.SY                         5222\n",
       " 98  hep-lat           hep-lat                         5274\n",
       " 99  physics           physics.soc-ph                  5279\n",
       "100  cs                cs.DC                           5534\n",
       "101  physics           physics.atom-ph                 5610\n",
       "102  math              math.GR                         6182\n",
       "103  math              math.GT                         6246\n",
       "104  math              math.ST                         6537\n",
       "105  math              math.RT                         6685\n",
       "106  physics           physics.ins-det                 6902\n",
       "107  cs                cs.CR                           6973\n",
       "108  stat              stat.ME                         7015\n",
       "109  cs                cs.DS                           7130\n",
       "110  physics           physics.flu-dyn                 7398\n",
       "111  math              math.CA                         7552\n",
       "112  cs                cs.NI                           7567\n",
       "113  stat              stat.ML                         7580\n",
       "114  hep-ex            hep-ex                          7860\n",
       "115  cs                cs.AI                           7959\n",
       "116  cond-mat          cond-mat.quant-gas              8159\n",
       "117  math              math.FA                         8952\n",
       "118  math              math.DS                        10143\n",
       "119  astro-ph          astro-ph.IM                    10254\n",
       "120  cond-mat          cond-mat.soft                  10483\n",
       "121  cs                cs.CL                          10708\n",
       "122  cond-mat          cond-mat.supr-con              11116\n",
       "123  nucl-th           nucl-th                        11251\n",
       "124  astro-ph          astro-ph.EP                    12028\n",
       "125  math              math.OC                        12241\n",
       "126  math              math.DG                        12328\n",
       "127  math              math.NA                        12402\n",
       "128  physics           physics.optics                 12705\n",
       "129  cond-mat          cond-mat.stat-mech             13070\n",
       "130  math              math.NT                        13879\n",
       "131  math-ph           math-ph                        14222\n",
       "132  math              math.AG                        14418\n",
       "133  cs                cs.LG                          17620\n",
       "134  math              math.PR                        17883\n",
       "135  cs                cs.IT                          17989\n",
       "136  cond-mat          cond-mat.str-el                18319\n",
       "137  math              math.CO                        19479\n",
       "138  math              math.AP                        21792\n",
       "139  gr-qc             gr-qc                          21969\n",
       "140  astro-ph          astro-ph.HE                    22586\n",
       "141  cond-mat          cond-mat.mtrl-sci              24332\n",
       "142  astro-ph          astro-ph.GA                    25066\n",
       "143  cs                cs.CV                          25165\n",
       "144  astro-ph          astro-ph.CO                    27332\n",
       "145  astro-ph          astro-ph.SR                    27741\n",
       "146  cond-mat          cond-mat.mes-hall              28632\n",
       "147  hep-th            hep-th                         31488\n",
       "148  quant-ph          quant-ph                       38574\n",
       "149  hep-ph            hep-ph                         40708\n",
       "150  astro-ph          astro-ph                       94088"
      ]
     },
     "execution_count": 8,
     "metadata": {},
     "output_type": "execute_result"
    },
    {
     "data": {
      "text/html": [
       "<table>\n",
       "<thead>\n",
       "<tr><th>#                             </th><th>major_category  </th><th style=\"text-align: right;\">  paper_id_count</th></tr>\n",
       "</thead>\n",
       "<tbody>\n",
       "<tr><td><i style='opacity: 0.6'>0</i> </td><td>dg-ga           </td><td style=\"text-align: right;\">             557</td></tr>\n",
       "<tr><td><i style='opacity: 0.6'>1</i> </td><td>econ            </td><td style=\"text-align: right;\">            1168</td></tr>\n",
       "<tr><td><i style='opacity: 0.6'>2</i> </td><td>nucl-ex         </td><td style=\"text-align: right;\">            4397</td></tr>\n",
       "<tr><td><i style='opacity: 0.6'>3</i> </td><td>hep-lat         </td><td style=\"text-align: right;\">            5274</td></tr>\n",
       "<tr><td><i style='opacity: 0.6'>4</i> </td><td>q-fin           </td><td style=\"text-align: right;\">            5765</td></tr>\n",
       "<tr><td><i style='opacity: 0.6'>5</i> </td><td>nlin            </td><td style=\"text-align: right;\">            7340</td></tr>\n",
       "<tr><td><i style='opacity: 0.6'>6</i> </td><td>hep-ex          </td><td style=\"text-align: right;\">            7860</td></tr>\n",
       "<tr><td><i style='opacity: 0.6'>7</i> </td><td>nucl-th         </td><td style=\"text-align: right;\">           11251</td></tr>\n",
       "<tr><td><i style='opacity: 0.6'>8</i> </td><td>eess            </td><td style=\"text-align: right;\">           11583</td></tr>\n",
       "<tr><td><i style='opacity: 0.6'>9</i> </td><td>q-bio           </td><td style=\"text-align: right;\">           13117</td></tr>\n",
       "<tr><td><i style='opacity: 0.6'>10</i></td><td>math-ph         </td><td style=\"text-align: right;\">           14222</td></tr>\n",
       "<tr><td><i style='opacity: 0.6'>11</i></td><td>stat            </td><td style=\"text-align: right;\">           20920</td></tr>\n",
       "<tr><td><i style='opacity: 0.6'>12</i></td><td>gr-qc           </td><td style=\"text-align: right;\">           21969</td></tr>\n",
       "<tr><td><i style='opacity: 0.6'>13</i></td><td>hep-th          </td><td style=\"text-align: right;\">           31488</td></tr>\n",
       "<tr><td><i style='opacity: 0.6'>14</i></td><td>quant-ph        </td><td style=\"text-align: right;\">           38574</td></tr>\n",
       "<tr><td><i style='opacity: 0.6'>15</i></td><td>hep-ph          </td><td style=\"text-align: right;\">           40708</td></tr>\n",
       "<tr><td><i style='opacity: 0.6'>16</i></td><td>physics         </td><td style=\"text-align: right;\">           78209</td></tr>\n",
       "<tr><td><i style='opacity: 0.6'>17</i></td><td>cond-mat        </td><td style=\"text-align: right;\">          118774</td></tr>\n",
       "<tr><td><i style='opacity: 0.6'>18</i></td><td>cs              </td><td style=\"text-align: right;\">          164744</td></tr>\n",
       "<tr><td><i style='opacity: 0.6'>19</i></td><td>math            </td><td style=\"text-align: right;\">          217802</td></tr>\n",
       "<tr><td><i style='opacity: 0.6'>20</i></td><td>astro-ph        </td><td style=\"text-align: right;\">          219095</td></tr>\n",
       "</tbody>\n",
       "</table>"
      ],
      "text/plain": [
       "  #  major_category      paper_id_count\n",
       "  0  dg-ga                          557\n",
       "  1  econ                          1168\n",
       "  2  nucl-ex                       4397\n",
       "  3  hep-lat                       5274\n",
       "  4  q-fin                         5765\n",
       "  5  nlin                          7340\n",
       "  6  hep-ex                        7860\n",
       "  7  nucl-th                      11251\n",
       "  8  eess                         11583\n",
       "  9  q-bio                        13117\n",
       " 10  math-ph                      14222\n",
       " 11  stat                         20920\n",
       " 12  gr-qc                        21969\n",
       " 13  hep-th                       31488\n",
       " 14  quant-ph                     38574\n",
       " 15  hep-ph                       40708\n",
       " 16  physics                      78209\n",
       " 17  cond-mat                    118774\n",
       " 18  cs                          164744\n",
       " 19  math                        217802\n",
       " 20  astro-ph                    219095"
      ]
     },
     "execution_count": 8,
     "metadata": {},
     "output_type": "execute_result"
    }
   ],
   "source": [
    "vaex.settings.display.max_rows = 200\n",
    "cat_count_df = pre2020_df.groupby(['major_category', 'prime_category'], agg = vaex.agg.count('paper_id')).sort(['paper_id_count'])\n",
    "to_get = cat_count_df[cat_count_df['paper_id_count'] < 1000]['prime_category'].values\n",
    "for value in to_get:\n",
    "    print(value)\n",
    "\n",
    "cat_count_df\n",
    "pre2020_df.groupby('major_category', agg = vaex.agg.count('paper_id')).sort('paper_id_count')\n",
    "vaex.settings.display.max_rows = 30"
   ]
  },
  {
   "cell_type": "code",
   "execution_count": 5,
   "id": "8f62f99f-0428-4dcf-8b27-fc6c05152e0f",
   "metadata": {},
   "outputs": [
    {
     "data": {
      "application/vnd.jupyter.widget-view+json": {
       "model_id": "4dfdedd1576a4d01aa6c5bd2702f856e",
       "version_major": 2,
       "version_minor": 0
      },
      "text/plain": [
       "  0%|          | 0/21 [00:00<?, ?it/s]"
      ]
     },
     "metadata": {},
     "output_type": "display_data"
    },
    {
     "name": "stderr",
     "output_type": "stream",
     "text": [
      "/home/cjc73/miniconda3/envs/cforge/lib/python3.9/site-packages/vaex/ml/__init__.py:31: UserWarning: Make sure the DataFrame is shuffled\n",
      "  warnings.warn('Make sure the DataFrame is shuffled')\n"
     ]
    },
    {
     "data": {
      "text/plain": [
       "(31786, 9)"
      ]
     },
     "execution_count": 5,
     "metadata": {},
     "output_type": "execute_result"
    },
    {
     "data": {
      "text/plain": [
       "(7938, 9)"
      ]
     },
     "execution_count": 5,
     "metadata": {},
     "output_type": "execute_result"
    },
    {
     "name": "stdout",
     "output_type": "stream",
     "text": [
      "export(hdf5) [########################################] 100.00% elapsed time  :   580.41s =  9.7m =  0.2h    \n",
      "export(hdf5) [########################################] 100.00% elapsed time  :   508.34s =  8.5m =  0.1h    \n",
      " "
     ]
    }
   ],
   "source": [
    "## Build a stratified sample for major cats\n",
    "\n",
    "train_ls = []\n",
    "test_ls = []\n",
    "\n",
    "TARGET_CLASS_SIZE = 2000\n",
    "RAND_STATE = 42\n",
    "\n",
    "tt_df = vaex.open(\n",
    "    \"./data/fulltext/pre2020_shuffled.hdf5\"\n",
    ").shuffle(random_state=RAND_STATE)\n",
    "\n",
    "major_cats = tt_df['major_category'].unique()\n",
    "\n",
    "for major_cat in tqdm(major_cats):\n",
    "    temp_df = tt_df[tt_df['major_category']==major_cat].copy()\n",
    "    \n",
    "    if temp_df.shape[0] <= TARGET_CLASS_SIZE:\n",
    "        temp_train, temp_test = temp_df.extract().ml.train_test_split(test_size=.2)\n",
    "        train_ls.append(temp_train)\n",
    "        test_ls.append(temp_test)\n",
    "\n",
    "    else: #temp_df.shape[0] > TARGET_CLASS_SIZE:\n",
    "        minor_cats = temp_df['prime_category'].unique()\n",
    "        #get minor_cat counts:\n",
    "        count_df = (\n",
    "            temp_df.groupby(\n",
    "                'prime_category', \n",
    "                agg=vaex.agg.count('paper_id')\n",
    "            ).sort('paper_id_count')\n",
    "        )\n",
    "        # get as balanced a sample as possible\n",
    "        minor_cat_len = len(minor_cats)\n",
    "        target_sub_size = round(TARGET_CLASS_SIZE / minor_cat_len)\n",
    "        sub_train_list = []\n",
    "        sub_test_list = []\n",
    "        \n",
    "        # for each sub cat, get the target size or max possible. \n",
    "        # Distribute the extra demand to larger cats\n",
    "        for minor_cat_count in count_df.iterrows():\n",
    "            idx = minor_cat_count[0]\n",
    "            minor_cat = minor_cat_count[1]['prime_category']\n",
    "            paper_count = minor_cat_count[1]['paper_id_count']\n",
    "            temp_sub = temp_df[temp_df['prime_category'] == minor_cat].extract()\n",
    "            if paper_count > target_sub_size:\n",
    "                temp_sub = temp_sub.sample(\n",
    "                    n=target_sub_size,\n",
    "                    random_state=RAND_STATE\n",
    "                )\n",
    "            else: #we have extra demand\n",
    "                sub_cats_left = (minor_cat_len - idx + 1)\n",
    "                target_delta = round((target_sub_size-paper_count)/sub_cats_left)\n",
    "                target_sub_size += target_delta\n",
    "            \n",
    "            \n",
    "            temp_sub_train, temp_sub_test = temp_sub.ml.train_test_split(test_size=.2)\n",
    "            sub_train_list.append(temp_sub_train)\n",
    "            sub_test_list.append(temp_sub_test)\n",
    "        \n",
    "        train_ls.append(vaex.concat(sub_train_list))\n",
    "        test_ls.append(vaex.concat(sub_test_list))\n",
    "    \n",
    "train_df = vaex.concat(train_ls)\n",
    "test_df = vaex.concat(test_ls)\n",
    "\n",
    "train_df.shape\n",
    "test_df.shape\n",
    "\n",
    "train_df.export(\"./data/fulltext/train_major_cats.hdf5\", progress=True)\n",
    "test_df.export(\"./data/fulltext/test_major_cats.hdf5\", progress=True)"
   ]
  },
  {
   "cell_type": "code",
   "execution_count": 6,
   "id": "1e9e76ca-a478-43e8-b7f5-1ccb46d627b3",
   "metadata": {},
   "outputs": [
    {
     "data": {
      "application/vnd.jupyter.widget-view+json": {
       "model_id": "d80c238dc8fb49b6a6995f2a64be5a3f",
       "version_major": 2,
       "version_minor": 0
      },
      "text/plain": [
       "  0%|          | 0/151 [00:00<?, ?it/s]"
      ]
     },
     "metadata": {},
     "output_type": "display_data"
    },
    {
     "data": {
      "text/plain": [
       "(112026, 9)"
      ]
     },
     "execution_count": 6,
     "metadata": {},
     "output_type": "execute_result"
    },
    {
     "data": {
      "text/plain": [
       "(28002, 9)"
      ]
     },
     "execution_count": 6,
     "metadata": {},
     "output_type": "execute_result"
    },
    {
     "name": "stdout",
     "output_type": "stream",
     "text": [
      "export(hdf5) [########################################] 100.00% elapsed time  :   197.43s =  3.3m =  0.1h   \n",
      "export(hdf5) [########################################] 100.00% elapsed time  :    44.93s =  0.7m =  0.0h  \n",
      " "
     ]
    }
   ],
   "source": [
    "## Build a stratified sample for prime cats (sub groups)\n",
    "\n",
    "train_ls = []\n",
    "test_ls = []\n",
    "\n",
    "TARGET_CLASS_SIZE = 1000\n",
    "RAND_STATE = 31\n",
    "\n",
    "tt_df = vaex.open(\n",
    "    \"./data/fulltext/pre2020_shuffled.hdf5\"\n",
    ").shuffle(random_state=RAND_STATE)\n",
    "\n",
    "prime_cats = tt_df['prime_category'].unique()\n",
    "\n",
    "for prime_cat in tqdm(prime_cats):\n",
    "    temp_df = tt_df[tt_df['prime_category']==prime_cat].copy()\n",
    "    temp_train, temp_test = temp_df[:TARGET_CLASS_SIZE].extract().ml.train_test_split(test_size=.2)\n",
    "    train_ls.append(temp_train)\n",
    "    test_ls.append(temp_test)\n",
    "    \n",
    "train_df = vaex.concat(train_ls)\n",
    "test_df = vaex.concat(test_ls)\n",
    "\n",
    "train_df.shape\n",
    "test_df.shape\n",
    "\n",
    "train_df.export(\"./data/fulltext/train_minor_cats.hdf5\", progress=True)\n",
    "test_df.export(\"./data/fulltext/test_minor_cats.hdf5\", progress=True)"
   ]
  },
  {
   "cell_type": "code",
   "execution_count": 31,
   "id": "5638cfa9-a274-4276-b9f9-27cecbfadbc6",
   "metadata": {},
   "outputs": [
    {
     "data": {
      "text/plain": [
       "414"
      ]
     },
     "execution_count": 31,
     "metadata": {},
     "output_type": "execute_result"
    },
    {
     "data": {
      "text/plain": [
       "10"
      ]
     },
     "execution_count": 31,
     "metadata": {},
     "output_type": "execute_result"
    }
   ],
   "source": [
    "len(temp_df[:100000000])\n",
    "len(temp_df[:10])"
   ]
  },
  {
   "cell_type": "code",
   "execution_count": 33,
   "id": "68d2ad14-fab8-4326-9062-dca96438f399",
   "metadata": {},
   "outputs": [
    {
     "data": {
      "text/plain": [
       "(112026, 9)"
      ]
     },
     "execution_count": 33,
     "metadata": {},
     "output_type": "execute_result"
    },
    {
     "data": {
      "text/plain": [
       "(112026, 9)"
      ]
     },
     "execution_count": 33,
     "metadata": {},
     "output_type": "execute_result"
    }
   ],
   "source": [
    "train_df.shape\n",
    "test_df.shape"
   ]
  },
  {
   "cell_type": "code",
   "execution_count": 8,
   "id": "6fbc0576-5208-4dfb-af4e-0ab980cdcabe",
   "metadata": {},
   "outputs": [],
   "source": [
    "train_df = vaex.open(\"./data/fulltext/train_major_cats.hdf5\")\n",
    "test_df = vaex.open(\"./data/fulltext/test_major_cats.hdf5\")"
   ]
  },
  {
   "cell_type": "code",
   "execution_count": null,
   "id": "55b3f799-f02b-4e02-a963-0cab2097cc03",
   "metadata": {},
   "outputs": [],
   "source": []
  },
  {
   "cell_type": "code",
   "execution_count": null,
   "id": "61911721-5768-458c-a1f6-06a24f9b14cd",
   "metadata": {},
   "outputs": [],
   "source": []
  },
  {
   "cell_type": "code",
   "execution_count": null,
   "id": "2ac705c1-f3c0-4e8c-a4c8-aadde203499b",
   "metadata": {},
   "outputs": [],
   "source": []
  },
  {
   "cell_type": "code",
   "execution_count": null,
   "id": "4db7e8c6-8186-4a7a-ac67-c8d384f0a82b",
   "metadata": {},
   "outputs": [],
   "source": []
  },
  {
   "cell_type": "code",
   "execution_count": null,
   "id": "8a5a1c74-0fd8-4afb-b128-150f300428d0",
   "metadata": {},
   "outputs": [],
   "source": []
  },
  {
   "cell_type": "code",
   "execution_count": null,
   "id": "da710cab-9ada-4391-9ccd-a172bfb623df",
   "metadata": {},
   "outputs": [],
   "source": []
  },
  {
   "cell_type": "code",
   "execution_count": null,
   "id": "e0978ea1-7313-42c3-92c6-8765e79caafa",
   "metadata": {},
   "outputs": [],
   "source": []
  },
  {
   "cell_type": "code",
   "execution_count": null,
   "id": "875d4885-a366-4221-ac9f-6f43b5fc8d13",
   "metadata": {},
   "outputs": [],
   "source": []
  },
  {
   "cell_type": "code",
   "execution_count": 9,
   "id": "33a77e61-ad61-4964-b42a-8a176bc5c970",
   "metadata": {},
   "outputs": [
    {
     "data": {
      "text/html": [
       "<table>\n",
       "<thead>\n",
       "<tr><th>#                              </th><th>major_category  </th><th>prime_category    </th><th style=\"text-align: right;\">  paper_id_count</th></tr>\n",
       "</thead>\n",
       "<tbody>\n",
       "<tr><td><i style='opacity: 0.6'>0</i>  </td><td>cs              </td><td>cs.SC             </td><td style=\"text-align: right;\">              21</td></tr>\n",
       "<tr><td><i style='opacity: 0.6'>1</i>  </td><td>cs              </td><td>cs.CG             </td><td style=\"text-align: right;\">              21</td></tr>\n",
       "<tr><td><i style='opacity: 0.6'>2</i>  </td><td>cs              </td><td>cs.DC             </td><td style=\"text-align: right;\">              21</td></tr>\n",
       "<tr><td><i style='opacity: 0.6'>3</i>  </td><td>cs              </td><td>cs.CL             </td><td style=\"text-align: right;\">              21</td></tr>\n",
       "<tr><td><i style='opacity: 0.6'>4</i>  </td><td>cs              </td><td>cs.FL             </td><td style=\"text-align: right;\">              21</td></tr>\n",
       "<tr><td><i style='opacity: 0.6'>5</i>  </td><td>cs              </td><td>cs.IR             </td><td style=\"text-align: right;\">              21</td></tr>\n",
       "<tr><td><i style='opacity: 0.6'>6</i>  </td><td>cs              </td><td>cs.NI             </td><td style=\"text-align: right;\">              21</td></tr>\n",
       "<tr><td><i style='opacity: 0.6'>7</i>  </td><td>cs              </td><td>cs.AR             </td><td style=\"text-align: right;\">              21</td></tr>\n",
       "<tr><td><i style='opacity: 0.6'>8</i>  </td><td>cs              </td><td>cs.DM             </td><td style=\"text-align: right;\">              21</td></tr>\n",
       "<tr><td><i style='opacity: 0.6'>9</i>  </td><td>cs              </td><td>cs.LO             </td><td style=\"text-align: right;\">              21</td></tr>\n",
       "<tr><td><i style='opacity: 0.6'>10</i> </td><td>cs              </td><td>cs.CR             </td><td style=\"text-align: right;\">              21</td></tr>\n",
       "<tr><td><i style='opacity: 0.6'>11</i> </td><td>cs              </td><td>cs.MS             </td><td style=\"text-align: right;\">              21</td></tr>\n",
       "<tr><td><i style='opacity: 0.6'>12</i> </td><td>cs              </td><td>cs.SD             </td><td style=\"text-align: right;\">              21</td></tr>\n",
       "<tr><td><i style='opacity: 0.6'>13</i> </td><td>cs              </td><td>cs.IT             </td><td style=\"text-align: right;\">              21</td></tr>\n",
       "<tr><td><i style='opacity: 0.6'>14</i> </td><td>cs              </td><td>cs.PF             </td><td style=\"text-align: right;\">              21</td></tr>\n",
       "<tr><td><i style='opacity: 0.6'>15</i> </td><td>cs              </td><td>cs.GR             </td><td style=\"text-align: right;\">              21</td></tr>\n",
       "<tr><td><i style='opacity: 0.6'>16</i> </td><td>cs              </td><td>cs.DL             </td><td style=\"text-align: right;\">              21</td></tr>\n",
       "<tr><td><i style='opacity: 0.6'>17</i> </td><td>cs              </td><td>cs.OH             </td><td style=\"text-align: right;\">              21</td></tr>\n",
       "<tr><td><i style='opacity: 0.6'>18</i> </td><td>cs              </td><td>cs.CE             </td><td style=\"text-align: right;\">              21</td></tr>\n",
       "<tr><td><i style='opacity: 0.6'>19</i> </td><td>cs              </td><td>cs.NE             </td><td style=\"text-align: right;\">              21</td></tr>\n",
       "<tr><td><i style='opacity: 0.6'>20</i> </td><td>cs              </td><td>cs.DB             </td><td style=\"text-align: right;\">              21</td></tr>\n",
       "<tr><td><i style='opacity: 0.6'>21</i> </td><td>cs              </td><td>cs.RO             </td><td style=\"text-align: right;\">              21</td></tr>\n",
       "<tr><td><i style='opacity: 0.6'>22</i> </td><td>cs              </td><td>cs.CV             </td><td style=\"text-align: right;\">              21</td></tr>\n",
       "<tr><td><i style='opacity: 0.6'>23</i> </td><td>cs              </td><td>cs.AI             </td><td style=\"text-align: right;\">              21</td></tr>\n",
       "<tr><td><i style='opacity: 0.6'>24</i> </td><td>cs              </td><td>cs.GL             </td><td style=\"text-align: right;\">              21</td></tr>\n",
       "<tr><td><i style='opacity: 0.6'>25</i> </td><td>cs              </td><td>cs.ET             </td><td style=\"text-align: right;\">              21</td></tr>\n",
       "<tr><td><i style='opacity: 0.6'>26</i> </td><td>cs              </td><td>cs.LG             </td><td style=\"text-align: right;\">              21</td></tr>\n",
       "<tr><td><i style='opacity: 0.6'>27</i> </td><td>cs              </td><td>cs.MA             </td><td style=\"text-align: right;\">              21</td></tr>\n",
       "<tr><td><i style='opacity: 0.6'>28</i> </td><td>cs              </td><td>cs.PL             </td><td style=\"text-align: right;\">              21</td></tr>\n",
       "<tr><td><i style='opacity: 0.6'>29</i> </td><td>cs              </td><td>cs.CC             </td><td style=\"text-align: right;\">              21</td></tr>\n",
       "<tr><td><i style='opacity: 0.6'>30</i> </td><td>cs              </td><td>cs.OS             </td><td style=\"text-align: right;\">              21</td></tr>\n",
       "<tr><td><i style='opacity: 0.6'>31</i> </td><td>cs              </td><td>cs.HC             </td><td style=\"text-align: right;\">              21</td></tr>\n",
       "<tr><td><i style='opacity: 0.6'>32</i> </td><td>cs              </td><td>cs.GT             </td><td style=\"text-align: right;\">              21</td></tr>\n",
       "<tr><td><i style='opacity: 0.6'>33</i> </td><td>cs              </td><td>cs.SI             </td><td style=\"text-align: right;\">              21</td></tr>\n",
       "<tr><td><i style='opacity: 0.6'>34</i> </td><td>cs              </td><td>cs.MM             </td><td style=\"text-align: right;\">              21</td></tr>\n",
       "<tr><td><i style='opacity: 0.6'>35</i> </td><td>cs              </td><td>cs.CY             </td><td style=\"text-align: right;\">              21</td></tr>\n",
       "<tr><td><i style='opacity: 0.6'>36</i> </td><td>cs              </td><td>cs.SE             </td><td style=\"text-align: right;\">              21</td></tr>\n",
       "<tr><td><i style='opacity: 0.6'>37</i> </td><td>cs              </td><td>cs.DS             </td><td style=\"text-align: right;\">              21</td></tr>\n",
       "<tr><td><i style='opacity: 0.6'>38</i> </td><td>math            </td><td>math.CT           </td><td style=\"text-align: right;\">              26</td></tr>\n",
       "<tr><td><i style='opacity: 0.6'>39</i> </td><td>math            </td><td>math.PR           </td><td style=\"text-align: right;\">              26</td></tr>\n",
       "<tr><td><i style='opacity: 0.6'>40</i> </td><td>math            </td><td>math.SG           </td><td style=\"text-align: right;\">              26</td></tr>\n",
       "<tr><td><i style='opacity: 0.6'>41</i> </td><td>math            </td><td>math.GT           </td><td style=\"text-align: right;\">              26</td></tr>\n",
       "<tr><td><i style='opacity: 0.6'>42</i> </td><td>math            </td><td>math.CV           </td><td style=\"text-align: right;\">              26</td></tr>\n",
       "<tr><td><i style='opacity: 0.6'>43</i> </td><td>math            </td><td>math.NT           </td><td style=\"text-align: right;\">              26</td></tr>\n",
       "<tr><td><i style='opacity: 0.6'>44</i> </td><td>math            </td><td>math.GN           </td><td style=\"text-align: right;\">              26</td></tr>\n",
       "<tr><td><i style='opacity: 0.6'>45</i> </td><td>math            </td><td>math.OA           </td><td style=\"text-align: right;\">              26</td></tr>\n",
       "<tr><td><i style='opacity: 0.6'>46</i> </td><td>math            </td><td>math.DG           </td><td style=\"text-align: right;\">              26</td></tr>\n",
       "<tr><td><i style='opacity: 0.6'>47</i> </td><td>math            </td><td>math.CO           </td><td style=\"text-align: right;\">              26</td></tr>\n",
       "<tr><td><i style='opacity: 0.6'>48</i> </td><td>math            </td><td>math.MG           </td><td style=\"text-align: right;\">              26</td></tr>\n",
       "<tr><td><i style='opacity: 0.6'>49</i> </td><td>math            </td><td>math.QA           </td><td style=\"text-align: right;\">              26</td></tr>\n",
       "<tr><td><i style='opacity: 0.6'>50</i> </td><td>math            </td><td>math.RA           </td><td style=\"text-align: right;\">              26</td></tr>\n",
       "<tr><td><i style='opacity: 0.6'>51</i> </td><td>math            </td><td>math.LO           </td><td style=\"text-align: right;\">              26</td></tr>\n",
       "<tr><td><i style='opacity: 0.6'>52</i> </td><td>math            </td><td>math.GR           </td><td style=\"text-align: right;\">              26</td></tr>\n",
       "<tr><td><i style='opacity: 0.6'>53</i> </td><td>math            </td><td>math.FA           </td><td style=\"text-align: right;\">              26</td></tr>\n",
       "<tr><td><i style='opacity: 0.6'>54</i> </td><td>math            </td><td>math.OC           </td><td style=\"text-align: right;\">              26</td></tr>\n",
       "<tr><td><i style='opacity: 0.6'>55</i> </td><td>math            </td><td>math.KT           </td><td style=\"text-align: right;\">              26</td></tr>\n",
       "<tr><td><i style='opacity: 0.6'>56</i> </td><td>math            </td><td>math.GM           </td><td style=\"text-align: right;\">              26</td></tr>\n",
       "<tr><td><i style='opacity: 0.6'>57</i> </td><td>math            </td><td>math.AG           </td><td style=\"text-align: right;\">              26</td></tr>\n",
       "<tr><td><i style='opacity: 0.6'>58</i> </td><td>math            </td><td>math.SP           </td><td style=\"text-align: right;\">              26</td></tr>\n",
       "<tr><td><i style='opacity: 0.6'>59</i> </td><td>math            </td><td>math.DS           </td><td style=\"text-align: right;\">              26</td></tr>\n",
       "<tr><td><i style='opacity: 0.6'>60</i> </td><td>math            </td><td>math.AC           </td><td style=\"text-align: right;\">              26</td></tr>\n",
       "<tr><td><i style='opacity: 0.6'>61</i> </td><td>math            </td><td>math.AT           </td><td style=\"text-align: right;\">              26</td></tr>\n",
       "<tr><td><i style='opacity: 0.6'>62</i> </td><td>math            </td><td>math.AP           </td><td style=\"text-align: right;\">              26</td></tr>\n",
       "<tr><td><i style='opacity: 0.6'>63</i> </td><td>math            </td><td>math.ST           </td><td style=\"text-align: right;\">              26</td></tr>\n",
       "<tr><td><i style='opacity: 0.6'>64</i> </td><td>math            </td><td>math.RT           </td><td style=\"text-align: right;\">              26</td></tr>\n",
       "<tr><td><i style='opacity: 0.6'>65</i> </td><td>math            </td><td>math.HO           </td><td style=\"text-align: right;\">              26</td></tr>\n",
       "<tr><td><i style='opacity: 0.6'>66</i> </td><td>math            </td><td>math.CA           </td><td style=\"text-align: right;\">              26</td></tr>\n",
       "<tr><td><i style='opacity: 0.6'>67</i> </td><td>math            </td><td>math.NA           </td><td style=\"text-align: right;\">              26</td></tr>\n",
       "<tr><td><i style='opacity: 0.6'>68</i> </td><td>physics         </td><td>physics.space-ph  </td><td style=\"text-align: right;\">              36</td></tr>\n",
       "<tr><td><i style='opacity: 0.6'>69</i> </td><td>physics         </td><td>physics.ins-det   </td><td style=\"text-align: right;\">              36</td></tr>\n",
       "<tr><td><i style='opacity: 0.6'>70</i> </td><td>physics         </td><td>physics.soc-ph    </td><td style=\"text-align: right;\">              36</td></tr>\n",
       "<tr><td><i style='opacity: 0.6'>71</i> </td><td>physics         </td><td>physics.comp-ph   </td><td style=\"text-align: right;\">              36</td></tr>\n",
       "<tr><td><i style='opacity: 0.6'>72</i> </td><td>physics         </td><td>physics.flu-dyn   </td><td style=\"text-align: right;\">              36</td></tr>\n",
       "<tr><td><i style='opacity: 0.6'>73</i> </td><td>physics         </td><td>physics.geo-ph    </td><td style=\"text-align: right;\">              36</td></tr>\n",
       "<tr><td><i style='opacity: 0.6'>74</i> </td><td>physics         </td><td>physics.plasm-ph  </td><td style=\"text-align: right;\">              36</td></tr>\n",
       "<tr><td><i style='opacity: 0.6'>75</i> </td><td>physics         </td><td>physics.ed-ph     </td><td style=\"text-align: right;\">              36</td></tr>\n",
       "<tr><td><i style='opacity: 0.6'>76</i> </td><td>physics         </td><td>physics.chem-ph   </td><td style=\"text-align: right;\">              36</td></tr>\n",
       "<tr><td><i style='opacity: 0.6'>77</i> </td><td>physics         </td><td>physics.atom-ph   </td><td style=\"text-align: right;\">              36</td></tr>\n",
       "<tr><td><i style='opacity: 0.6'>78</i> </td><td>physics         </td><td>physics.data-an   </td><td style=\"text-align: right;\">              36</td></tr>\n",
       "<tr><td><i style='opacity: 0.6'>79</i> </td><td>physics         </td><td>physics.app-ph    </td><td style=\"text-align: right;\">              36</td></tr>\n",
       "<tr><td><i style='opacity: 0.6'>80</i> </td><td>physics         </td><td>physics.med-ph    </td><td style=\"text-align: right;\">              36</td></tr>\n",
       "<tr><td><i style='opacity: 0.6'>81</i> </td><td>physics         </td><td>physics.class-ph  </td><td style=\"text-align: right;\">              36</td></tr>\n",
       "<tr><td><i style='opacity: 0.6'>82</i> </td><td>physics         </td><td>physics.bio-ph    </td><td style=\"text-align: right;\">              36</td></tr>\n",
       "<tr><td><i style='opacity: 0.6'>83</i> </td><td>physics         </td><td>physics.acc-ph    </td><td style=\"text-align: right;\">              36</td></tr>\n",
       "<tr><td><i style='opacity: 0.6'>84</i> </td><td>physics         </td><td>physics.optics    </td><td style=\"text-align: right;\">              36</td></tr>\n",
       "<tr><td><i style='opacity: 0.6'>85</i> </td><td>physics         </td><td>physics.pop-ph    </td><td style=\"text-align: right;\">              36</td></tr>\n",
       "<tr><td><i style='opacity: 0.6'>86</i> </td><td>physics         </td><td>physics.atm-clus  </td><td style=\"text-align: right;\">              36</td></tr>\n",
       "<tr><td><i style='opacity: 0.6'>87</i> </td><td>physics         </td><td>physics.hist-ph   </td><td style=\"text-align: right;\">              36</td></tr>\n",
       "<tr><td><i style='opacity: 0.6'>88</i> </td><td>physics         </td><td>physics.ao-ph     </td><td style=\"text-align: right;\">              36</td></tr>\n",
       "<tr><td><i style='opacity: 0.6'>89</i> </td><td>physics         </td><td>physics.gen-ph    </td><td style=\"text-align: right;\">              36</td></tr>\n",
       "<tr><td><i style='opacity: 0.6'>90</i> </td><td>q-bio           </td><td>q-bio.OT          </td><td style=\"text-align: right;\">              80</td></tr>\n",
       "<tr><td><i style='opacity: 0.6'>91</i> </td><td>q-bio           </td><td>q-bio.TO          </td><td style=\"text-align: right;\">              80</td></tr>\n",
       "<tr><td><i style='opacity: 0.6'>92</i> </td><td>q-bio           </td><td>q-bio.SC          </td><td style=\"text-align: right;\">              80</td></tr>\n",
       "<tr><td><i style='opacity: 0.6'>93</i> </td><td>q-bio           </td><td>q-bio.MN          </td><td style=\"text-align: right;\">              80</td></tr>\n",
       "<tr><td><i style='opacity: 0.6'>94</i> </td><td>q-bio           </td><td>q-bio.GN          </td><td style=\"text-align: right;\">              80</td></tr>\n",
       "<tr><td><i style='opacity: 0.6'>95</i> </td><td>q-bio           </td><td>q-bio.NC          </td><td style=\"text-align: right;\">              80</td></tr>\n",
       "<tr><td><i style='opacity: 0.6'>96</i> </td><td>q-bio           </td><td>q-bio.CB          </td><td style=\"text-align: right;\">              80</td></tr>\n",
       "<tr><td><i style='opacity: 0.6'>97</i> </td><td>q-bio           </td><td>q-bio.PE          </td><td style=\"text-align: right;\">              80</td></tr>\n",
       "<tr><td><i style='opacity: 0.6'>98</i> </td><td>q-bio           </td><td>q-bio.BM          </td><td style=\"text-align: right;\">              80</td></tr>\n",
       "<tr><td><i style='opacity: 0.6'>99</i> </td><td>q-bio           </td><td>q-bio.QM          </td><td style=\"text-align: right;\">              80</td></tr>\n",
       "<tr><td><i style='opacity: 0.6'>100</i></td><td>cond-mat        </td><td>cond-mat.str-el   </td><td style=\"text-align: right;\">              89</td></tr>\n",
       "<tr><td><i style='opacity: 0.6'>101</i></td><td>cond-mat        </td><td>cond-mat.mtrl-sci </td><td style=\"text-align: right;\">              89</td></tr>\n",
       "<tr><td><i style='opacity: 0.6'>102</i></td><td>cond-mat        </td><td>cond-mat.supr-con </td><td style=\"text-align: right;\">              89</td></tr>\n",
       "<tr><td><i style='opacity: 0.6'>103</i></td><td>cond-mat        </td><td>cond-mat.dis-nn   </td><td style=\"text-align: right;\">              89</td></tr>\n",
       "<tr><td><i style='opacity: 0.6'>104</i></td><td>cond-mat        </td><td>cond-mat.soft     </td><td style=\"text-align: right;\">              89</td></tr>\n",
       "<tr><td><i style='opacity: 0.6'>105</i></td><td>cond-mat        </td><td>cond-mat.stat-mech</td><td style=\"text-align: right;\">              89</td></tr>\n",
       "<tr><td><i style='opacity: 0.6'>106</i></td><td>cond-mat        </td><td>cond-mat.mes-hall </td><td style=\"text-align: right;\">              89</td></tr>\n",
       "<tr><td><i style='opacity: 0.6'>107</i></td><td>cond-mat        </td><td>cond-mat.other    </td><td style=\"text-align: right;\">              89</td></tr>\n",
       "<tr><td><i style='opacity: 0.6'>108</i></td><td>cond-mat        </td><td>cond-mat.quant-gas</td><td style=\"text-align: right;\">              89</td></tr>\n",
       "<tr><td><i style='opacity: 0.6'>109</i></td><td>econ            </td><td>econ.TH           </td><td style=\"text-align: right;\">              98</td></tr>\n",
       "<tr><td><i style='opacity: 0.6'>110</i></td><td>q-fin           </td><td>q-fin.PR          </td><td style=\"text-align: right;\">             100</td></tr>\n",
       "<tr><td><i style='opacity: 0.6'>111</i></td><td>q-fin           </td><td>q-fin.TR          </td><td style=\"text-align: right;\">             100</td></tr>\n",
       "<tr><td><i style='opacity: 0.6'>112</i></td><td>q-fin           </td><td>q-fin.PM          </td><td style=\"text-align: right;\">             100</td></tr>\n",
       "<tr><td><i style='opacity: 0.6'>113</i></td><td>q-fin           </td><td>q-fin.RM          </td><td style=\"text-align: right;\">             100</td></tr>\n",
       "<tr><td><i style='opacity: 0.6'>114</i></td><td>q-fin           </td><td>q-fin.CP          </td><td style=\"text-align: right;\">             100</td></tr>\n",
       "<tr><td><i style='opacity: 0.6'>115</i></td><td>q-fin           </td><td>q-fin.MF          </td><td style=\"text-align: right;\">             100</td></tr>\n",
       "<tr><td><i style='opacity: 0.6'>116</i></td><td>q-fin           </td><td>q-fin.GN          </td><td style=\"text-align: right;\">             100</td></tr>\n",
       "<tr><td><i style='opacity: 0.6'>117</i></td><td>q-fin           </td><td>q-fin.ST          </td><td style=\"text-align: right;\">             100</td></tr>\n",
       "<tr><td><i style='opacity: 0.6'>118</i></td><td>astro-ph        </td><td>astro-ph.EP       </td><td style=\"text-align: right;\">             114</td></tr>\n",
       "<tr><td><i style='opacity: 0.6'>119</i></td><td>astro-ph        </td><td>astro-ph.SR       </td><td style=\"text-align: right;\">             114</td></tr>\n",
       "<tr><td><i style='opacity: 0.6'>120</i></td><td>astro-ph        </td><td>astro-ph.CO       </td><td style=\"text-align: right;\">             114</td></tr>\n",
       "<tr><td><i style='opacity: 0.6'>121</i></td><td>astro-ph        </td><td>astro-ph          </td><td style=\"text-align: right;\">             114</td></tr>\n",
       "<tr><td><i style='opacity: 0.6'>122</i></td><td>astro-ph        </td><td>astro-ph.IM       </td><td style=\"text-align: right;\">             114</td></tr>\n",
       "<tr><td><i style='opacity: 0.6'>123</i></td><td>astro-ph        </td><td>astro-ph.GA       </td><td style=\"text-align: right;\">             114</td></tr>\n",
       "<tr><td><i style='opacity: 0.6'>124</i></td><td>astro-ph        </td><td>astro-ph.HE       </td><td style=\"text-align: right;\">             114</td></tr>\n",
       "<tr><td><i style='opacity: 0.6'>125</i></td><td>stat            </td><td>stat.CO           </td><td style=\"text-align: right;\">             160</td></tr>\n",
       "<tr><td><i style='opacity: 0.6'>126</i></td><td>stat            </td><td>stat.AP           </td><td style=\"text-align: right;\">             160</td></tr>\n",
       "<tr><td><i style='opacity: 0.6'>127</i></td><td>nlin            </td><td>nlin.PS           </td><td style=\"text-align: right;\">             160</td></tr>\n",
       "<tr><td><i style='opacity: 0.6'>128</i></td><td>stat            </td><td>stat.OT           </td><td style=\"text-align: right;\">             160</td></tr>\n",
       "<tr><td><i style='opacity: 0.6'>129</i></td><td>nlin            </td><td>nlin.CD           </td><td style=\"text-align: right;\">             160</td></tr>\n",
       "<tr><td><i style='opacity: 0.6'>130</i></td><td>stat            </td><td>stat.ME           </td><td style=\"text-align: right;\">             160</td></tr>\n",
       "<tr><td><i style='opacity: 0.6'>131</i></td><td>stat            </td><td>stat.ML           </td><td style=\"text-align: right;\">             160</td></tr>\n",
       "<tr><td><i style='opacity: 0.6'>132</i></td><td>nlin            </td><td>nlin.CG           </td><td style=\"text-align: right;\">             160</td></tr>\n",
       "<tr><td><i style='opacity: 0.6'>133</i></td><td>nlin            </td><td>nlin.AO           </td><td style=\"text-align: right;\">             160</td></tr>\n",
       "<tr><td><i style='opacity: 0.6'>134</i></td><td>nlin            </td><td>nlin.SI           </td><td style=\"text-align: right;\">             160</td></tr>\n",
       "<tr><td><i style='opacity: 0.6'>135</i></td><td>eess            </td><td>eess.AS           </td><td style=\"text-align: right;\">             200</td></tr>\n",
       "<tr><td><i style='opacity: 0.6'>136</i></td><td>eess            </td><td>eess.IV           </td><td style=\"text-align: right;\">             200</td></tr>\n",
       "<tr><td><i style='opacity: 0.6'>137</i></td><td>eess            </td><td>eess.SP           </td><td style=\"text-align: right;\">             200</td></tr>\n",
       "<tr><td><i style='opacity: 0.6'>138</i></td><td>eess            </td><td>eess.SY           </td><td style=\"text-align: right;\">             200</td></tr>\n",
       "<tr><td><i style='opacity: 0.6'>139</i></td><td>econ            </td><td>econ.GN           </td><td style=\"text-align: right;\">             309</td></tr>\n",
       "<tr><td><i style='opacity: 0.6'>140</i></td><td>econ            </td><td>econ.EM           </td><td style=\"text-align: right;\">             309</td></tr>\n",
       "<tr><td><i style='opacity: 0.6'>141</i></td><td>dg-ga           </td><td>dg-ga             </td><td style=\"text-align: right;\">             446</td></tr>\n",
       "<tr><td><i style='opacity: 0.6'>142</i></td><td>gr-qc           </td><td>gr-qc             </td><td style=\"text-align: right;\">             800</td></tr>\n",
       "<tr><td><i style='opacity: 0.6'>143</i></td><td>hep-lat         </td><td>hep-lat           </td><td style=\"text-align: right;\">             800</td></tr>\n",
       "<tr><td><i style='opacity: 0.6'>144</i></td><td>hep-ex          </td><td>hep-ex            </td><td style=\"text-align: right;\">             800</td></tr>\n",
       "<tr><td><i style='opacity: 0.6'>145</i></td><td>nucl-th         </td><td>nucl-th           </td><td style=\"text-align: right;\">             800</td></tr>\n",
       "<tr><td><i style='opacity: 0.6'>146</i></td><td>math-ph         </td><td>math-ph           </td><td style=\"text-align: right;\">             800</td></tr>\n",
       "<tr><td><i style='opacity: 0.6'>147</i></td><td>hep-ph          </td><td>hep-ph            </td><td style=\"text-align: right;\">             800</td></tr>\n",
       "<tr><td><i style='opacity: 0.6'>148</i></td><td>hep-th          </td><td>hep-th            </td><td style=\"text-align: right;\">             800</td></tr>\n",
       "<tr><td><i style='opacity: 0.6'>149</i></td><td>quant-ph        </td><td>quant-ph          </td><td style=\"text-align: right;\">             800</td></tr>\n",
       "<tr><td><i style='opacity: 0.6'>150</i></td><td>nucl-ex         </td><td>nucl-ex           </td><td style=\"text-align: right;\">             800</td></tr>\n",
       "</tbody>\n",
       "</table>"
      ],
      "text/plain": [
       "  #  major_category    prime_category        paper_id_count\n",
       "  0  cs                cs.SC                             21\n",
       "  1  cs                cs.CG                             21\n",
       "  2  cs                cs.DC                             21\n",
       "  3  cs                cs.CL                             21\n",
       "  4  cs                cs.FL                             21\n",
       "  5  cs                cs.IR                             21\n",
       "  6  cs                cs.NI                             21\n",
       "  7  cs                cs.AR                             21\n",
       "  8  cs                cs.DM                             21\n",
       "  9  cs                cs.LO                             21\n",
       " 10  cs                cs.CR                             21\n",
       " 11  cs                cs.MS                             21\n",
       " 12  cs                cs.SD                             21\n",
       " 13  cs                cs.IT                             21\n",
       " 14  cs                cs.PF                             21\n",
       " 15  cs                cs.GR                             21\n",
       " 16  cs                cs.DL                             21\n",
       " 17  cs                cs.OH                             21\n",
       " 18  cs                cs.CE                             21\n",
       " 19  cs                cs.NE                             21\n",
       " 20  cs                cs.DB                             21\n",
       " 21  cs                cs.RO                             21\n",
       " 22  cs                cs.CV                             21\n",
       " 23  cs                cs.AI                             21\n",
       " 24  cs                cs.GL                             21\n",
       " 25  cs                cs.ET                             21\n",
       " 26  cs                cs.LG                             21\n",
       " 27  cs                cs.MA                             21\n",
       " 28  cs                cs.PL                             21\n",
       " 29  cs                cs.CC                             21\n",
       " 30  cs                cs.OS                             21\n",
       " 31  cs                cs.HC                             21\n",
       " 32  cs                cs.GT                             21\n",
       " 33  cs                cs.SI                             21\n",
       " 34  cs                cs.MM                             21\n",
       " 35  cs                cs.CY                             21\n",
       " 36  cs                cs.SE                             21\n",
       " 37  cs                cs.DS                             21\n",
       " 38  math              math.CT                           26\n",
       " 39  math              math.PR                           26\n",
       " 40  math              math.SG                           26\n",
       " 41  math              math.GT                           26\n",
       " 42  math              math.CV                           26\n",
       " 43  math              math.NT                           26\n",
       " 44  math              math.GN                           26\n",
       " 45  math              math.OA                           26\n",
       " 46  math              math.DG                           26\n",
       " 47  math              math.CO                           26\n",
       " 48  math              math.MG                           26\n",
       " 49  math              math.QA                           26\n",
       " 50  math              math.RA                           26\n",
       " 51  math              math.LO                           26\n",
       " 52  math              math.GR                           26\n",
       " 53  math              math.FA                           26\n",
       " 54  math              math.OC                           26\n",
       " 55  math              math.KT                           26\n",
       " 56  math              math.GM                           26\n",
       " 57  math              math.AG                           26\n",
       " 58  math              math.SP                           26\n",
       " 59  math              math.DS                           26\n",
       " 60  math              math.AC                           26\n",
       " 61  math              math.AT                           26\n",
       " 62  math              math.AP                           26\n",
       " 63  math              math.ST                           26\n",
       " 64  math              math.RT                           26\n",
       " 65  math              math.HO                           26\n",
       " 66  math              math.CA                           26\n",
       " 67  math              math.NA                           26\n",
       " 68  physics           physics.space-ph                  36\n",
       " 69  physics           physics.ins-det                   36\n",
       " 70  physics           physics.soc-ph                    36\n",
       " 71  physics           physics.comp-ph                   36\n",
       " 72  physics           physics.flu-dyn                   36\n",
       " 73  physics           physics.geo-ph                    36\n",
       " 74  physics           physics.plasm-ph                  36\n",
       " 75  physics           physics.ed-ph                     36\n",
       " 76  physics           physics.chem-ph                   36\n",
       " 77  physics           physics.atom-ph                   36\n",
       " 78  physics           physics.data-an                   36\n",
       " 79  physics           physics.app-ph                    36\n",
       " 80  physics           physics.med-ph                    36\n",
       " 81  physics           physics.class-ph                  36\n",
       " 82  physics           physics.bio-ph                    36\n",
       " 83  physics           physics.acc-ph                    36\n",
       " 84  physics           physics.optics                    36\n",
       " 85  physics           physics.pop-ph                    36\n",
       " 86  physics           physics.atm-clus                  36\n",
       " 87  physics           physics.hist-ph                   36\n",
       " 88  physics           physics.ao-ph                     36\n",
       " 89  physics           physics.gen-ph                    36\n",
       " 90  q-bio             q-bio.OT                          80\n",
       " 91  q-bio             q-bio.TO                          80\n",
       " 92  q-bio             q-bio.SC                          80\n",
       " 93  q-bio             q-bio.MN                          80\n",
       " 94  q-bio             q-bio.GN                          80\n",
       " 95  q-bio             q-bio.NC                          80\n",
       " 96  q-bio             q-bio.CB                          80\n",
       " 97  q-bio             q-bio.PE                          80\n",
       " 98  q-bio             q-bio.BM                          80\n",
       " 99  q-bio             q-bio.QM                          80\n",
       "100  cond-mat          cond-mat.str-el                   89\n",
       "101  cond-mat          cond-mat.mtrl-sci                 89\n",
       "102  cond-mat          cond-mat.supr-con                 89\n",
       "103  cond-mat          cond-mat.dis-nn                   89\n",
       "104  cond-mat          cond-mat.soft                     89\n",
       "105  cond-mat          cond-mat.stat-mech                89\n",
       "106  cond-mat          cond-mat.mes-hall                 89\n",
       "107  cond-mat          cond-mat.other                    89\n",
       "108  cond-mat          cond-mat.quant-gas                89\n",
       "109  econ              econ.TH                           98\n",
       "110  q-fin             q-fin.PR                         100\n",
       "111  q-fin             q-fin.TR                         100\n",
       "112  q-fin             q-fin.PM                         100\n",
       "113  q-fin             q-fin.RM                         100\n",
       "114  q-fin             q-fin.CP                         100\n",
       "115  q-fin             q-fin.MF                         100\n",
       "116  q-fin             q-fin.GN                         100\n",
       "117  q-fin             q-fin.ST                         100\n",
       "118  astro-ph          astro-ph.EP                      114\n",
       "119  astro-ph          astro-ph.SR                      114\n",
       "120  astro-ph          astro-ph.CO                      114\n",
       "121  astro-ph          astro-ph                         114\n",
       "122  astro-ph          astro-ph.IM                      114\n",
       "123  astro-ph          astro-ph.GA                      114\n",
       "124  astro-ph          astro-ph.HE                      114\n",
       "125  stat              stat.CO                          160\n",
       "126  stat              stat.AP                          160\n",
       "127  nlin              nlin.PS                          160\n",
       "128  stat              stat.OT                          160\n",
       "129  nlin              nlin.CD                          160\n",
       "130  stat              stat.ME                          160\n",
       "131  stat              stat.ML                          160\n",
       "132  nlin              nlin.CG                          160\n",
       "133  nlin              nlin.AO                          160\n",
       "134  nlin              nlin.SI                          160\n",
       "135  eess              eess.AS                          200\n",
       "136  eess              eess.IV                          200\n",
       "137  eess              eess.SP                          200\n",
       "138  eess              eess.SY                          200\n",
       "139  econ              econ.GN                          309\n",
       "140  econ              econ.EM                          309\n",
       "141  dg-ga             dg-ga                            446\n",
       "142  gr-qc             gr-qc                            800\n",
       "143  hep-lat           hep-lat                          800\n",
       "144  hep-ex            hep-ex                           800\n",
       "145  nucl-th           nucl-th                          800\n",
       "146  math-ph           math-ph                          800\n",
       "147  hep-ph            hep-ph                           800\n",
       "148  hep-th            hep-th                           800\n",
       "149  quant-ph          quant-ph                         800\n",
       "150  nucl-ex           nucl-ex                          800"
      ]
     },
     "execution_count": 9,
     "metadata": {},
     "output_type": "execute_result"
    },
    {
     "data": {
      "text/html": [
       "<table>\n",
       "<thead>\n",
       "<tr><th>#                             </th><th>major_category  </th><th style=\"text-align: right;\">  paper_id_count</th></tr>\n",
       "</thead>\n",
       "<tbody>\n",
       "<tr><td><i style='opacity: 0.6'>0</i> </td><td>dg-ga           </td><td style=\"text-align: right;\">             446</td></tr>\n",
       "<tr><td><i style='opacity: 0.6'>1</i> </td><td>econ            </td><td style=\"text-align: right;\">             716</td></tr>\n",
       "<tr><td><i style='opacity: 0.6'>2</i> </td><td>math            </td><td style=\"text-align: right;\">             780</td></tr>\n",
       "<tr><td><i style='opacity: 0.6'>3</i> </td><td>physics         </td><td style=\"text-align: right;\">             792</td></tr>\n",
       "<tr><td><i style='opacity: 0.6'>4</i> </td><td>cs              </td><td style=\"text-align: right;\">             798</td></tr>\n",
       "<tr><td><i style='opacity: 0.6'>5</i> </td><td>astro-ph        </td><td style=\"text-align: right;\">             798</td></tr>\n",
       "<tr><td><i style='opacity: 0.6'>6</i> </td><td>hep-lat         </td><td style=\"text-align: right;\">             800</td></tr>\n",
       "<tr><td><i style='opacity: 0.6'>7</i> </td><td>q-bio           </td><td style=\"text-align: right;\">             800</td></tr>\n",
       "<tr><td><i style='opacity: 0.6'>8</i> </td><td>hep-ph          </td><td style=\"text-align: right;\">             800</td></tr>\n",
       "<tr><td><i style='opacity: 0.6'>9</i> </td><td>stat            </td><td style=\"text-align: right;\">             800</td></tr>\n",
       "<tr><td><i style='opacity: 0.6'>10</i></td><td>hep-ex          </td><td style=\"text-align: right;\">             800</td></tr>\n",
       "<tr><td><i style='opacity: 0.6'>11</i></td><td>math-ph         </td><td style=\"text-align: right;\">             800</td></tr>\n",
       "<tr><td><i style='opacity: 0.6'>12</i></td><td>quant-ph        </td><td style=\"text-align: right;\">             800</td></tr>\n",
       "<tr><td><i style='opacity: 0.6'>13</i></td><td>eess            </td><td style=\"text-align: right;\">             800</td></tr>\n",
       "<tr><td><i style='opacity: 0.6'>14</i></td><td>nlin            </td><td style=\"text-align: right;\">             800</td></tr>\n",
       "<tr><td><i style='opacity: 0.6'>15</i></td><td>q-fin           </td><td style=\"text-align: right;\">             800</td></tr>\n",
       "<tr><td><i style='opacity: 0.6'>16</i></td><td>nucl-th         </td><td style=\"text-align: right;\">             800</td></tr>\n",
       "<tr><td><i style='opacity: 0.6'>17</i></td><td>gr-qc           </td><td style=\"text-align: right;\">             800</td></tr>\n",
       "<tr><td><i style='opacity: 0.6'>18</i></td><td>hep-th          </td><td style=\"text-align: right;\">             800</td></tr>\n",
       "<tr><td><i style='opacity: 0.6'>19</i></td><td>nucl-ex         </td><td style=\"text-align: right;\">             800</td></tr>\n",
       "<tr><td><i style='opacity: 0.6'>20</i></td><td>cond-mat        </td><td style=\"text-align: right;\">             801</td></tr>\n",
       "</tbody>\n",
       "</table>"
      ],
      "text/plain": [
       "  #  major_category      paper_id_count\n",
       "  0  dg-ga                          446\n",
       "  1  econ                           716\n",
       "  2  math                           780\n",
       "  3  physics                        792\n",
       "  4  cs                             798\n",
       "  5  astro-ph                       798\n",
       "  6  hep-lat                        800\n",
       "  7  q-bio                          800\n",
       "  8  hep-ph                         800\n",
       "  9  stat                           800\n",
       " 10  hep-ex                         800\n",
       " 11  math-ph                        800\n",
       " 12  quant-ph                       800\n",
       " 13  eess                           800\n",
       " 14  nlin                           800\n",
       " 15  q-fin                          800\n",
       " 16  nucl-th                        800\n",
       " 17  gr-qc                          800\n",
       " 18  hep-th                         800\n",
       " 19  nucl-ex                        800\n",
       " 20  cond-mat                       801"
      ]
     },
     "execution_count": 9,
     "metadata": {},
     "output_type": "execute_result"
    }
   ],
   "source": [
    "vaex.settings.display.max_rows = 200\n",
    "cat_count_df = train_df.groupby(['major_category', 'prime_category'], agg = vaex.agg.count('paper_id')).sort(['paper_id_count'])\n",
    "cat_count_df\n",
    "train_df.groupby('major_category', agg = vaex.agg.count('paper_id')).sort('paper_id_count')\n",
    "vaex.settings.display.max_rows = 30"
   ]
  },
  {
   "cell_type": "code",
   "execution_count": 72,
   "id": "6e3c63a8-72cc-47af-abe0-5ea42c1078b3",
   "metadata": {},
   "outputs": [
    {
     "data": {
      "text/plain": [
       "(29, {'prime_category': 'math.AP', 'paper_id_count': 21792})"
      ]
     },
     "execution_count": 72,
     "metadata": {},
     "output_type": "execute_result"
    }
   ],
   "source": []
  },
  {
   "cell_type": "code",
   "execution_count": 50,
   "id": "a434c98c-829b-407c-8724-0a4a8a5d14ae",
   "metadata": {},
   "outputs": [
    {
     "ename": "ValueError",
     "evalue": "Cannot take a larger sample than population when 'replace=False'",
     "output_type": "error",
     "traceback": [
      "\u001b[0;31m---------------------------------------------------------------------------\u001b[0m",
      "\u001b[0;31mValueError\u001b[0m                                Traceback (most recent call last)",
      "\u001b[0;32m/tmp/ipykernel_45835/3289948148.py\u001b[0m in \u001b[0;36m<module>\u001b[0;34m\u001b[0m\n\u001b[0;32m----> 1\u001b[0;31m \u001b[0mfoo_df\u001b[0m \u001b[0;34m=\u001b[0m \u001b[0mpre2020_df\u001b[0m\u001b[0;34m[\u001b[0m\u001b[0mpre2020_df\u001b[0m\u001b[0;34m[\u001b[0m\u001b[0;34m'major_category'\u001b[0m\u001b[0;34m]\u001b[0m\u001b[0;34m==\u001b[0m\u001b[0;34m'dg-ga'\u001b[0m\u001b[0;34m]\u001b[0m\u001b[0;34m.\u001b[0m\u001b[0msample\u001b[0m\u001b[0;34m(\u001b[0m\u001b[0mn\u001b[0m\u001b[0;34m=\u001b[0m\u001b[0;36m1000\u001b[0m\u001b[0;34m)\u001b[0m\u001b[0;34m\u001b[0m\u001b[0;34m\u001b[0m\u001b[0m\n\u001b[0m",
      "\u001b[0;32m~/miniconda3/envs/cforge/lib/python3.9/site-packages/vaex/dataframe.py\u001b[0m in \u001b[0;36msample\u001b[0;34m(self, n, frac, replace, weights, random_state)\u001b[0m\n\u001b[1;32m   4420\u001b[0m             \u001b[0mweights_values\u001b[0m \u001b[0;34m=\u001b[0m \u001b[0mself\u001b[0m\u001b[0;34m.\u001b[0m\u001b[0mevaluate\u001b[0m\u001b[0;34m(\u001b[0m\u001b[0mweights\u001b[0m\u001b[0;34m)\u001b[0m\u001b[0;34m\u001b[0m\u001b[0;34m\u001b[0m\u001b[0m\n\u001b[1;32m   4421\u001b[0m             \u001b[0mweights_values\u001b[0m \u001b[0;34m=\u001b[0m \u001b[0mweights_values\u001b[0m \u001b[0;34m/\u001b[0m \u001b[0mself\u001b[0m\u001b[0;34m.\u001b[0m\u001b[0msum\u001b[0m\u001b[0;34m(\u001b[0m\u001b[0mweights\u001b[0m\u001b[0;34m)\u001b[0m\u001b[0;34m\u001b[0m\u001b[0;34m\u001b[0m\u001b[0m\n\u001b[0;32m-> 4422\u001b[0;31m         \u001b[0mindices\u001b[0m \u001b[0;34m=\u001b[0m \u001b[0mrandom_state\u001b[0m\u001b[0;34m.\u001b[0m\u001b[0mchoice\u001b[0m\u001b[0;34m(\u001b[0m\u001b[0mlen\u001b[0m\u001b[0;34m(\u001b[0m\u001b[0mself\u001b[0m\u001b[0;34m)\u001b[0m\u001b[0;34m,\u001b[0m \u001b[0mn\u001b[0m\u001b[0;34m,\u001b[0m \u001b[0mreplace\u001b[0m\u001b[0;34m=\u001b[0m\u001b[0mreplace\u001b[0m\u001b[0;34m,\u001b[0m \u001b[0mp\u001b[0m\u001b[0;34m=\u001b[0m\u001b[0mweights_values\u001b[0m\u001b[0;34m)\u001b[0m\u001b[0;34m\u001b[0m\u001b[0;34m\u001b[0m\u001b[0m\n\u001b[0m\u001b[1;32m   4423\u001b[0m         \u001b[0;32mreturn\u001b[0m \u001b[0mself\u001b[0m\u001b[0;34m.\u001b[0m\u001b[0mtake\u001b[0m\u001b[0;34m(\u001b[0m\u001b[0mindices\u001b[0m\u001b[0;34m)\u001b[0m\u001b[0;34m\u001b[0m\u001b[0;34m\u001b[0m\u001b[0m\n\u001b[1;32m   4424\u001b[0m \u001b[0;34m\u001b[0m\u001b[0m\n",
      "\u001b[0;32mmtrand.pyx\u001b[0m in \u001b[0;36mnumpy.random.mtrand.RandomState.choice\u001b[0;34m()\u001b[0m\n",
      "\u001b[0;31mValueError\u001b[0m: Cannot take a larger sample than population when 'replace=False'"
     ]
    }
   ],
   "source": [
    "foo_df = pre2020_df[pre2020_df['major_category']=='dg-ga'].sample(n=1000)\n"
   ]
  },
  {
   "cell_type": "code",
   "execution_count": null,
   "id": "fada79d3-3ccb-4af8-bb71-c66d4688f645",
   "metadata": {},
   "outputs": [],
   "source": []
  },
  {
   "cell_type": "code",
   "execution_count": null,
   "id": "440fe0f1-19fe-40b3-a838-5b5a8189bb83",
   "metadata": {},
   "outputs": [],
   "source": []
  },
  {
   "cell_type": "code",
   "execution_count": null,
   "id": "648d1e7b-97de-48e2-acc3-a947f47a4e16",
   "metadata": {},
   "outputs": [],
   "source": []
  },
  {
   "cell_type": "code",
   "execution_count": null,
   "id": "8a3f2f45-53fe-4d3d-aba1-b9be6f0f8506",
   "metadata": {},
   "outputs": [],
   "source": []
  },
  {
   "cell_type": "code",
   "execution_count": 11,
   "id": "3d6732ce-2fe9-4af4-a4f8-d8f7aeacd259",
   "metadata": {},
   "outputs": [
    {
     "data": {
      "text/html": [
       "<table>\n",
       "<thead>\n",
       "<tr><th>#                                  </th><th>paper_id  </th><th>version  </th><th>yymm  </th><th>created            </th><th>title                                              </th><th>abstract                                            </th></tr>\n",
       "</thead>\n",
       "<tbody>\n",
       "<tr><td><i style='opacity: 0.6'>0</i>      </td><td>1501.00223</td><td>1        </td><td>1501  </td><td>2015-01-01T00:01:03</td><td>$\\mathbb{K}$-uniruled sets in affine geometry      </td><td>&#x27;The main goal of this thesis is to study $\\\\math...</td></tr>\n",
       "<tr><td><i style='opacity: 0.6'>1</i>      </td><td>1501.00227</td><td>1        </td><td>1501  </td><td>2015-01-01T00:20:13</td><td>&#x27;Global solvability of 3D inhomogeneous Navier-S...</td><td>&#x27;In this paper, we consider the three-dimensiona... </td></tr>\n",
       "<tr><td><i style='opacity: 0.6'>2</i>      </td><td>1412.8505 </td><td>2        </td><td>1412  </td><td>2015-01-01T00:38:26</td><td>Unphysical diagonal modular invariants             </td><td>&#x27;A modular invariant for a chiral conformal fiel... </td></tr>\n",
       "<tr><td><i style='opacity: 0.6'>3</i>      </td><td>1307.5933 </td><td>2        </td><td>1307  </td><td>2015-01-01T01:00:44</td><td>Brick Walls for Black Holes in AdS/CFT             </td><td>&quot;We study the &#x27;t Hooft&#x27;s brick wall model for bl... </td></tr>\n",
       "<tr><td><i style='opacity: 0.6'>4</i>      </td><td>1501.00229</td><td>1        </td><td>1501  </td><td>2015-01-01T01:05:49</td><td>&#x27;The construction and deformation of Hom-Novikov...</td><td>&#x27;We study a twisted generalization of Novikov su... </td></tr>\n",
       "<tr><td>...                                </td><td>...       </td><td>...      </td><td>...   </td><td>...                </td><td>...                                                </td><td>...                                                 </td></tr>\n",
       "<tr><td><i style='opacity: 0.6'>101,079</i></td><td>1611.03741</td><td>1        </td><td>1611  </td><td>2015-10-06T20:15:12</td><td>&#x27;Meshfree elastoplastic solid for nonsmooth mult...</td><td>&#x27;A method for simulation of elastoplastic solids... </td></tr>\n",
       "<tr><td><i style='opacity: 0.6'>101,080</i></td><td>1611.05688</td><td>1        </td><td>1611  </td><td>2015-12-16T16:25:27</td><td>&#x27;The Tragedy of Your Upstairs Neighbors: Is the ...</td><td>&#x27;A commonly expressed concern about the rise of ... </td></tr>\n",
       "<tr><td><i style='opacity: 0.6'>101,081</i></td><td>1702.04241</td><td>1        </td><td>1702  </td><td>2015-11-19T11:38:42</td><td>&#x27;Detection of Slang Words in e-Data using semi-S...</td><td>&#x27;The proposed algorithmic approach deals with fi... </td></tr>\n",
       "<tr><td><i style='opacity: 0.6'>101,082</i></td><td>1702.04966</td><td>1        </td><td>1702  </td><td>2015-12-27T20:51:34</td><td>&#x27;Integration of QoS aspects in the Cloud Computi...</td><td>&#x27;Cloud Computing is a business model revolution ... </td></tr>\n",
       "<tr><td><i style='opacity: 0.6'>101,083</i></td><td>1709.10372</td><td>1        </td><td>1709  </td><td>2015-12-27T20:50:19</td><td>&#x27;A New Approach for a Better Load Balancing and ...</td><td>&#x27;Cloud computing is a new paradigm where data an... </td></tr>\n",
       "</tbody>\n",
       "</table>"
      ],
      "text/plain": [
       "#        paper_id    version    yymm    created              title                                                abstract\n",
       "0        1501.00223  1          1501    2015-01-01T00:01:03  $\\mathbb{K}$-uniruled sets in affine geometry        'The main goal of this thesis is to study $\\\\math...\n",
       "1        1501.00227  1          1501    2015-01-01T00:20:13  'Global solvability of 3D inhomogeneous Navier-S...  'In this paper, we consider the three-dimensiona...\n",
       "2        1412.8505   2          1412    2015-01-01T00:38:26  Unphysical diagonal modular invariants               'A modular invariant for a chiral conformal fiel...\n",
       "3        1307.5933   2          1307    2015-01-01T01:00:44  Brick Walls for Black Holes in AdS/CFT               \"We study the 't Hooft's brick wall model for bl...\n",
       "4        1501.00229  1          1501    2015-01-01T01:05:49  'The construction and deformation of Hom-Novikov...  'We study a twisted generalization of Novikov su...\n",
       "...      ...         ...        ...     ...                  ...                                                  ...\n",
       "101,079  1611.03741  1          1611    2015-10-06T20:15:12  'Meshfree elastoplastic solid for nonsmooth mult...  'A method for simulation of elastoplastic solids...\n",
       "101,080  1611.05688  1          1611    2015-12-16T16:25:27  'The Tragedy of Your Upstairs Neighbors: Is the ...  'A commonly expressed concern about the rise of ...\n",
       "101,081  1702.04241  1          1702    2015-11-19T11:38:42  'Detection of Slang Words in e-Data using semi-S...  'The proposed algorithmic approach deals with fi...\n",
       "101,082  1702.04966  1          1702    2015-12-27T20:51:34  'Integration of QoS aspects in the Cloud Computi...  'Cloud Computing is a business model revolution ...\n",
       "101,083  1709.10372  1          1709    2015-12-27T20:50:19  'A New Approach for a Better Load Balancing and ...  'Cloud computing is a new paradigm where data an..."
      ]
     },
     "execution_count": 11,
     "metadata": {},
     "output_type": "execute_result"
    }
   ],
   "source": [
    "abs_df = vaex.from_json(\n",
    "    './data/fulltext/2015.json',\n",
    "    orient='records', \n",
    "    copy_index=False,\n",
    "    lines=True,\n",
    ")\n",
    "abs_df"
   ]
  },
  {
   "cell_type": "code",
   "execution_count": 113,
   "id": "49608c33-88be-450e-b9ae-d7533bb6975c",
   "metadata": {},
   "outputs": [
    {
     "data": {
      "text/plain": [
       "\u001b[0;31mSignature:\u001b[0m\n",
       "\u001b[0mabs_df\u001b[0m\u001b[0;34m.\u001b[0m\u001b[0mml\u001b[0m\u001b[0;34m.\u001b[0m\u001b[0mtrain_test_split\u001b[0m\u001b[0;34m(\u001b[0m\u001b[0;34m\u001b[0m\n",
       "\u001b[0;34m\u001b[0m    \u001b[0mtest_size\u001b[0m\u001b[0;34m=\u001b[0m\u001b[0;36m0.2\u001b[0m\u001b[0;34m,\u001b[0m\u001b[0;34m\u001b[0m\n",
       "\u001b[0;34m\u001b[0m    \u001b[0mstrings\u001b[0m\u001b[0;34m=\u001b[0m\u001b[0;32mTrue\u001b[0m\u001b[0;34m,\u001b[0m\u001b[0;34m\u001b[0m\n",
       "\u001b[0;34m\u001b[0m    \u001b[0mvirtual\u001b[0m\u001b[0;34m=\u001b[0m\u001b[0;32mTrue\u001b[0m\u001b[0;34m,\u001b[0m\u001b[0;34m\u001b[0m\n",
       "\u001b[0;34m\u001b[0m    \u001b[0mverbose\u001b[0m\u001b[0;34m=\u001b[0m\u001b[0;32mTrue\u001b[0m\u001b[0;34m,\u001b[0m\u001b[0;34m\u001b[0m\n",
       "\u001b[0;34m\u001b[0m\u001b[0;34m)\u001b[0m\u001b[0;34m\u001b[0m\u001b[0;34m\u001b[0m\u001b[0m\n",
       "\u001b[0;31mDocstring:\u001b[0m\n",
       "Will split the DataFrame in train and test part, assuming it is shuffled.\n",
       "\n",
       ":param test_size: The fractional size of the test set.\n",
       ":param strings: If True, the output DataFrames will also contain string columns, if any.\n",
       ":param virtual: If True, the output DataFrames will also contain virtual contain, if any.\n",
       ":param verbose: If True, print warnings to screen.\n",
       "\u001b[0;31mFile:\u001b[0m      ~/miniconda3/envs/cforge/lib/python3.9/site-packages/vaex/ml/__init__.py\n",
       "\u001b[0;31mType:\u001b[0m      method\n"
      ]
     },
     "metadata": {},
     "output_type": "display_data"
    }
   ],
   "source": [
    "abs_df.ml.train_test_split?"
   ]
  },
  {
   "cell_type": "code",
   "execution_count": null,
   "id": "6c5974b0-5dd7-49f3-af95-1d4fe4f2d462",
   "metadata": {},
   "outputs": [],
   "source": []
  },
  {
   "cell_type": "code",
   "execution_count": 9,
   "id": "2ad4d6de-cebc-45e3-8b14-c7c7ee44d0aa",
   "metadata": {},
   "outputs": [
    {
     "data": {
      "text/html": [
       "<div>\n",
       "<style scoped>\n",
       "    .dataframe tbody tr th:only-of-type {\n",
       "        vertical-align: middle;\n",
       "    }\n",
       "\n",
       "    .dataframe tbody tr th {\n",
       "        vertical-align: top;\n",
       "    }\n",
       "\n",
       "    .dataframe thead th {\n",
       "        text-align: right;\n",
       "    }\n",
       "</style>\n",
       "<table border=\"1\" class=\"dataframe\">\n",
       "  <thead>\n",
       "    <tr style=\"text-align: right;\">\n",
       "      <th></th>\n",
       "      <th>paper_id</th>\n",
       "      <th>version</th>\n",
       "      <th>yymm</th>\n",
       "      <th>created</th>\n",
       "      <th>title</th>\n",
       "      <th>abstract</th>\n",
       "    </tr>\n",
       "  </thead>\n",
       "  <tbody>\n",
       "    <tr>\n",
       "      <th>0</th>\n",
       "      <td>1501.00223</td>\n",
       "      <td>1</td>\n",
       "      <td>1501</td>\n",
       "      <td>2015-01-01T00:01:03</td>\n",
       "      <td>$\\mathbb{K}$-uniruled sets in affine geometry</td>\n",
       "      <td>The main goal of this thesis is to study $\\mat...</td>\n",
       "    </tr>\n",
       "    <tr>\n",
       "      <th>1</th>\n",
       "      <td>1501.00227</td>\n",
       "      <td>1</td>\n",
       "      <td>1501</td>\n",
       "      <td>2015-01-01T00:20:13</td>\n",
       "      <td>Global solvability of 3D inhomogeneous Navier-...</td>\n",
       "      <td>In this paper, we consider the three-dimension...</td>\n",
       "    </tr>\n",
       "    <tr>\n",
       "      <th>2</th>\n",
       "      <td>1412.8505</td>\n",
       "      <td>2</td>\n",
       "      <td>1412</td>\n",
       "      <td>2015-01-01T00:38:26</td>\n",
       "      <td>Unphysical diagonal modular invariants</td>\n",
       "      <td>A modular invariant for a chiral conformal fie...</td>\n",
       "    </tr>\n",
       "    <tr>\n",
       "      <th>3</th>\n",
       "      <td>1307.5933</td>\n",
       "      <td>2</td>\n",
       "      <td>1307</td>\n",
       "      <td>2015-01-01T01:00:44</td>\n",
       "      <td>Brick Walls for Black Holes in AdS/CFT</td>\n",
       "      <td>We study the 't Hooft's brick wall model for b...</td>\n",
       "    </tr>\n",
       "    <tr>\n",
       "      <th>4</th>\n",
       "      <td>1501.00229</td>\n",
       "      <td>1</td>\n",
       "      <td>1501</td>\n",
       "      <td>2015-01-01T01:05:49</td>\n",
       "      <td>The construction and deformation of Hom-Noviko...</td>\n",
       "      <td>We study a twisted generalization of Novikov s...</td>\n",
       "    </tr>\n",
       "    <tr>\n",
       "      <th>...</th>\n",
       "      <td>...</td>\n",
       "      <td>...</td>\n",
       "      <td>...</td>\n",
       "      <td>...</td>\n",
       "      <td>...</td>\n",
       "      <td>...</td>\n",
       "    </tr>\n",
       "    <tr>\n",
       "      <th>101079</th>\n",
       "      <td>1611.03741</td>\n",
       "      <td>1</td>\n",
       "      <td>1611</td>\n",
       "      <td>2015-10-06T20:15:12</td>\n",
       "      <td>Meshfree elastoplastic solid for nonsmooth mul...</td>\n",
       "      <td>A method for simulation of elastoplastic solid...</td>\n",
       "    </tr>\n",
       "    <tr>\n",
       "      <th>101080</th>\n",
       "      <td>1611.05688</td>\n",
       "      <td>1</td>\n",
       "      <td>1611</td>\n",
       "      <td>2015-12-16T16:25:27</td>\n",
       "      <td>The Tragedy of Your Upstairs Neighbors: Is the...</td>\n",
       "      <td>A commonly expressed concern about the rise of...</td>\n",
       "    </tr>\n",
       "    <tr>\n",
       "      <th>101081</th>\n",
       "      <td>1702.04241</td>\n",
       "      <td>1</td>\n",
       "      <td>1702</td>\n",
       "      <td>2015-11-19T11:38:42</td>\n",
       "      <td>Detection of Slang Words in e-Data using semi-...</td>\n",
       "      <td>The proposed algorithmic approach deals with f...</td>\n",
       "    </tr>\n",
       "    <tr>\n",
       "      <th>101082</th>\n",
       "      <td>1702.04966</td>\n",
       "      <td>1</td>\n",
       "      <td>1702</td>\n",
       "      <td>2015-12-27T20:51:34</td>\n",
       "      <td>Integration of QoS aspects in the Cloud Comput...</td>\n",
       "      <td>Cloud Computing is a business model revolution...</td>\n",
       "    </tr>\n",
       "    <tr>\n",
       "      <th>101083</th>\n",
       "      <td>1709.10372</td>\n",
       "      <td>1</td>\n",
       "      <td>1709</td>\n",
       "      <td>2015-12-27T20:50:19</td>\n",
       "      <td>A New Approach for a Better Load Balancing and...</td>\n",
       "      <td>Cloud computing is a new paradigm where data a...</td>\n",
       "    </tr>\n",
       "  </tbody>\n",
       "</table>\n",
       "<p>101084 rows × 6 columns</p>\n",
       "</div>"
      ],
      "text/plain": [
       "          paper_id  version  yymm              created  \\\n",
       "0       1501.00223        1  1501  2015-01-01T00:01:03   \n",
       "1       1501.00227        1  1501  2015-01-01T00:20:13   \n",
       "2        1412.8505        2  1412  2015-01-01T00:38:26   \n",
       "3        1307.5933        2  1307  2015-01-01T01:00:44   \n",
       "4       1501.00229        1  1501  2015-01-01T01:05:49   \n",
       "...            ...      ...   ...                  ...   \n",
       "101079  1611.03741        1  1611  2015-10-06T20:15:12   \n",
       "101080  1611.05688        1  1611  2015-12-16T16:25:27   \n",
       "101081  1702.04241        1  1702  2015-11-19T11:38:42   \n",
       "101082  1702.04966        1  1702  2015-12-27T20:51:34   \n",
       "101083  1709.10372        1  1709  2015-12-27T20:50:19   \n",
       "\n",
       "                                                    title  \\\n",
       "0           $\\mathbb{K}$-uniruled sets in affine geometry   \n",
       "1       Global solvability of 3D inhomogeneous Navier-...   \n",
       "2                  Unphysical diagonal modular invariants   \n",
       "3                  Brick Walls for Black Holes in AdS/CFT   \n",
       "4       The construction and deformation of Hom-Noviko...   \n",
       "...                                                   ...   \n",
       "101079  Meshfree elastoplastic solid for nonsmooth mul...   \n",
       "101080  The Tragedy of Your Upstairs Neighbors: Is the...   \n",
       "101081  Detection of Slang Words in e-Data using semi-...   \n",
       "101082  Integration of QoS aspects in the Cloud Comput...   \n",
       "101083  A New Approach for a Better Load Balancing and...   \n",
       "\n",
       "                                                 abstract  \n",
       "0       The main goal of this thesis is to study $\\mat...  \n",
       "1       In this paper, we consider the three-dimension...  \n",
       "2       A modular invariant for a chiral conformal fie...  \n",
       "3       We study the 't Hooft's brick wall model for b...  \n",
       "4       We study a twisted generalization of Novikov s...  \n",
       "...                                                   ...  \n",
       "101079  A method for simulation of elastoplastic solid...  \n",
       "101080  A commonly expressed concern about the rise of...  \n",
       "101081  The proposed algorithmic approach deals with f...  \n",
       "101082  Cloud Computing is a business model revolution...  \n",
       "101083  Cloud computing is a new paradigm where data a...  \n",
       "\n",
       "[101084 rows x 6 columns]"
      ]
     },
     "execution_count": 9,
     "metadata": {},
     "output_type": "execute_result"
    }
   ],
   "source": [
    "pd.read_json('./data/fulltext/2015.json', lines=True)"
   ]
  },
  {
   "cell_type": "code",
   "execution_count": 20,
   "id": "d0bc352b-c212-44d5-954c-2a9c8798aeda",
   "metadata": {},
   "outputs": [
    {
     "name": "stdout",
     "output_type": "stream",
     "text": [
      "10 20\n"
     ]
    }
   ],
   "source": [
    "def foo(a=1, b=2):\n",
    "    print(a, b)\n",
    "\n",
    "args = types.SimpleNamespace(a=10, b=20)\n",
    "foo(**vars(args))"
   ]
  },
  {
   "cell_type": "code",
   "execution_count": 18,
   "id": "e77399da-70e9-4829-bcc1-4ceef34ace1c",
   "metadata": {},
   "outputs": [
    {
     "data": {
      "text/plain": [
       "['__class__',\n",
       " '__delattr__',\n",
       " '__dict__',\n",
       " '__dir__',\n",
       " '__doc__',\n",
       " '__eq__',\n",
       " '__format__',\n",
       " '__ge__',\n",
       " '__getattribute__',\n",
       " '__gt__',\n",
       " '__hash__',\n",
       " '__init__',\n",
       " '__init_subclass__',\n",
       " '__le__',\n",
       " '__lt__',\n",
       " '__ne__',\n",
       " '__new__',\n",
       " '__reduce__',\n",
       " '__reduce_ex__',\n",
       " '__repr__',\n",
       " '__setattr__',\n",
       " '__sizeof__',\n",
       " '__str__',\n",
       " '__subclasshook__',\n",
       " 'a',\n",
       " 'b']"
      ]
     },
     "execution_count": 18,
     "metadata": {},
     "output_type": "execute_result"
    }
   ],
   "source": [
    "dir(args)"
   ]
  },
  {
   "cell_type": "code",
   "execution_count": 116,
   "id": "03957f48-1564-4993-b6d2-b36380ab6203",
   "metadata": {},
   "outputs": [
    {
     "data": {
      "text/plain": [
       "paper_id                  string\n",
       "version                    int64\n",
       "yymm                       int64\n",
       "created           datetime64[ns]\n",
       "title                     string\n",
       "abs_categories            string\n",
       "abstract                  string\n",
       "prime_category            string\n",
       "major_category            string\n",
       "dtype: object"
      ]
     },
     "execution_count": 116,
     "metadata": {},
     "output_type": "execute_result"
    }
   ],
   "source": [
    "all_df.dtypes"
   ]
  },
  {
   "cell_type": "code",
   "execution_count": 117,
   "id": "b5f4fec2-0908-4670-b1c8-11f387f63692",
   "metadata": {},
   "outputs": [
    {
     "data": {
      "text/plain": [
       "Timestamp('2020-01-01 00:00:00')"
      ]
     },
     "execution_count": 117,
     "metadata": {},
     "output_type": "execute_result"
    }
   ],
   "source": []
  },
  {
   "cell_type": "code",
   "execution_count": null,
   "id": "0b33829b-1218-430c-9e42-cddae8233768",
   "metadata": {},
   "outputs": [],
   "source": []
  }
 ],
 "metadata": {
  "kernelspec": {
   "display_name": "Python 3 (ipykernel)",
   "language": "python",
   "name": "python3"
  },
  "language_info": {
   "codemirror_mode": {
    "name": "ipython",
    "version": 3
   },
   "file_extension": ".py",
   "mimetype": "text/x-python",
   "name": "python",
   "nbconvert_exporter": "python",
   "pygments_lexer": "ipython3",
   "version": "3.10.9"
  }
 },
 "nbformat": 4,
 "nbformat_minor": 5
}
