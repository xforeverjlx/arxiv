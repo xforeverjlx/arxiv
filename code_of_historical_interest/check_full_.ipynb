{
 "cells": [
  {
   "cell_type": "code",
   "execution_count": 1,
   "id": "f996c971-082d-4292-bbcd-8a07e7505de1",
   "metadata": {},
   "outputs": [],
   "source": [
    "#import transformers\n",
    "#import datasets\n",
    "\n",
    "import gzip\n",
    "import json\n",
    "\n",
    "from pathlib import Path\n",
    "import os\n",
    "import math\n",
    "\n",
    "import itertools as itr\n",
    "\n",
    "\n",
    "\n",
    "from tqdm.auto import tqdm\n",
    "\n",
    "import numpy as np\n",
    "import pandas as pd\n",
    "import sklearn.preprocessing as skl_prep\n",
    "from sklearn.metrics import accuracy_score, precision_recall_fscore_support"
   ]
  },
  {
   "cell_type": "code",
   "execution_count": 2,
   "id": "4a25fc00-1852-499d-98ab-3c80cd3b2a85",
   "metadata": {},
   "outputs": [],
   "source": [
    "from IPython.core.interactiveshell import InteractiveShell\n",
    "InteractiveShell.ast_node_interactivity = \"all\""
   ]
  },
  {
   "cell_type": "code",
   "execution_count": null,
   "id": "5e51fdb2-7aed-4ed1-bb7b-03423ad7fb1a",
   "metadata": {},
   "outputs": [],
   "source": []
  },
  {
   "cell_type": "code",
   "execution_count": null,
   "id": "913222ca-9bb6-4635-ab8e-ddc06484c660",
   "metadata": {},
   "outputs": [],
   "source": []
  },
  {
   "cell_type": "code",
   "execution_count": 9,
   "id": "c7161a0a-6f42-4dfa-93ca-b8ff38ced8d7",
   "metadata": {},
   "outputs": [],
   "source": [
    "def count_encode_errors_in_file(infile_name, size_hint=1):\n",
    "    res = dict(\n",
    "        cid_count = 0,\n",
    "        empty_count = 0,\n",
    "        cid_ids = [],\n",
    "        empty_ids = []\n",
    "    )\n",
    "    \n",
    "    with gzip.open(infile_name) as infile, \\\n",
    "         tqdm(total=size_hint, desc=\"CID\") as cid_bar, \\\n",
    "         tqdm(total=size_hint, desc=\"Empty\") as empty_bar:\n",
    "\n",
    "        for linecount, line in tqdm(enumerate(infile), total=size_hint):\n",
    "            res_item = {}\n",
    "            #if linecount > 100: break\n",
    "            try:\n",
    "                parsed_item = json.loads(line)\n",
    "                #res.append(parsed_line)\n",
    "                #print(f\"\\t{line[:10]}...{line[-10:]}\")\n",
    "            except json.JSONDecodeError as e:\n",
    "                #print(f\"!---{line}\")\n",
    "                continue\n",
    "\n",
    "            # Process the paper.\n",
    "            #res_item['label_major'] = parsed_item['major_category']\n",
    "            #res_item['label_minor'] = parsed_item['prime_category']\n",
    "            \n",
    "            # default value for text\n",
    "            #text = parsed_item['title'].strip() + \" \" + parsed_item['abstract'].strip()\n",
    "            \n",
    "            if 'fulltext' in parsed_item:\n",
    "                fulltext = parsed_item['fulltext'].strip()\n",
    "                if fulltext.startswith('(cid'):\n",
    "                    res['cid_count'] += 1\n",
    "                    cid_bar.update(res['cid_count'])\n",
    "                    res['cid_ids'].append(parsed_item)\n",
    "                elif len(fulltext) < 10:\n",
    "                    res['empty_count'] += 1\n",
    "                    empty_bar.update(res['empty_count'])\n",
    "                    res['empty_ids'].append(parsed_item)\n",
    "            else:\n",
    "                res['empty_count'] += 1\n",
    "    return res    "
   ]
  },
  {
   "cell_type": "code",
   "execution_count": 7,
   "id": "0a2583d0-713f-4810-81c5-ae88c6607624",
   "metadata": {},
   "outputs": [
    {
     "data": {
      "text/plain": [
       "[{'infile_name': './data/fulltext/train_major_cats_full.json.gz',\n",
       "  'size_hint': 31753},\n",
       " {'infile_name': './data/fulltext/train_minor_cats_full.json.gz',\n",
       "  'size_hint': 111860},\n",
       " {'infile_name': './data/fulltext/test_major_cats_full.json.gz',\n",
       "  'size_hint': 8000},\n",
       " {'infile_name': './data/fulltext/test_minor_cats_full.json.gz',\n",
       "  'size_hint': 27967}]"
      ]
     },
     "execution_count": 7,
     "metadata": {},
     "output_type": "execute_result"
    }
   ],
   "source": [
    "size_dict = {\n",
    "    'train':{\n",
    "        'major': 31753,\n",
    "        'minor': 111860,\n",
    "    },\n",
    "    'test':{\n",
    "        'major': 8000,\n",
    "        'minor': 27967,\n",
    "    },\n",
    "}\n",
    "\n",
    "file_pairs = []\n",
    "\n",
    "for ds_type, m_dict in size_dict.items():\n",
    "    for m_type, size in m_dict.items():\n",
    "            res_pair = {\n",
    "                \"infile_name\": f\"./data/fulltext/{ds_type}_{m_type}_cats_full.json.gz\",\n",
    "                #\"outfile_name\": f\"./data/full_text/{ds_type}_{m_type}_cats_full_split_token.json.gz\",\n",
    "                \"size_hint\": size,\n",
    "            }\n",
    "            file_pairs.append(res_pair)\n",
    "            \n",
    "file_pairs "
   ]
  },
  {
   "cell_type": "code",
   "execution_count": null,
   "id": "f71295e8-2ed3-4595-b185-3c98e7cfcd26",
   "metadata": {},
   "outputs": [],
   "source": []
  },
  {
   "cell_type": "code",
   "execution_count": 30,
   "id": "f98e1502-fccd-4d16-8719-5a33045d1368",
   "metadata": {},
   "outputs": [
    {
     "name": "stdout",
     "output_type": "stream",
     "text": [
      "./data/fulltext/train_major_cats_full.json.gz\n"
     ]
    },
    {
     "data": {
      "application/vnd.jupyter.widget-view+json": {
       "model_id": "8b36d3351c164e4f8b4ecbaa9b4dbeee",
       "version_major": 2,
       "version_minor": 0
      },
      "text/plain": [
       "CID:   0%|          | 0/31753 [00:00<?, ?it/s]"
      ]
     },
     "metadata": {},
     "output_type": "display_data"
    },
    {
     "data": {
      "application/vnd.jupyter.widget-view+json": {
       "model_id": "59bd743e65cb4643b7c28bcc8941bb0e",
       "version_major": 2,
       "version_minor": 0
      },
      "text/plain": [
       "Empty:   0%|          | 0/31753 [00:00<?, ?it/s]"
      ]
     },
     "metadata": {},
     "output_type": "display_data"
    },
    {
     "data": {
      "application/vnd.jupyter.widget-view+json": {
       "model_id": "ef5aefbe52264155a7db766960f74f8c",
       "version_major": 2,
       "version_minor": 0
      },
      "text/plain": [
       "  0%|          | 0/31753 [00:00<?, ?it/s]"
      ]
     },
     "metadata": {},
     "output_type": "display_data"
    },
    {
     "name": "stdout",
     "output_type": "stream",
     "text": [
      "./data/fulltext/train_minor_cats_full.json.gz\n"
     ]
    },
    {
     "data": {
      "application/vnd.jupyter.widget-view+json": {
       "model_id": "29df0ecd1cc544b48d2afb9beb2b4ac9",
       "version_major": 2,
       "version_minor": 0
      },
      "text/plain": [
       "CID:   0%|          | 0/111860 [00:00<?, ?it/s]"
      ]
     },
     "metadata": {},
     "output_type": "display_data"
    },
    {
     "data": {
      "application/vnd.jupyter.widget-view+json": {
       "model_id": "6d025868d455403d90ade2cee74b29d9",
       "version_major": 2,
       "version_minor": 0
      },
      "text/plain": [
       "Empty:   0%|          | 0/111860 [00:00<?, ?it/s]"
      ]
     },
     "metadata": {},
     "output_type": "display_data"
    },
    {
     "data": {
      "application/vnd.jupyter.widget-view+json": {
       "model_id": "c011bce848cc4e5892ba9e1c20a46694",
       "version_major": 2,
       "version_minor": 0
      },
      "text/plain": [
       "  0%|          | 0/111860 [00:00<?, ?it/s]"
      ]
     },
     "metadata": {},
     "output_type": "display_data"
    },
    {
     "name": "stdout",
     "output_type": "stream",
     "text": [
      "./data/fulltext/test_major_cats_full.json.gz\n"
     ]
    },
    {
     "data": {
      "application/vnd.jupyter.widget-view+json": {
       "model_id": "f5514909ea2a439c859d22551797975c",
       "version_major": 2,
       "version_minor": 0
      },
      "text/plain": [
       "CID:   0%|          | 0/8000 [00:00<?, ?it/s]"
      ]
     },
     "metadata": {},
     "output_type": "display_data"
    },
    {
     "data": {
      "application/vnd.jupyter.widget-view+json": {
       "model_id": "081e281b1fc14390abc51ac77316c353",
       "version_major": 2,
       "version_minor": 0
      },
      "text/plain": [
       "Empty:   0%|          | 0/8000 [00:00<?, ?it/s]"
      ]
     },
     "metadata": {},
     "output_type": "display_data"
    },
    {
     "data": {
      "application/vnd.jupyter.widget-view+json": {
       "model_id": "7f25e5c89f05467f9ee2c6227ceee506",
       "version_major": 2,
       "version_minor": 0
      },
      "text/plain": [
       "  0%|          | 0/8000 [00:00<?, ?it/s]"
      ]
     },
     "metadata": {},
     "output_type": "display_data"
    },
    {
     "name": "stdout",
     "output_type": "stream",
     "text": [
      "./data/fulltext/test_minor_cats_full.json.gz\n"
     ]
    },
    {
     "data": {
      "application/vnd.jupyter.widget-view+json": {
       "model_id": "b8feba9e1a584275847706795930ade3",
       "version_major": 2,
       "version_minor": 0
      },
      "text/plain": [
       "CID:   0%|          | 0/27967 [00:00<?, ?it/s]"
      ]
     },
     "metadata": {},
     "output_type": "display_data"
    },
    {
     "data": {
      "application/vnd.jupyter.widget-view+json": {
       "model_id": "b1a4008415404693864dd16adbe7b680",
       "version_major": 2,
       "version_minor": 0
      },
      "text/plain": [
       "Empty:   0%|          | 0/27967 [00:00<?, ?it/s]"
      ]
     },
     "metadata": {},
     "output_type": "display_data"
    },
    {
     "data": {
      "application/vnd.jupyter.widget-view+json": {
       "model_id": "225ed2370c1046b99c501d32d25827fd",
       "version_major": 2,
       "version_minor": 0
      },
      "text/plain": [
       "  0%|          | 0/27967 [00:00<?, ?it/s]"
      ]
     },
     "metadata": {},
     "output_type": "display_data"
    }
   ],
   "source": [
    "for file_pair_args in file_pairs:\n",
    "    print(file_pair_args['infile_name'])\n",
    "    res = count_encode_errors_in_file(**file_pair_args)"
   ]
  },
  {
   "cell_type": "code",
   "execution_count": 24,
   "id": "8eb8ba5e-4a5f-4cbc-8bc9-72ef88fa5443",
   "metadata": {},
   "outputs": [
    {
     "name": "stdout",
     "output_type": "stream",
     "text": [
      "./data/fulltext/train_major_cats_full.json.gz\n"
     ]
    },
    {
     "data": {
      "application/vnd.jupyter.widget-view+json": {
       "model_id": "048bcb0274314c569e26420314755821",
       "version_major": 2,
       "version_minor": 0
      },
      "text/plain": [
       "CID:   0%|          | 0/31753 [00:00<?, ?it/s]"
      ]
     },
     "metadata": {},
     "output_type": "display_data"
    },
    {
     "data": {
      "application/vnd.jupyter.widget-view+json": {
       "model_id": "d7fec79323fa4ed5b60b82e067e70e0d",
       "version_major": 2,
       "version_minor": 0
      },
      "text/plain": [
       "Empty:   0%|          | 0/31753 [00:00<?, ?it/s]"
      ]
     },
     "metadata": {},
     "output_type": "display_data"
    },
    {
     "data": {
      "application/vnd.jupyter.widget-view+json": {
       "model_id": "1c571dd17d1c4c6a986b780c1932744f",
       "version_major": 2,
       "version_minor": 0
      },
      "text/plain": [
       "  0%|          | 0/31753 [00:00<?, ?it/s]"
      ]
     },
     "metadata": {},
     "output_type": "display_data"
    }
   ],
   "source": [
    "for file_pair_args in file_pairs:\n",
    "    print(file_pair_args['infile_name'])\n",
    "    res = count_encode_errors_in_file(**file_pair_args)\n",
    "    break"
   ]
  },
  {
   "cell_type": "code",
   "execution_count": 20,
   "id": "466028f9-b146-4e33-8388-3afae4987d47",
   "metadata": {},
   "outputs": [
    {
     "name": "stdout",
     "output_type": "stream",
     "text": [
      "{\n",
      "    \"paper_id\": \"1207.4145\",\n",
      "    \"version\": \"1\",\n",
      "    \"yymm\": \"1207\",\n",
      "    \"created\": \"2012-07-11T14:55:26\",\n",
      "    \"title\": \"Joint discovery of haplotype blocks and complex trait associations from SNP sequences\",\n",
      "    \"abs_categories\": \"q-bio.GN cs.CE stat.ME\",\n",
      "    \"fulltext\": \"\\f\\f\\f\\f\\f\\f\\f\"\n",
      "}\n"
     ]
    },
    {
     "data": {
      "text/plain": [
       "'\\x0c\\x0c\\x0c\\x0c\\x0c\\x0c\\x0c'"
      ]
     },
     "execution_count": 20,
     "metadata": {},
     "output_type": "execute_result"
    }
   ],
   "source": [
    "for p in res['empty_ids']:\n",
    "    if len(p['fulltext']) > 0:\n",
    "        if 'abstract' in p: del p['abstract']\n",
    "        if 'prime_category' in p: del p['prime_category']\n",
    "        if 'major_category' in p: del p['major_category']\n",
    "        print(json.dumps(p, indent=4))\n",
    "        p['fulltext']\n",
    "    "
   ]
  },
  {
   "cell_type": "code",
   "execution_count": 28,
   "id": "77d979a0-c8bb-499d-93da-cb716e98eb1d",
   "metadata": {},
   "outputs": [
    {
     "data": {
      "text/plain": [
       "['1102.1185',\n",
       " '0909.3340',\n",
       " '1907.07491',\n",
       " '1309.7889',\n",
       " '0803.3591',\n",
       " '1604.03591',\n",
       " '1005.1992',\n",
       " '1902.00053',\n",
       " '1908.05994',\n",
       " '1304.6232',\n",
       " '1210.5886',\n",
       " '1802.10495',\n",
       " '1702.06987',\n",
       " '1103.5660']"
      ]
     },
     "execution_count": 28,
     "metadata": {},
     "output_type": "execute_result"
    }
   ],
   "source": [
    "[q['paper_id'] for q in res['cid_ids']]"
   ]
  },
  {
   "cell_type": "code",
   "execution_count": 26,
   "id": "4eca19c6-5686-4ddd-8c2d-9f91f6f4d706",
   "metadata": {},
   "outputs": [
    {
     "name": "stdout",
     "output_type": "stream",
     "text": [
      "{\n",
      "    \"paper_id\": \"1102.1185\",\n",
      "    \"version\": \"2\",\n",
      "    \"yymm\": \"1102\",\n",
      "    \"created\": \"2011-02-09T12:39:51\",\n",
      "    \"title\": \"Delta-like singularity in the Radial Laplace Operator and the Status of the Radial Schrodinger Equation\",\n",
      "    \"abs_categories\": \"math-ph math.MP quant-ph\",\n",
      "    \"fulltext\": \"(cid:68)(cid:101)(cid:108)(cid:116)(cid:97)(cid:45)(cid:108)(cid:105)(cid:107)(cid:1\"\n",
      "}\n",
      "{\n",
      "    \"paper_id\": \"0909.3340\",\n",
      "    \"version\": \"2\",\n",
      "    \"yymm\": \"0909\",\n",
      "    \"created\": \"2010-06-22T15:05:27\",\n",
      "    \"title\": \"Deconfined SU(2) vector fields at zero temperature\",\n",
      "    \"abs_categories\": \"hep-lat hep-th\",\n",
      "    \"fulltext\": \"(cid:0)(cid:2)(cid:3)\\u0003\\u0002(cid:6)\\u0002(cid:2)(cid:7) (cid:8)(cid:9)\\u0004(cid:11)\\u0005 (cid:13)(cid:\"\n",
      "}\n",
      "{\n",
      "    \"paper_id\": \"1907.07491\",\n",
      "    \"version\": \"1\",\n",
      "    \"yymm\": \"1907\",\n",
      "    \"created\": \"2019-07-17T13:12:43\",\n",
      "    \"title\": \"The cyclicality of loan loss provisions under three different accounting models: the United Kingdom, Spain, and Brazil\",\n",
      "    \"abs_categories\": \"econ.GN q-fin.EC\",\n",
      "    \"fulltext\": \"(cid:31)  e cyclicality of loan loss provisions under three di(cid:30) erent \\naccoun\"\n",
      "}\n",
      "{\n",
      "    \"paper_id\": \"1309.7889\",\n",
      "    \"version\": \"1\",\n",
      "    \"yymm\": \"1309\",\n",
      "    \"created\": \"2013-09-14T23:41:31\",\n",
      "    \"title\": \"Does Information Have Mass?\",\n",
      "    \"abs_categories\": \"physics.class-ph quant-ph\",\n",
      "    \"fulltext\": \"(cid:3)(cid:17)(cid:5)(cid:10)(cid:9)(cid:15)(cid:8)(cid:7)(cid:6)(cid:19)(cid:1)(ci\"\n",
      "}\n",
      "{\n",
      "    \"paper_id\": \"0803.3591\",\n",
      "    \"version\": \"1\",\n",
      "    \"yymm\": \"0803\",\n",
      "    \"created\": \"2008-03-25T16:31:14\",\n",
      "    \"title\": \"Persistent Cell Motion in the Absence of External Signals: A Search Strategy for Eukaryotic Cells\",\n",
      "    \"abs_categories\": \"q-bio.CB q-bio.QM\",\n",
      "    \"fulltext\": \"(cid:51)(cid:72)(cid:85)(cid:86)(cid:76)(cid:86)(cid:87)(cid:72)(cid:81)(cid:87)(cid\"\n",
      "}\n",
      "{\n",
      "    \"paper_id\": \"1604.03591\",\n",
      "    \"version\": \"1\",\n",
      "    \"yymm\": \"1604\",\n",
      "    \"created\": \"2016-04-12T21:21:46\",\n",
      "    \"title\": \"Protein sequestration versus Hill-type repression in circadian clock models\",\n",
      "    \"abs_categories\": \"q-bio.MN physics.bio-ph\",\n",
      "    \"fulltext\": \"(cid:1)(cid:1)\\n\\n \\n\\nThis paper is a preprint of a paper accepted by IET systems biolo\"\n",
      "}\n",
      "{\n",
      "    \"paper_id\": \"1005.1992\",\n",
      "    \"version\": \"1\",\n",
      "    \"yymm\": \"1005\",\n",
      "    \"created\": \"2010-05-12T05:29:40\",\n",
      "    \"title\": \"Analyzing the Performance of Active Queue Management Algorithms\",\n",
      "    \"abs_categories\": \"cs.PF\",\n",
      "    \"fulltext\": \"(cid:1)(cid:2)(cid:3)(cid:4)(cid:5)(cid:2)(cid:6)(cid:3)(cid:7)(cid:8)(cid:2)(cid:6)\"\n",
      "}\n",
      "{\n",
      "    \"paper_id\": \"1902.00053\",\n",
      "    \"version\": \"3\",\n",
      "    \"yymm\": \"1902\",\n",
      "    \"created\": \"2019-10-24T22:17:55\",\n",
      "    \"title\": \"Quantifiable & Comparable Evaluations of Cyber Defensive Capabilities: A Survey & Novel, Unified Approach\",\n",
      "    \"abs_categories\": \"cs.CR\",\n",
      "    \"fulltext\": \"(cid:131)antifiable & Comparable Evaluations of Cyber Defensive\\nCapabilities:\\nA Surv\"\n",
      "}\n",
      "{\n",
      "    \"paper_id\": \"1908.05994\",\n",
      "    \"version\": \"2\",\n",
      "    \"yymm\": \"1908\",\n",
      "    \"created\": \"2019-08-27T09:11:01\",\n",
      "    \"title\": \"The Next 700 Policy Miners: A Universal Method for Building Policy Miners\",\n",
      "    \"abs_categories\": \"cs.CR\",\n",
      "    \"fulltext\": \"(cid:140)e Next 700 Policy Miners: A Universal Method for Building Policy Miners\\n\\nCa\"\n",
      "}\n",
      "{\n",
      "    \"paper_id\": \"1304.6232\",\n",
      "    \"version\": \"1\",\n",
      "    \"yymm\": \"1304\",\n",
      "    \"created\": \"2013-04-23T11:00:45\",\n",
      "    \"title\": \"L2/L2-foreach sparse recovery with low risk\",\n",
      "    \"abs_categories\": \"cs.DS\",\n",
      "    \"fulltext\": \"\\n(cid:96)2/(cid:96)2-foreach sparse recovery with low risk\\u2217\\n\\n(PRELIMINARY VERSION)\\n\\n\"\n",
      "}\n",
      "{\n",
      "    \"paper_id\": \"1210.5886\",\n",
      "    \"version\": \"1\",\n",
      "    \"yymm\": \"1210\",\n",
      "    \"created\": \"2012-10-22T13:10:09\",\n",
      "    \"title\": \"Approximate analytical solution of the Yukawa potential with arbitrary angular momenta\",\n",
      "    \"abs_categories\": \"quant-ph\",\n",
      "    \"fulltext\": \"(cid:1)(cid:2)(cid:2)(cid:3)(cid:4)(cid:5)(cid:6)(cid:7)(cid:8)(cid:9)(cid:10)(cid:1\"\n",
      "}\n",
      "{\n",
      "    \"paper_id\": \"1802.10495\",\n",
      "    \"version\": \"2\",\n",
      "    \"yymm\": \"1802\",\n",
      "    \"created\": \"2018-09-25T18:34:47\",\n",
      "    \"title\": \"Pop Music Highlighter: Marking the Emotion Keypoints\",\n",
      "    \"abs_categories\": \"eess.AS cs.AI cs.MM cs.SD\",\n",
      "    \"fulltext\": \"(cid:55)(cid:44)(cid:54)(cid:48)(cid:44)(cid:53)\\n\\nHuang, Y.-S., et al. (2018). Pop M\"\n",
      "}\n",
      "{\n",
      "    \"paper_id\": \"1702.06987\",\n",
      "    \"version\": \"1\",\n",
      "    \"yymm\": \"1702\",\n",
      "    \"created\": \"2017-02-22T19:59:31\",\n",
      "    \"title\": \"Dynamics of the multi-soliton waves in the sine-Gordon model with two identical point impurities\",\n",
      "    \"abs_categories\": \"nlin.PS cond-mat.other\",\n",
      "    \"fulltext\": \"(cid:0)(cid:1)(cid:2)(cid:1)(cid:0)(cid:1)(cid:1)Dynamics of the multi-soliton waves\"\n",
      "}\n",
      "{\n",
      "    \"paper_id\": \"1103.5660\",\n",
      "    \"version\": \"1\",\n",
      "    \"yymm\": \"1103\",\n",
      "    \"created\": \"2011-03-29T14:39:30\",\n",
      "    \"title\": \"Multivariate Modeling of Daily REIT Volatility\",\n",
      "    \"abs_categories\": \"q-fin.ST\",\n",
      "    \"fulltext\": \"(cid:1)(cid:2)(cid:3)(cid:4)(cid:5)(cid:6)(cid:7)(cid:8)(cid:5)(cid:7)(cid:4)(cid:9)\"\n",
      "}\n"
     ]
    }
   ],
   "source": [
    "for q in res['cid_ids']:\n",
    "    p = q.copy()\n",
    "    if len(p['fulltext']) > 0:\n",
    "        if 'abstract' in p: del p['abstract']\n",
    "        if 'prime_category' in p: del p['prime_category']\n",
    "        if 'major_category' in p: del p['major_category']\n",
    "        p['fulltext'] = p['fulltext'][:7*12]\n",
    "        print(json.dumps(p, indent=4))\n",
    "\n",
    "    "
   ]
  },
  {
   "cell_type": "code",
   "execution_count": null,
   "id": "6f43634e-55a4-4561-a6e5-bc648f55f213",
   "metadata": {},
   "outputs": [],
   "source": []
  }
 ],
 "metadata": {
  "kernelspec": {
   "display_name": "Python 3 (ipykernel)",
   "language": "python",
   "name": "python3"
  },
  "language_info": {
   "codemirror_mode": {
    "name": "ipython",
    "version": 3
   },
   "file_extension": ".py",
   "mimetype": "text/x-python",
   "name": "python",
   "nbconvert_exporter": "python",
   "pygments_lexer": "ipython3",
   "version": "3.9.9"
  }
 },
 "nbformat": 4,
 "nbformat_minor": 5
}
