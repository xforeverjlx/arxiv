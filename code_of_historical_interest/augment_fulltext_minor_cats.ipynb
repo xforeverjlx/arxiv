{
 "cells": [
  {
   "cell_type": "code",
   "execution_count": 1,
   "id": "0474ac1c-59d1-4cb8-bb80-4ce35ed73da3",
   "metadata": {},
   "outputs": [],
   "source": [
    "#import os\n",
    "#os.system('GOOGLE_APPLICATION_CREDENTIALS=\"/home/user/Downloads/service-account-file.json\"')"
   ]
  },
  {
   "cell_type": "code",
   "execution_count": 3,
   "id": "e45c2192",
   "metadata": {},
   "outputs": [
    {
     "name": "stdout",
     "output_type": "stream",
     "text": [
      "Requirement already satisfied: pandas in /Users/hanz/Desktop/Code/full_text_sample/.venv/lib/python3.9/site-packages (2.2.1)\n",
      "Requirement already satisfied: numpy<2,>=1.22.4 in /Users/hanz/Desktop/Code/full_text_sample/.venv/lib/python3.9/site-packages (from pandas) (1.26.4)\n",
      "Requirement already satisfied: python-dateutil>=2.8.2 in /Users/hanz/Desktop/Code/full_text_sample/.venv/lib/python3.9/site-packages (from pandas) (2.9.0.post0)\n",
      "Requirement already satisfied: pytz>=2020.1 in /Users/hanz/Desktop/Code/full_text_sample/.venv/lib/python3.9/site-packages (from pandas) (2024.1)\n",
      "Requirement already satisfied: tzdata>=2022.7 in /Users/hanz/Desktop/Code/full_text_sample/.venv/lib/python3.9/site-packages (from pandas) (2024.1)\n",
      "Requirement already satisfied: six>=1.5 in /Users/hanz/Desktop/Code/full_text_sample/.venv/lib/python3.9/site-packages (from python-dateutil>=2.8.2->pandas) (1.16.0)\n",
      "Requirement already satisfied: numpy in /Users/hanz/Desktop/Code/full_text_sample/.venv/lib/python3.9/site-packages (1.26.4)\n",
      "Requirement already satisfied: sqlalchemy in /Users/hanz/Desktop/Code/full_text_sample/.venv/lib/python3.9/site-packages (2.0.28)\n",
      "Requirement already satisfied: typing-extensions>=4.6.0 in /Users/hanz/Desktop/Code/full_text_sample/.venv/lib/python3.9/site-packages (from sqlalchemy) (4.10.0)\n",
      "Requirement already satisfied: tqdm in /Users/hanz/Desktop/Code/full_text_sample/.venv/lib/python3.9/site-packages (4.66.2)\n"
     ]
    }
   ],
   "source": [
    "!pip install pandas\n",
    "!pip install numpy\n",
    "!pip install sqlalchemy\n",
    "!pip install tqdm"
   ]
  },
  {
   "cell_type": "code",
   "execution_count": 1,
   "id": "e3c67bdd-1d1c-4159-a1da-857ce1d92f14",
   "metadata": {},
   "outputs": [],
   "source": [
    "import pandas as pd\n",
    "import numpy as np\n",
    "import vaex\n",
    "\n",
    "import glob\n",
    "import itertools as itr\n",
    "import collections as coll\n",
    "\n",
    "import time\n",
    "\n",
    "import sqlalchemy as sqla\n",
    "import types\n",
    "import json"
   ]
  },
  {
   "cell_type": "code",
   "execution_count": 13,
   "id": "0dd8225b-2709-4d6a-a740-7471614de930",
   "metadata": {},
   "outputs": [],
   "source": [
    "%%capture\n",
    "from tqdm.auto import trange, tqdm\n",
    "tqdm.pandas()"
   ]
  },
  {
   "cell_type": "code",
   "execution_count": 3,
   "id": "2c6d9e2b-b3c1-4cbf-8cd9-98b64888a10b",
   "metadata": {},
   "outputs": [],
   "source": [
    "from IPython.core.interactiveshell import InteractiveShell\n",
    "InteractiveShell.ast_node_interactivity = \"all\""
   ]
  },
  {
   "cell_type": "code",
   "execution_count": 4,
   "id": "60e736f2-e428-4606-824b-e85b3dcd2e50",
   "metadata": {
    "lines_to_end_of_cell_marker": 2
   },
   "outputs": [
    {
     "data": {
      "text/plain": [
       "6"
      ]
     },
     "execution_count": 4,
     "metadata": {},
     "output_type": "execute_result"
    },
    {
     "data": {
      "text/plain": [
       "151"
      ]
     },
     "execution_count": 4,
     "metadata": {},
     "output_type": "execute_result"
    },
    {
     "data": {
      "text/plain": [
       "157"
      ]
     },
     "execution_count": 4,
     "metadata": {},
     "output_type": "execute_result"
    }
   ],
   "source": [
    "# Replace the first with the second category\n",
    "CATEGORY_ALIASES = {\n",
    "    'math.MP': 'math-ph',\n",
    "    'stat.TH': 'math.ST',\n",
    "    'math.IT': 'cs.IT',\n",
    "    'q-fin.EC': 'econ.GN',\n",
    "    'cs.SY': 'eess.SY',\n",
    "    'cs.NA': 'math.NA'\n",
    "}\n",
    "\n",
    "# Used subject categories, with aliases removed.\n",
    "ACTIVE_CATEGORIES = [\n",
    "    'astro-ph.CO','astro-ph.EP','astro-ph.GA',\n",
    "    'astro-ph.HE','astro-ph.IM','astro-ph.SR',\n",
    "    'cond-mat.dis-nn','cond-mat.mes-hall','cond-mat.mtrl-sci',\n",
    "    'cond-mat.other','cond-mat.quant-gas','cond-mat.soft',\n",
    "    'cond-mat.stat-mech','cond-mat.str-el','cond-mat.supr-con',\n",
    "    'cs.AI','cs.AR','cs.CC','cs.CE','cs.CG','cs.CL','cs.CR',\n",
    "    'cs.CV','cs.CY','cs.DB','cs.DC','cs.DL','cs.DM','cs.DS',\n",
    "    'cs.ET','cs.FL','cs.GL','cs.GR','cs.GT','cs.HC','cs.IR',\n",
    "    'cs.IT','cs.LG','cs.LO','cs.MA','cs.MM','cs.MS','cs.NE',\n",
    "    'cs.NI','cs.OH','cs.OS','cs.PF','cs.PL','cs.RO','cs.SC',\n",
    "    'cs.SD','cs.SE','cs.SI',\n",
    "    'econ.EM','econ.GN','econ.TH',\n",
    "    'eess.AS','eess.IV','eess.SP','eess.SY',\n",
    "    'gr-qc',\n",
    "    'hep-ex','hep-lat','hep-ph','hep-th',\n",
    "    'math-ph','math.AC','math.AG','math.AP',\n",
    "    'math.AT','math.CA','math.CO','math.CT',\n",
    "    'math.CV','math.DG','math.DS','math.FA',\n",
    "    'math.GM','math.GN','math.GR','math.GT',\n",
    "    'math.HO','math.KT','math.LO','math.MG',\n",
    "    'math.NA','math.NT','math.OA','math.OC',\n",
    "    'math.PR','math.QA','math.RA','math.RT',\n",
    "    'math.SG','math.SP','math.ST',\n",
    "    'nlin.AO','nlin.CD','nlin.CG','nlin.PS','nlin.SI',\n",
    "    'nucl-ex','nucl-th',\n",
    "    'physics.acc-ph','physics.ao-ph','physics.app-ph',\n",
    "    'physics.atm-clus','physics.atom-ph','physics.bio-ph',\n",
    "    'physics.chem-ph','physics.class-ph','physics.comp-ph',\n",
    "    'physics.data-an','physics.ed-ph','physics.flu-dyn',\n",
    "    'physics.gen-ph','physics.geo-ph','physics.hist-ph',\n",
    "    'physics.ins-det','physics.med-ph','physics.optics',\n",
    "    'physics.plasm-ph','physics.pop-ph','physics.soc-ph',\n",
    "    'physics.space-ph',\n",
    "    'q-bio.BM','q-bio.CB','q-bio.GN','q-bio.MN','q-bio.NC',\n",
    "    'q-bio.OT','q-bio.PE','q-bio.QM','q-bio.SC','q-bio.TO',\n",
    "    'q-fin.CP','q-fin.GN','q-fin.MF','q-fin.PM',\n",
    "    'q-fin.PR','q-fin.RM','q-fin.ST','q-fin.TR',\n",
    "    'quant-ph',\n",
    "    'stat.AP','stat.CO','stat.ME','stat.ML','stat.OT',\n",
    "    'dg-ga', 'astro-ph'\n",
    "]\n",
    "\n",
    "CAT_REMAPPER = {x:x for x in ACTIVE_CATEGORIES} | CATEGORY_ALIASES\n",
    "\n",
    "\n",
    "len(CATEGORY_ALIASES)\n",
    "len(ACTIVE_CATEGORIES)\n",
    "len(CAT_REMAPPER)"
   ]
  },
  {
   "cell_type": "code",
   "execution_count": 5,
   "id": "6fbc0576-5208-4dfb-af4e-0ab980cdcabe",
   "metadata": {},
   "outputs": [],
   "source": [
    "train_df = vaex.open(\"./data/fulltext/train_minor_cats.hdf5\")\n",
    "test_df = vaex.open(\"./data/fulltext/test_minor_cats.hdf5\")"
   ]
  },
  {
   "cell_type": "code",
   "execution_count": 6,
   "id": "68d2ad14-fab8-4326-9062-dca96438f399",
   "metadata": {},
   "outputs": [
    {
     "data": {
      "text/plain": [
       "(112026, 9)"
      ]
     },
     "execution_count": 6,
     "metadata": {},
     "output_type": "execute_result"
    }
   ],
   "source": [
    "train_df.shape"
   ]
  },
  {
   "cell_type": "code",
   "execution_count": null,
   "id": "55b3f799-f02b-4e02-a963-0cab2097cc03",
   "metadata": {},
   "outputs": [],
   "source": []
  },
  {
   "cell_type": "code",
   "execution_count": 7,
   "id": "28d594ec-ac10-4e1f-9df1-1277217a7bc3",
   "metadata": {},
   "outputs": [],
   "source": [
    "from google.cloud import storage as gs\n",
    "from google.cloud import exceptions as gerr"
   ]
  },
  {
   "cell_type": "code",
   "execution_count": 8,
   "id": "b449922a-b660-4545-879d-a9f3419a5180",
   "metadata": {},
   "outputs": [],
   "source": [
    "key_file_path = \"/home/cjc73/.credentials/arxiv-production-e9574603e738.json\"\n",
    "client = gs.Client.from_service_account_json(key_file_path)\n",
    "\n",
    "def get_last_version(paper):\n",
    "    prefix_path = '/'.join([\n",
    "        'txt',\n",
    "        paper['major_category'] if '/' in paper['paper_id'] else 'arxiv', \n",
    "        paper['yymm'],\n",
    "        paper['paper_id'].split('/')[-1],\n",
    "        #\"1001\",\n",
    "        #paper['yymm'],\n",
    "        #paper['']\n",
    "    ])\n",
    "    blobs = client.list_blobs(\n",
    "        'arxiv-production-data', \n",
    "        prefix=prefix_path\n",
    "    )\n",
    "    return max(blobs, key=lambda x: x.name) #latest version"
   ]
  },
  {
   "cell_type": "markdown",
   "id": "29d7dc5f-c8e2-438e-bed1-c2bc54bfeeef",
   "metadata": {},
   "source": [
    "Need to extract the components from record to build a path and test with different permissions. \n",
    "\n",
    "    "
   ]
  },
  {
   "cell_type": "code",
   "execution_count": 9,
   "id": "a8c2b98c-8de9-46dd-92f1-48dacf503f6e",
   "metadata": {},
   "outputs": [
    {
     "data": {
      "text/plain": [
       "112026"
      ]
     },
     "execution_count": 9,
     "metadata": {},
     "output_type": "execute_result"
    }
   ],
   "source": [
    "train_df.shape[0]"
   ]
  },
  {
   "cell_type": "code",
   "execution_count": 11,
   "id": "cb22b81a-6d89-413f-8685-204b3cc193af",
   "metadata": {},
   "outputs": [
    {
     "data": {
      "text/plain": [
       "<Blob: arxiv-production-data, txt/arxiv/1501/1501.03486v2.txt, 1628901958760505>"
      ]
     },
     "execution_count": 11,
     "metadata": {},
     "output_type": "execute_result"
    }
   ],
   "source": [
    "#paper = dict(zip(train_df.column_names, train_df[0]))\n",
    "#get_last_version(paper)"
   ]
  },
  {
   "cell_type": "code",
   "execution_count": null,
   "id": "56e992b7-601b-4ccf-b6fa-5c02952a2179",
   "metadata": {
    "lines_to_next_cell": 0
   },
   "outputs": [],
   "source": [
    "with open('data/fulltext/train_minor_cats_full.json', 'w') as outfile, \\\n",
    "    tqdm(total=train_df.shape[0]) as err_bar:\n",
    "    \n",
    "    fail_count = 0\n",
    "    fail_idx = []\n",
    "    decode_fail_count = 0\n",
    "    decode_fail_idx = []\n",
    "\n",
    "    for i, row in tqdm(enumerate(train_df.iterrows()), total=train_df.shape[0]):\n",
    "        if i==0: print(row)\n",
    "        paper = row[1]\n",
    "        try:\n",
    "            blob = get_last_version(paper)\n",
    "            textbytes = blob.download_as_bytes()\n",
    "        except (ValueError, gerr.GoogleCloudError):\n",
    "            fail_count += 1\n",
    "            fail_idx.append(row[0])\n",
    "            _ = err_bar.update(err_bar.n + 1)\n",
    "            continue\n",
    "            \n",
    "        except gerr.GoogleCloudError:\n",
    "            fail_count += 1\n",
    "            fail_idx.append(row[0])\n",
    "            _ = err_bar.update(err_bar.n + 1)\n",
    "        try: \n",
    "            text_string = textbytes.decode('utf-8')\n",
    "            paper['fulltext'] = text_string  \n",
    "        except UnicodeDecodeError:\n",
    "            try:\n",
    "                text_string = textbytes.decode(\"windows-1252\")\n",
    "                paper['fulltext'] = text_string  \n",
    "            except:\n",
    "                try:\n",
    "                    text_string = textbytes.decode(\"cp1251\")\n",
    "                    paper['fulltext'] = text_string  \n",
    "                except:\n",
    "                    decode_fail_count += 1\n",
    "                    decode_fail_idx.append(row[0])\n",
    "                    _ = err_bar.update(err_bar.n + 1)\n",
    "\n",
    "        paper['created'] = paper['created'].isoformat()\n",
    "        _ = outfile.write(\n",
    "                json.dumps(\n",
    "                    paper, \n",
    "                    ensure_ascii=False\n",
    "                )\n",
    "            )\n",
    "        _ = outfile.write('\\n')\n",
    "        time.sleep(.3)\n",
    "\n",
    "print(f\"{fail_count} errors of {i+1} completed.\")\n",
    "print(f\"{decode_fail_count} decode fails of {i+1} completed.\")\n",
    "    \n",
    "        \n",
    "with open('data/fulltext/train_minor_fail_idx.txt', 'w') as outfile:\n",
    "    for x in fail_idx:\n",
    "        outfile.write(f\"{x}\\n\")         \n"
   ]
  },
  {
   "cell_type": "code",
   "execution_count": null,
   "id": "db654420-0221-4803-a5a6-22049b117f29",
   "metadata": {
    "lines_to_next_cell": 2
   },
   "outputs": [],
   "source": []
  },
  {
   "cell_type": "code",
   "execution_count": null,
   "id": "3d6eb28b-ba24-415f-90b5-1cfcf630ea9f",
   "metadata": {},
   "outputs": [
    {
     "data": {
      "application/vnd.jupyter.widget-view+json": {
       "model_id": "10d9c28b95084adf8cf7d5195b401735",
       "version_major": 2,
       "version_minor": 0
      },
      "text/plain": [
       "  0%|          | 0/7938 [00:00<?, ?it/s]"
      ]
     },
     "metadata": {},
     "output_type": "display_data"
    },
    {
     "data": {
      "application/vnd.jupyter.widget-view+json": {
       "model_id": "036b0330ecc745cbacc18f23c3b4ae29",
       "version_major": 2,
       "version_minor": 0
      },
      "text/plain": [
       "  0%|          | 0/7938 [00:00<?, ?it/s]"
      ]
     },
     "metadata": {},
     "output_type": "display_data"
    }
   ],
   "source": [
    "with open('data/fulltext/test_minor_cats_full.json', 'w') as outfile, \\\n",
    "    tqdm(total=test_df.shape[0]) as err_bar:\n",
    "    \n",
    "    fail_count = 0\n",
    "    fail_idx = []\n",
    "    decode_fail_count = 0\n",
    "    decode_fail_idx = []\n",
    "\n",
    "    for i, row in tqdm(enumerate(test_df.iterrows()), total=test_df.shape[0]):\n",
    "        #print(row)\n",
    "        paper = row[1]\n",
    "        try:\n",
    "            blob = get_last_version(paper)\n",
    "            textbytes = blob.download_as_bytes()\n",
    "        except (ValueError, gerr.GoogleCloudError):\n",
    "            fail_count += 1\n",
    "            fail_idx.append(row[0])\n",
    "            _ = err_bar.update(err_bar.n + 1)\n",
    "            continue\n",
    "            \n",
    "        except gerr.GoogleCloudError:\n",
    "            fail_count += 1\n",
    "            fail_idx.append(row[0])\n",
    "            _ = err_bar.update(err_bar.n + 1)\n",
    "        try: \n",
    "            text_string = textbytes.decode('utf-8')\n",
    "            paper['fulltext'] = text_string  \n",
    "        except UnicodeDecodeError:\n",
    "            try:\n",
    "                text_string = textbytes.decode(\"windows-1252\")\n",
    "                paper['fulltext'] = text_string  \n",
    "            except:\n",
    "                try:\n",
    "                    text_string = textbytes.decode(\"cp1251\")\n",
    "                    paper['fulltext'] = text_string  \n",
    "                except:\n",
    "                    decode_fail_count += 1\n",
    "                    decode_fail_idx.append(row[0])\n",
    "                    _ = err_bar.update(err_bar.n + 1)\n",
    "\n",
    "        paper['created'] = paper['created'].isoformat()\n",
    "        _ = outfile.write(\n",
    "                json.dumps(\n",
    "                    paper, \n",
    "                    ensure_ascii=False\n",
    "                )\n",
    "            )\n",
    "        _ = outfile.write('\\n')\n",
    "        time.sleep(.3)\n",
    "\n",
    "print(f\"{fail_count} errors of {i+1} completed.\")\n",
    "print(f\"{decode_fail_count} decode fails of {i+1} completed.\")\n",
    "    \n",
    "with open('data/fulltext/test_minor_fail_idx.txt', 'w') as outfile:\n",
    "    for x in fail_idx:\n",
    "        outfile.write(f\"{x}\\n\")         \n",
    "        "
   ]
  }
 ],
 "metadata": {
  "jupytext": {
   "formats": "ipynb,py:light"
  },
  "kernelspec": {
   "display_name": "Python 3 (ipykernel)",
   "language": "python",
   "name": "python3"
  },
  "language_info": {
   "codemirror_mode": {
    "name": "ipython",
    "version": 3
   },
   "file_extension": ".py",
   "mimetype": "text/x-python",
   "name": "python",
   "nbconvert_exporter": "python",
   "pygments_lexer": "ipython3",
   "version": "3.9.13"
  }
 },
 "nbformat": 4,
 "nbformat_minor": 5
}
